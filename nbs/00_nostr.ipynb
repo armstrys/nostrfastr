{
 "cells": [
  {
   "cell_type": "code",
   "execution_count": null,
   "metadata": {},
   "outputs": [],
   "source": [
    "#| default_exp nostr"
   ]
  },
  {
   "attachments": {},
   "cell_type": "markdown",
   "metadata": {},
   "source": [
    "# nostr\n",
    "\n",
    "> key adjustments to python-nostr to make sure things work properly"
   ]
  },
  {
   "attachments": {},
   "cell_type": "markdown",
   "metadata": {},
   "source": [
    "This repository relies heavily on [python-nostr](https://github.com/jeffthibault/python-nostr), which is still in active development. There are a few features that are not yet integrated into the python-nostr library that I will add here. The classes listed in here will be used in the rebroadcastr client instead of using the classes directly from python nostr"
   ]
  },
  {
   "cell_type": "code",
   "execution_count": null,
   "metadata": {},
   "outputs": [],
   "source": [
    "#| export\n",
    "from nostr import key\n",
    "from nostr import bech32\n",
    "from fastcore.utils import *"
   ]
  },
  {
   "cell_type": "code",
   "execution_count": null,
   "metadata": {},
   "outputs": [],
   "source": [
    "#| hide\n",
    "from nbdev.showdoc import *"
   ]
  },
  {
   "attachments": {},
   "cell_type": "markdown",
   "metadata": {},
   "source": [
    "## PrivateKey class\n",
    "adding `from_hex` method"
   ]
  },
  {
   "cell_type": "code",
   "execution_count": null,
   "metadata": {},
   "outputs": [],
   "source": [
    "#| export\n",
    "\n",
    "class PrivateKey(key.PrivateKey):\n",
    "    def __init__(self, *args, **kwargs):\n",
    "        super().__init__(*args, **kwargs)\n",
    "\n",
    "    @classmethod\n",
    "    def from_hex(cls, hex: str) -> 'PrivateKey':\n",
    "        return cls(bytes.fromhex(hex))"
   ]
  },
  {
   "attachments": {},
   "cell_type": "markdown",
   "metadata": {},
   "source": [
    "### tests\n",
    "make sure we can generate private keys in various ways"
   ]
  },
  {
   "cell_type": "code",
   "execution_count": null,
   "metadata": {},
   "outputs": [],
   "source": [
    "private_key = PrivateKey()\n",
    "\n",
    "assert private_key.hex() == PrivateKey.from_hex(private_key.hex()).hex()\n",
    "assert private_key.bech32() == PrivateKey.from_nsec(private_key.bech32()).bech32()"
   ]
  },
  {
   "attachments": {},
   "cell_type": "markdown",
   "metadata": {},
   "source": [
    "## PublicKey class\n",
    "adding `from_hex` and `from_npub` methods"
   ]
  },
  {
   "cell_type": "code",
   "execution_count": null,
   "metadata": {},
   "outputs": [],
   "source": [
    "#| export\n",
    "from nostr import bech32\n",
    "\n",
    "\n",
    "class PublicKey(key.PublicKey):\n",
    "    def __init__(self, *args, **kwargs):\n",
    "        super().__init__(*args, **kwargs)\n",
    "    \n",
    "    @classmethod\n",
    "    def from_npub(cls, npub: str):\n",
    "        \"\"\" Load a PublicKey from its bech32/nsec form \"\"\"\n",
    "        hrp, data, spec = bech32.bech32_decode(npub)\n",
    "        raw_bytes = bech32.convertbits(data, 5, 8)[:-1]\n",
    "        return cls(bytes(raw_bytes))\n",
    "\n",
    "    @classmethod\n",
    "    def from_hex(cls, hex: str) -> 'PrivateKey':\n",
    "        return cls(bytes.fromhex(hex))"
   ]
  },
  {
   "attachments": {},
   "cell_type": "markdown",
   "metadata": {},
   "source": [
    "### tests\n",
    "make sure we can generate public keys in various ways"
   ]
  },
  {
   "cell_type": "code",
   "execution_count": null,
   "metadata": {},
   "outputs": [],
   "source": [
    "public_key = PublicKey(private_key.raw_secret)\n",
    "\n",
    "assert public_key.hex() == PublicKey.from_hex(public_key.hex()).hex()\n",
    "assert public_key.bech32() == PublicKey.from_npub(public_key.bech32()).bech32()"
   ]
  },
  {
   "cell_type": "code",
   "execution_count": null,
   "metadata": {},
   "outputs": [],
   "source": [
    "#| hide\n",
    "import nbdev; nbdev.nbdev_export()"
   ]
  }
 ],
 "metadata": {
  "kernelspec": {
   "display_name": "rebroadcastr-nbdev",
   "language": "python",
   "name": "python3"
  }
 },
 "nbformat": 4,
 "nbformat_minor": 4
}
