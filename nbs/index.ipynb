{
 "cells": [
  {
   "cell_type": "code",
   "execution_count": null,
   "metadata": {},
   "outputs": [],
   "source": [
    "#| hide\n",
    "from rebroadcastr.core import *"
   ]
  },
  {
   "attachments": {},
   "cell_type": "markdown",
   "metadata": {},
   "source": [
    "# rebroadcastr\n",
    "\n",
    "> a basic nostr client that rebroadcasts user events to a set list of relays if they are not present"
   ]
  },
  {
   "attachments": {},
   "cell_type": "markdown",
   "metadata": {},
   "source": [
    "## rebroadcastr\n",
    "\n",
    "### why does this exist and what is the point?\n",
    " - first and foremost this is a development project for me to get better at different components of software development. I hope this library can also be useful.\n",
    " - In my experience using [nostr](https://github.com/nostr-protocol/nostr), I have seen very inconsistent delivery of events to relays by different clients for all kinds (notes, recommended relays, metadata, contact lists). This library attempts to solve that by establishing a simple client that searches a set of relays for any user and rebroadcasts the event if it didn't get published to a certain relay.\n",
    " - I am not sure how I feel about the concept of rebroadcasting. It is very interesting that within the specification of the nostr protocol does not make any rules about who can broadcast an event message. As long as the message content has not been altered the message and the signature are still valid no matter who is broadcasting it to what relay. Whether this is good or bad is up for discussion, but it is the current reality that this sort of usage is currently possible. A few interesting observations that result from this simple fact.\n",
    " - broadcasting nodes can be used to stabilize a user and his/her followers across relays consistently this is desireable in at least two situations\n",
    "    - clients used by the user are not consistently reading and writing to all relays\n",
    "    - user wants to increase the relay overlap of his followed content even if a followed contact is not broadcasting to many similar relays\n",
    "    - user is creating events from a device that has low-bandwidth and can only publish to a smaller set of relays\n",
    "    - (if/when pay per relay broadcast is implemented) the user may want to publish right away to a small subset of relays and broadcast to additional relays when demand is low\n",
    "  - rebroadcasting could have significant impacts on relay usage - because a rebroadcasting client does not have to remain fast and snappy like a client with a user interface it can broadcast more user data across more relays. Since anyone can broadcast data from any public key to any relay this could result in significantly more data duplication that harms less popular nodes."
   ]
  },
  {
   "cell_type": "markdown",
   "metadata": {},
   "source": [
    "## Install"
   ]
  },
  {
   "cell_type": "markdown",
   "metadata": {},
   "source": [
    "```sh\n",
    "pip install rebroadcastr\n",
    "```"
   ]
  },
  {
   "attachments": {},
   "cell_type": "markdown",
   "metadata": {},
   "source": [
    "## How to use (TO-DO)"
   ]
  },
  {
   "cell_type": "markdown",
   "metadata": {},
   "source": [
    "Fill me in please! Don't forget code examples:"
   ]
  },
  {
   "cell_type": "code",
   "execution_count": null,
   "metadata": {},
   "outputs": [
    {
     "data": {
      "text/plain": [
       "2"
      ]
     },
     "execution_count": null,
     "metadata": {},
     "output_type": "execute_result"
    }
   ],
   "source": [
    "1+1"
   ]
  },
  {
   "cell_type": "code",
   "execution_count": null,
   "metadata": {},
   "outputs": [],
   "source": []
  }
 ],
 "metadata": {
  "kernelspec": {
   "display_name": "Python 3",
   "language": "python",
   "name": "python3"
  }
 },
 "nbformat": 4,
 "nbformat_minor": 4
}
