{
 "cells": [
  {
   "attachments": {},
   "cell_type": "markdown",
   "metadata": {},
   "source": [
    "# nostrfastr\n",
    "\n",
    "> Getting users into nostr, fastr. A basic nostr `Client` class built in the nbdev (fast) framework to get people started nostr."
   ]
  },
  {
   "attachments": {},
   "cell_type": "markdown",
   "metadata": {},
   "source": [
    "### What is the point?\n",
    " - this package is a learning tool for me and hopefully others\n",
    " - this package attempts to be a well documented and tested instance of a very basic client framework in nostr that can help others understand nostr quickly or get started sending messages in minutes.\n",
    " - I use the basic client in a notebook to explore the idea having a sort of \"sentinel\" node that serves as a barebones client to rebroadcast user data across additional nostr relays. While this is a relatively simple concept I haven't seen much discussion around the potential benefits and implications.\n",
    "\n",
    "### Why nbdev?\n",
    "This library uses the [nbdev](https://nbdev.fast.ai/) framework to aggregate some useful tools from [python-nostr](https://github.com/jeffthibault/python-nostr) into a more structured `client` class that could serve as the basis for other python tools. `nbdev` is great because it allows for relatively easy development of robust software with very readable and explanatory documentation. It will almost certainly not be the most perfomant way to implement much of what I am doing here, but I hope it can make the [nostr](https://github.com/nostr-protocol/nostr) protocol more accessible to a wider audience.\n"
   ]
  },
  {
   "cell_type": "markdown",
   "metadata": {},
   "source": [
    "## Install"
   ]
  },
  {
   "attachments": {},
   "cell_type": "markdown",
   "metadata": {},
   "source": [
    "> pip install is not yet implemented, but will be coming soon\n",
    "\n",
    "```sh\n",
    "pip install nostrfastr\n",
    "```\n",
    "\n",
    "or alternatively, clone the github repositor [and refer to this guide](https://nbdev.fast.ai/tutorials/tutorial.html) to get started working in nbdev."
   ]
  },
  {
   "attachments": {},
   "cell_type": "markdown",
   "metadata": {},
   "source": [
    "## How to use"
   ]
  },
  {
   "cell_type": "code",
   "execution_count": null,
   "metadata": {},
   "outputs": [],
   "source": [
    "from nostrfastr.client import Client"
   ]
  },
  {
   "attachments": {},
   "cell_type": "markdown",
   "metadata": {},
   "source": [
    "Connect and perform an operation..."
   ]
  },
  {
   "cell_type": "code",
   "execution_count": null,
   "metadata": {},
   "outputs": [
    {
     "name": "stdout",
     "output_type": "stream",
     "text": [
      "Are we connected?\n",
      "\t {'wss://relay.damus.io': True}\n",
      "Are we connected?\n",
      "\t {'wss://relay.damus.io': False}\n"
     ]
    }
   ],
   "source": [
    "with Client(relay_urls=['wss://relay.damus.io']) as client:\n",
    "    print('Are we connected?')\n",
    "    print('\\t', client.relay_manager.connection_statuses)\n",
    "print('Are we connected?')\n",
    "print('\\t', client.relay_manager.connection_statuses)"
   ]
  },
  {
   "attachments": {},
   "cell_type": "markdown",
   "metadata": {},
   "source": [
    "And use the client to build something useful with nostr - like a bot that notifies you of your python processing status on long code runs"
   ]
  },
  {
   "cell_type": "code",
   "execution_count": null,
   "metadata": {},
   "outputs": [],
   "source": [
    "from nostrfastr.notifyr import notifyr"
   ]
  },
  {
   "cell_type": "code",
   "execution_count": null,
   "metadata": {},
   "outputs": [],
   "source": [
    "@notifyr\n",
    "def raise_error():\n",
    "    raise Exception('Oh no! Process failed!')\n",
    "\n",
    "@notifyr\n",
    "def success():\n",
    "    return 1+1"
   ]
  }
 ],
 "metadata": {
  "kernelspec": {
   "display_name": "rebroadcastr-nbdev",
   "language": "python",
   "name": "python3"
  }
 },
 "nbformat": 4,
 "nbformat_minor": 4
}
