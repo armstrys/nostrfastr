{
 "cells": [
  {
   "cell_type": "code",
   "execution_count": null,
   "metadata": {},
   "outputs": [],
   "source": [
    "#| hide\n",
    "# from nostrfastr.nostr import *"
   ]
  },
  {
   "attachments": {},
   "cell_type": "markdown",
   "metadata": {},
   "source": [
    "# nostrfastr\n",
    "\n",
    "> a basic nostr client class built in the nbdev framework to get people started faster with nostr"
   ]
  },
  {
   "attachments": {},
   "cell_type": "markdown",
   "metadata": {},
   "source": [
    "### what is the point?\n",
    " - this package is a learning tool for me and hopefully others\n",
    " - this package attempts to be a well documented and tested instance of a super basic client framework in nostr that can help others understand nostr quickly or get started sending messages in minutes.\n",
    " - I use the basic client in a notebook to explore the idea having a sort of \"sentinel\" node that serves as a barebones client to rebroadcast user data across additional nostr relays. While this is a relatively simple concept I haven't seen much discussion around the potential benefits and implications.\n",
    "\n",
    "### why nbdev?\n",
    "This library uses the [nbdev](https://nbdev.fast.ai/) framework to aggregate some useful tools from [python-nostr](https://github.com/jeffthibault/python-nostr) into a more structured `client` class that could serve as the basis for other python tools. `nbdev` is great because it allows for relatively easy development of robust software with very readable and explanatory documentation. It will almost certainly not be the most perfomant way to implement much of what I am doing here, but I hope it can make the [nostr](https://github.com/nostr-protocol/nostr) protocol more accessible to a wider audience.\n"
   ]
  },
  {
   "cell_type": "markdown",
   "metadata": {},
   "source": [
    "## Install"
   ]
  },
  {
   "attachments": {},
   "cell_type": "markdown",
   "metadata": {},
   "source": [
    "> pip install is not yet implemented, but will be coming soon\n",
    "\n",
    "```sh\n",
    "pip install nostrfastr\n",
    "```\n",
    "\n",
    "or alternatively, clone the github repositor [and refer to this guide](https://nbdev.fast.ai/tutorials/tutorial.html) to get started working in nbdev."
   ]
  },
  {
   "attachments": {},
   "cell_type": "markdown",
   "metadata": {},
   "source": [
    "## How to use"
   ]
  },
  {
   "cell_type": "code",
   "execution_count": null,
   "metadata": {},
   "outputs": [],
   "source": [
    "from nostrfastr.client import Client"
   ]
  },
  {
   "cell_type": "code",
   "execution_count": null,
   "metadata": {},
   "outputs": [
    {
     "name": "stdout",
     "output_type": "stream",
     "text": [
      "logged in as public key\n",
      "\tbech32: npub1s7j2zffnrck072jxztvp35y94p9a46gus7kz8ty4jnypsmggl2rq5tkyy0\n",
      "\thex: 87a4a125331e2cff2a4612d818d085a84bdae91c87ac23ac9594c8186d08fa86\n",
      "Are we connected?\n",
      "\t {'wss://relay.damus.io': True}\n",
      "Are we connected?\n",
      "\t {'wss://relay.damus.io': False}\n"
     ]
    }
   ],
   "source": [
    "with Client(relay_urls=['wss://relay.damus.io']) as client:\n",
    "    print('Are we connected?')\n",
    "    print('\\t', client.relay_manager.connection_statuses)\n",
    "print('Are we connected?')\n",
    "print('\\t', client.relay_manager.connection_statuses)"
   ]
  },
  {
   "cell_type": "code",
   "execution_count": null,
   "metadata": {},
   "outputs": [],
   "source": []
  }
 ],
 "metadata": {
  "kernelspec": {
   "display_name": "rebroadcastr-nbdev",
   "language": "python",
   "name": "python3"
  }
 },
 "nbformat": 4,
 "nbformat_minor": 4
}
