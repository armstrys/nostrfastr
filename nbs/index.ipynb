{
 "cells": [
  {
   "cell_type": "code",
   "execution_count": null,
   "metadata": {},
   "outputs": [],
   "source": [
    "#| hide\n",
    "# from rebroadcastr.nostr import *"
   ]
  },
  {
   "attachments": {},
   "cell_type": "markdown",
   "metadata": {},
   "source": [
    "# rebroadcastr\n",
    "\n",
    "> a basic nostr client that rebroadcasts user events to a set list of relays if they are not present"
   ]
  },
  {
   "attachments": {},
   "cell_type": "markdown",
   "metadata": {},
   "source": [
    "## rebroadcastr\n",
    "\n",
    "### what is the point?\n",
    " - this package is a learning tool for me and hopefully others\n",
    " - this package explores the idea of setting up a client for the sole purpose of rebroadcasting user data across additional nostr relays. While this is a relatively simple concept I haven't seen much discussion around the potential benefits and implications\n",
    "\n",
    "### how can this be a learning tool\n",
    "This library uses the [nbdev](https://nbdev.fast.ai/) framework to aggregate some useful tools from [python-nostr](https://github.com/jeffthibault/python-nostr) into a more structured `cleint` class that could serve as the basis for other python tools. `nbdev` is great because it allows for relatively easy development of robust software with very readable and explanatory documentation. It will almost certainly not be the most perfomant way to implement much of what I am doing here, but I hope it can make the [nostr](https://github.com/nostr-protocol/nostr) protocol more accessible to a wider audience.\n",
    "\n",
    "### what is rebroadcasting?\n",
    "As specified by [NIP-01](https://github.com/nostr-protocol/nips/blob/master/01.md) a nostr event sent to a relay consists of a message in the format `[\"EVENT\", <event JSON>]` where the `event JSON` is a nostr event with a valid signature based upon the event content (public key, time stamp, content, tags, etc). The message sent to the relay doesn't make any requirement about who sends a message or when (though some relays do not except events older than a certain threshold). This means that anyone can set up a client that reads events from one relay and publishes those events back to another relay - I will refer to this as **rebroadcasting**.\n",
    "\n",
    "\n",
    "### motivation for rebroadcasting\n",
    "Below are a few basic reasons why a user might want to establish a rebroadcasting relay\n",
    "  - clients used by the user are not consistently reading and writing to all relays\n",
    "  - user wants to increase the relay overlap of his followed content even if a followed contact is not broadcasting to many similar relays\n",
    "  - user is creating events from a device that has low-bandwidth and can only publish to a smaller set of relays\n",
    "  - (if/when pay per relay broadcast is implemented) the user may want to publish right away to a small subset of relays and broadcast to additional relays when demand is low\n",
    "> *Note:* because rebroadcasting is not limited to a users own data there may be some ethical questions about the extent to which some find rebroadcasting acceptable. While I see some challenges that rebroadcasting could pose, the fact that it can happen is a reality of the specifications of the `nostr` protocol and the current client/relay landscape. These topics need to be explored to find the positive benefits and also to explore any potential downsides caused by rebroadcasting.\n",
    "\n",
    "### potential negative implications of rebroadcasting\n",
    " rebroadcasting could have significant impacts on relay usage - because a rebroadcasting client does not have to remain fast and snappy like a client with a user interface it can broadcast more user data across more relays. Since anyone can broadcast data from any public key to any relay this could result in significantly more data duplication that harms less popular nodes."
   ]
  },
  {
   "cell_type": "markdown",
   "metadata": {},
   "source": [
    "## Install"
   ]
  },
  {
   "cell_type": "markdown",
   "metadata": {},
   "source": [
    "```sh\n",
    "pip install rebroadcastr\n",
    "```"
   ]
  },
  {
   "attachments": {},
   "cell_type": "markdown",
   "metadata": {},
   "source": [
    "## How to use (TO-DO)"
   ]
  },
  {
   "cell_type": "markdown",
   "metadata": {},
   "source": [
    "Fill me in please! Don't forget code examples:"
   ]
  },
  {
   "cell_type": "code",
   "execution_count": null,
   "metadata": {},
   "outputs": [
    {
     "data": {
      "text/plain": [
       "2"
      ]
     },
     "execution_count": null,
     "metadata": {},
     "output_type": "execute_result"
    }
   ],
   "source": [
    "1+1"
   ]
  },
  {
   "cell_type": "code",
   "execution_count": null,
   "metadata": {},
   "outputs": [],
   "source": []
  }
 ],
 "metadata": {
  "kernelspec": {
   "display_name": "Python 3",
   "language": "python",
   "name": "python3"
  },
  "language_info": {
   "name": "python",
   "version": "3.9.6 (default, Aug  5 2022, 15:21:02) \n[Clang 14.0.0 (clang-1400.0.29.102)]"
  },
  "vscode": {
   "interpreter": {
    "hash": "31f2aee4e71d21fbe5cf8b01ff0e069b9275f58929596ceb00d14d90e3e16cd6"
   }
  }
 },
 "nbformat": 4,
 "nbformat_minor": 4
}
