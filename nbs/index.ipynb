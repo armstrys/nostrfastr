{
 "cells": [
  {
   "attachments": {},
   "cell_type": "markdown",
   "metadata": {},
   "source": [
    "# nostrfastr\n",
    "\n",
    "> Getting users into nostr, fastr. A basic nostr `Client` class built in the nbdev (fast) framework to get people started nostr."
   ]
  },
  {
   "attachments": {},
   "cell_type": "markdown",
   "metadata": {},
   "source": [
    "### What is this?\n",
    " - This package attempts to be a well documented and tested instance of a very basic client framework in nostr that can help others understand nostr quickly or get started sending messages in minutes.\n",
    " - Contained is a collection of tools built on top of this basic `Client` class showing some potential uses of nostr any how quickly we can build on it in python. \n",
    "     - A \"sentinel\" node that serves as a barebones client to rebroadcast user data across additional nostr relays. While this is a relatively simple concept I haven't seen much discussion around the potential benefits and implications.\n",
    "     - `notifyr` - a decorator that will alert on success or failure of any decorated function via nostr DM\n",
    "     - a vanity address generator decorated with the notifyr function so you can leave it running and get notified when it finishes\n",
    "\n",
    "### Why nbdev?\n",
    "This library uses the [nbdev](https://nbdev.fast.ai/) framework to aggregate some useful tools from [python-nostr](https://github.com/jeffthibault/python-nostr) into a more structured `client` class that could serve as the basis for other python tools. `nbdev` is great because it allows for relatively easy development of code in-line with readable and explanatory documentation. This webpage is a rendering of the same notebooks that are exported to form the package code. If you clone the Github repository you can view and run the code you see in the documentation. It will almost certainly not be the most perfomant way to implement much of what I am doing here, but I hope it can make the [nostr](https://github.com/nostr-protocol/nostr) protocol more accessible to a wider audience.\n",
    "\n",
    "### Known issues\n",
    " - `notifyr` - see the `notifyr` page for more detail on these issues\n",
    "     - `keyring` may need uninstalled dependencies on linux builds\n",
    "     - Current spec of nostr DMs is likely not adequate for secure usage of this module for sensitive data."
   ]
  },
  {
   "cell_type": "markdown",
   "metadata": {},
   "source": [
    "## Install"
   ]
  },
  {
   "attachments": {},
   "cell_type": "markdown",
   "metadata": {},
   "source": [
    "```sh\n",
    "pip install nostrfastr\n",
    "```\n",
    "\n",
    "or alternatively, clone the github repositor [and refer to this guide](https://nbdev.fast.ai/tutorials/tutorial.html) to get started working in nbdev."
   ]
  },
  {
   "attachments": {},
   "cell_type": "markdown",
   "metadata": {},
   "source": [
    "## How to use"
   ]
  },
  {
   "cell_type": "code",
   "execution_count": null,
   "metadata": {},
   "outputs": [],
   "source": [
    "from nostrfastr.client import Client"
   ]
  },
  {
   "attachments": {},
   "cell_type": "markdown",
   "metadata": {},
   "source": [
    "Connect and perform an operation..."
   ]
  },
  {
   "cell_type": "code",
   "execution_count": null,
   "metadata": {},
   "outputs": [
    {
     "name": "stdout",
     "output_type": "stream",
     "text": [
      "Are we connected?\n",
      "\t {'wss://relay.damus.io': True}\n",
      "Are we connected?\n",
      "\t {'wss://relay.damus.io': False}\n"
     ]
    }
   ],
   "source": [
    "with Client(relay_urls=['wss://relay.damus.io']) as client:\n",
    "    print('Are we connected?')\n",
    "    print('\\t', client.relay_manager.connection_statuses)\n",
    "print('Are we connected?')\n",
    "print('\\t', client.relay_manager.connection_statuses)"
   ]
  },
  {
   "attachments": {},
   "cell_type": "markdown",
   "metadata": {},
   "source": [
    "And use the client to build something useful with nostr - like a bot that notifies you of your python processing status on long code runs"
   ]
  },
  {
   "cell_type": "code",
   "execution_count": null,
   "metadata": {},
   "outputs": [],
   "source": [
    "from nostrfastr.notifyr import notifyr"
   ]
  },
  {
   "cell_type": "code",
   "execution_count": null,
   "metadata": {},
   "outputs": [],
   "source": [
    "@notifyr\n",
    "def raise_error():\n",
    "    raise Exception('Oh no! Process failed!')\n",
    "\n",
    "@notifyr\n",
    "def success():\n",
    "    return 1+1"
   ]
  },
  {
   "attachments": {},
   "cell_type": "markdown",
   "metadata": {},
   "source": [
    "Or generate an vanity address and have it notify you at another nostr address when it's done"
   ]
  },
  {
   "cell_type": "code",
   "execution_count": null,
   "metadata": {},
   "outputs": [
    {
     "name": "stderr",
     "output_type": "stream",
     "text": [
      "/Users/ryanarmstrong/python/nostrfastr/nostrfastr/client.py:479: UserWarning: the current implementation of messages should be used with caution\n",
      "                    see https://github.com/nostr-protocol/nips/issues/107\n",
      "  warnings.warn('''the current implementation of messages should be used with caution\n"
     ]
    },
    {
     "data": {
      "text/plain": [
       "PrivateKey(npub123kyc...nwdqt768zj)"
      ]
     },
     "execution_count": null,
     "metadata": {},
     "output_type": "execute_result"
    }
   ],
   "source": [
    "from nostrfastr.vanity import vanity_notifyr\n",
    "\n",
    "vanity_notifyr(startswith='23', style='npub')"
   ]
  }
 ],
 "metadata": {
  "kernelspec": {
   "display_name": "rebroadcastr-nbdev",
   "language": "python",
   "name": "python3"
  }
 },
 "nbformat": 4,
 "nbformat_minor": 4
}
