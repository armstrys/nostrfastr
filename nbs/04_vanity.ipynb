{
 "cells": [
  {
   "cell_type": "code",
   "execution_count": null,
   "metadata": {},
   "outputs": [],
   "source": [
    "#| default_exp vanity"
   ]
  },
  {
   "attachments": {},
   "cell_type": "markdown",
   "metadata": {},
   "source": [
    "# Vanity addresses\n",
    "\n",
    "> Use the notifyr bot to generate vanity addresses and get notified by DM when they are done."
   ]
  },
  {
   "attachments": {},
   "cell_type": "markdown",
   "metadata": {},
   "source": [
    "## Run a simple generator that finds vanity addresses\n",
    "Here is [an interesting article by Kris Constable about vanity addresses](https://krisconstable.com/generating-a-key-pair-with-nostr/). This is a great usecase for our notifyr decorator because calculating vanity addresses can be quite slow if we are looking for long words.\n",
    "\n",
    "This simple module will let you look for an `npub` or a `hex` vanity address that starts with a particular pattern."
   ]
  },
  {
   "cell_type": "code",
   "execution_count": null,
   "metadata": {},
   "outputs": [],
   "source": [
    "#| export\n",
    "\n",
    "from nostrfastr.nostr import PrivateKey\n",
    "from nostrfastr.notifyr import notifyr\n",
    "from nostr import bech32\n",
    "import time\n",
    "import secrets\n",
    "import secp256k1\n",
    "from numba import jit"
   ]
  },
  {
   "attachments": {},
   "cell_type": "markdown",
   "metadata": {},
   "source": [
    "Make the simple functions to guess public keys"
   ]
  },
  {
   "cell_type": "code",
   "execution_count": null,
   "metadata": {},
   "outputs": [],
   "source": [
    "#| export\n",
    "\n",
    "def guess_bytes():\n",
    "    privkey_bytes = secrets.token_bytes(32) \n",
    "    sk = secp256k1.PrivateKey(privkey_bytes)\n",
    "    pubkey_bytes = sk.pubkey.serialize()[1:]\n",
    "    return privkey_bytes, pubkey_bytes\n",
    "\n",
    "def guess_bech32(startswith=''):\n",
    "    privkey_bytes, pubkey_bytes = guess_bytes()\n",
    "    converted_bits = bech32.convertbits(pubkey_bytes, 8, 5)\n",
    "    npub = bech32.bech32_encode(\"npub\", converted_bits, bech32.Encoding.BECH32)\n",
    "    if npub.startswith(startswith):\n",
    "        return privkey_bytes.hex(), npub\n",
    "    else:\n",
    "        return None, None\n",
    "\n",
    "def guess_hex(startswith=''):\n",
    "    privkey_bytes, pubkey_bytes = guess_bytes()\n",
    "    privkey_hex = privkey_bytes.hex()\n",
    "    pubkey_hex = pubkey_bytes.hex()\n",
    "    if pubkey_hex.startswith(startswith):\n",
    "        return privkey_bytes.hex(), pubkey_bytes.hex()\n",
    "    else:\n",
    "        return None, None"
   ]
  },
  {
   "cell_type": "code",
   "execution_count": null,
   "metadata": {},
   "outputs": [],
   "source": [
    "privkey_hex, npub = guess_bech32()\n",
    "assert PrivateKey.from_hex(privkey_hex).public_key.bech32() == npub"
   ]
  },
  {
   "cell_type": "code",
   "execution_count": null,
   "metadata": {},
   "outputs": [],
   "source": [
    "privkey_hex, pubkey_hex = guess_hex()\n",
    "assert PrivateKey.from_hex(privkey_hex).public_key.hex() == pubkey_hex"
   ]
  },
  {
   "attachments": {},
   "cell_type": "markdown",
   "metadata": {},
   "source": [
    "Let's check the performance"
   ]
  },
  {
   "cell_type": "code",
   "execution_count": null,
   "metadata": {},
   "outputs": [],
   "source": [
    "#| export\n",
    "\n",
    "def time_guess(guesser):\n",
    "    start = time.perf_counter()\n",
    "    pub = guesser(startswith=' ')\n",
    "    if pub is None: # this is just replicating what we will actually be doing\n",
    "        pass\n",
    "    end = time.perf_counter()\n",
    "    interval = end - start\n",
    "    return interval\n",
    "\n",
    "def get_guess_rate(guesser, n_guesses=1e4):\n",
    "    n_guesses = int(n_guesses)\n",
    "    t = sum([time_guess(guesser) for _ in range(n_guesses)]) / n_guesses\n",
    "    guesses_per_second = 1 / t\n",
    "    return guesses_per_second"
   ]
  },
  {
   "cell_type": "code",
   "execution_count": null,
   "metadata": {},
   "outputs": [
    {
     "data": {
      "text/plain": [
       "10828.338766288965"
      ]
     },
     "execution_count": null,
     "metadata": {},
     "output_type": "execute_result"
    }
   ],
   "source": [
    "get_guess_rate(guess_hex)"
   ]
  },
  {
   "cell_type": "code",
   "execution_count": null,
   "metadata": {},
   "outputs": [
    {
     "data": {
      "text/plain": [
       "4934.651268698682"
      ]
     },
     "execution_count": null,
     "metadata": {},
     "output_type": "execute_result"
    }
   ],
   "source": [
    "get_guess_rate(guess_bech32)"
   ]
  },
  {
   "cell_type": "code",
   "execution_count": null,
   "metadata": {},
   "outputs": [],
   "source": [
    "#| export\n",
    "\n",
    "import math"
   ]
  },
  {
   "cell_type": "code",
   "execution_count": null,
   "metadata": {},
   "outputs": [],
   "source": [
    "#| export\n",
    "\n",
    "hex_chars = 'abcdef0123456789'\n",
    "npub_chars = '023456789acdefghjklmnpqrstuvwxyz'\n"
   ]
  },
  {
   "cell_type": "code",
   "execution_count": null,
   "metadata": {},
   "outputs": [],
   "source": [
    "#| export\n",
    "\n",
    "def expected_guesses_by_char(p_char, num_char):\n",
    "    return (p_char ** -num_char - 1)/ (1 - p_char)\n",
    "\n",
    "def expected_time(num_char, options, time_per_guess):\n",
    "    p = 1 / len(options)\n",
    "    n_guess = expected_guesses_by_char(p, num_char)\n",
    "    time_seconds = n_guess * time_per_guess\n",
    "    return time_seconds\n",
    "\n",
    "def expected_chars_by_time(p_char, num_guesses):\n",
    "    n = - math.log(1 + (num_guesses * (1 - p_char))) / math.log(p_char)\n",
    "    return n\n"
   ]
  },
  {
   "cell_type": "code",
   "execution_count": null,
   "metadata": {},
   "outputs": [],
   "source": [
    "#| export\n",
    "\n",
    "hex_chars = 'abcdef0123456789'\n",
    "npub_chars = '023456789acdefghjklmnpqrstuvwxyz'\n",
    "\n",
    "def average_char_by_time(options: str, time_per_guess: float):\n",
    "    p = 1 / len(options)\n",
    "    seconds_in_month = 60 * 60 * 24 * 30.5\n",
    "    seconds_in_day = 60 * 60 * 24\n",
    "    seconds_in_hour = 60 * 60\n",
    "    seconds_in_minute = 60\n",
    "\n",
    "    guesses_per_month = seconds_in_month / time_per_guess\n",
    "    guesses_per_day = seconds_in_day / time_per_guess\n",
    "    guesses_per_hour = seconds_in_hour / time_per_guess\n",
    "    guesses_per_minute = seconds_in_minute / time_per_guess\n",
    "    guesses_per_second = 1 / time_per_guess\n",
    "\n",
    "    guesses = [guesses_per_second, guesses_per_minute,\\\n",
    "               guesses_per_hour, guesses_per_day, guesses_per_month]\n",
    "\n",
    "    expected_chars = [expected_chars_by_time(p, g) for g in guesses]\n",
    "    results = zip(['one second', 'one minute', 'one hour', 'one day', 'one month'],\n",
    "                   expected_chars)\n",
    "    for t, c in results:\n",
    "        print(f'In {t} you can expect to get {c} characters on average')\n",
    "\n",
    "def average_time_by_char(num_chars, time_per_guess):\n",
    "    for n in range(20):\n",
    "        n += 1\n",
    "        t = expected_time(n, num_chars, time_per_guess)\n",
    "        print(f'{n} characters: it might take {t} seconds')\n",
    "\n"
   ]
  },
  {
   "cell_type": "code",
   "execution_count": null,
   "metadata": {},
   "outputs": [
    {
     "name": "stdout",
     "output_type": "stream",
     "text": [
      "In one second you can expect to get 2.4390896209265716 characters on average\n",
      "In one minute you can expect to get 3.620407240081551 characters on average\n",
      "In one hour you can expect to get 4.801784350762993 characters on average\n",
      "In one day you can expect to get 5.718776834527163 characters on average\n",
      "In one month you can expect to get 6.704924301350915 characters on average\n"
     ]
    }
   ],
   "source": [
    "time_per_guess = 1 / get_guess_rate(guess_bech32)\n",
    "average_char_by_time(npub_chars, time_per_guess)"
   ]
  },
  {
   "cell_type": "code",
   "execution_count": null,
   "metadata": {},
   "outputs": [
    {
     "name": "stdout",
     "output_type": "stream",
     "text": [
      "In one second you can expect to get 3.3569012406008594 characters on average\n",
      "In one minute you can expect to get 4.833591699365952 characters on average\n",
      "In one hour you can expect to get 6.310313811741457 characters on average\n",
      "In one day you can expect to get 7.456554428206971 characters on average\n",
      "In one month you can expect to get 8.689238762231213 characters on average\n"
     ]
    }
   ],
   "source": [
    "time_per_guess = 1 / get_guess_rate(guess_hex)\n",
    "average_char_by_time(hex_chars, time_per_guess)"
   ]
  },
  {
   "cell_type": "code",
   "execution_count": null,
   "metadata": {},
   "outputs": [
    {
     "name": "stdout",
     "output_type": "stream",
     "text": [
      "1 characters: it might take 0.0013615036602364853 seconds\n",
      "2 characters: it might take 0.02314556222402025 seconds\n",
      "3 characters: it might take 0.3716904992445605 seconds\n",
      "4 characters: it might take 5.948409491573204 seconds\n",
      "5 characters: it might take 95.1759133688315 seconds\n",
      "6 characters: it might take 1522.8159754049643 seconds\n",
      "7 characters: it might take 24365.056967983088 seconds\n",
      "8 characters: it might take 389840.9128492331 seconds\n",
      "9 characters: it might take 6237454.606949233 seconds\n",
      "10 characters: it might take 99799273.71254924 seconds\n",
      "11 characters: it might take 1596788379.4021492 seconds\n",
      "12 characters: it might take 25548614070.43575 seconds\n",
      "13 characters: it might take 408777825126.9733 seconds\n",
      "14 characters: it might take 6540445202031.575 seconds\n",
      "15 characters: it might take 104647123232505.2 seconds\n",
      "16 characters: it might take 1674353971720083.2 seconds\n",
      "17 characters: it might take 2.6789663547521332e+16 seconds\n",
      "18 characters: it might take 4.286346167603413e+17 seconds\n",
      "19 characters: it might take 6.858153868165461e+18 seconds\n",
      "20 characters: it might take 1.0973046189064738e+20 seconds\n"
     ]
    }
   ],
   "source": [
    "average_time_by_char(hex_chars, time_per_guess)"
   ]
  },
  {
   "cell_type": "code",
   "execution_count": null,
   "metadata": {},
   "outputs": [],
   "source": [
    "#| export\n",
    "\n",
    "def expected_performance():\n",
    "    print(\n",
    "        '''This is a random guessing process - estimations are an average, but the actual\n",
    "        time it takes to find a key could be significantly more or less than the estimate!\n",
    "        Please keep that in mind when choosing an option.\n",
    "        ''')\n",
    "    print('hex:')\n",
    "    time_per_guess_hex = 1 / get_guess_rate(guesser=guess_hex)\n",
    "    average_char_by_time(hex_chars, time_per_guess_hex)\n",
    "    print('\\n')\n",
    "    average_time_by_char(hex_chars, time_per_guess_hex)\n",
    "    print('\\n')\n",
    "\n",
    "    print('npub:')\n",
    "    time_per_guess_bech32 = 1 / get_guess_rate(guesser=guess_bech32)\n",
    "    average_char_by_time(npub_chars, time_per_guess_bech32)\n",
    "    print('\\n')\n",
    "    average_time_by_char(npub_chars, time_per_guess_bech32)\n",
    "    print('\\n')\n",
    "\n",
    "    "
   ]
  },
  {
   "cell_type": "code",
   "execution_count": null,
   "metadata": {},
   "outputs": [
    {
     "name": "stdout",
     "output_type": "stream",
     "text": [
      "This is a random guessing process - estimations are an average, but the actual\n",
      "        time it takes to find a key could be significantly more or less than the estimate!\n",
      "        Please keep that in mind when choosing an option.\n",
      "        \n",
      "hex:\n",
      "In one second you can expect to get 3.2170015513860672 characters on average\n",
      "In one minute you can expect to get 4.693676755553673 characters on average\n",
      "In one hour you can expect to get 6.1703986136573485 characters on average\n",
      "In one day you can expect to get 7.316639225992733 characters on average\n",
      "In one month you can expect to get 8.549323559843291 characters on average\n",
      "\n",
      "\n",
      "1 characters: it might take 0.0020067510750377553 seconds\n",
      "2 characters: it might take 0.03411476827564184 seconds\n",
      "3 characters: it might take 0.5478430434853072 seconds\n",
      "4 characters: it might take 8.767495446839952 seconds\n",
      "5 characters: it might take 140.28193390051428 seconds\n",
      "6 characters: it might take 2244.5129491593034 seconds\n",
      "7 characters: it might take 35912.20919329993 seconds\n",
      "8 characters: it might take 574595.34909955 seconds\n",
      "9 characters: it might take 9193525.587599551 seconds\n",
      "10 characters: it might take 147096409.40359956 seconds\n",
      "11 characters: it might take 2353542550.4596 seconds\n",
      "12 characters: it might take 37656680807.355606 seconds\n",
      "13 characters: it might take 602506892917.6917 seconds\n",
      "14 characters: it might take 9640110286683.068 seconds\n",
      "15 characters: it might take 154241764586929.1 seconds\n",
      "16 characters: it might take 2467868233390865.5 seconds\n",
      "17 characters: it might take 3.948589173425385e+16 seconds\n",
      "18 characters: it might take 6.317742677480616e+17 seconds\n",
      "19 characters: it might take 1.0108388283968985e+19 seconds\n",
      "20 characters: it might take 1.6173421254350376e+20 seconds\n",
      "\n",
      "\n",
      "npub:\n",
      "In one second you can expect to get 2.352791833575553 characters on average\n",
      "In one minute you can expect to get 3.5340883579646967 characters on average\n",
      "In one hour you can expect to get 4.715465116978685 characters on average\n",
      "In one day you can expect to get 5.6324575950307185 characters on average\n",
      "In one month you can expect to get 6.618605061614258 characters on average\n",
      "\n",
      "\n",
      "1 characters: it might take 0.008916245353594423 seconds\n",
      "2 characters: it might take 0.29423609666861594 seconds\n",
      "3 characters: it might take 9.424471338749305 seconds\n",
      "4 characters: it might take 301.59199908533134 seconds\n",
      "5 characters: it might take 9650.952886975956 seconds\n",
      "6 characters: it might take 308830.50129947596 seconds\n",
      "7 characters: it might take 9882576.050499476 seconds\n",
      "8 characters: it might take 316242433.6248995 seconds\n",
      "9 characters: it might take 10119757876.0057 seconds\n",
      "10 characters: it might take 323832252032.1913 seconds\n",
      "11 characters: it might take 10362632065030.13 seconds\n",
      "12 characters: it might take 331604226080964.2 seconds\n",
      "13 characters: it might take 1.0611335234590854e+16 seconds\n",
      "14 characters: it might take 3.395627275069073e+17 seconds\n",
      "15 characters: it might take 1.0866007280221034e+19 seconds\n",
      "16 characters: it might take 3.477122329670731e+20 seconds\n",
      "17 characters: it might take 1.112679145494634e+22 seconds\n",
      "18 characters: it might take 3.5605732655828286e+23 seconds\n",
      "19 characters: it might take 1.1393834449865051e+25 seconds\n",
      "20 characters: it might take 3.6460270239568165e+26 seconds\n",
      "\n",
      "\n"
     ]
    }
   ],
   "source": [
    "expected_performance()"
   ]
  },
  {
   "attachments": {},
   "cell_type": "markdown",
   "metadata": {},
   "source": [
    "Lets make the function..."
   ]
  },
  {
   "cell_type": "code",
   "execution_count": null,
   "metadata": {},
   "outputs": [],
   "source": [
    "#| export\n",
    "\n",
    "def gen_vanity_pubkey(startswith: str, style='hex') -> PrivateKey:\n",
    "    \"\"\"randomly generate private keys until one matches the desire\n",
    "    startswith for an npub or hex\n",
    "\n",
    "    Parameters\n",
    "    ----------\n",
    "    startswith : str\n",
    "        characters that the public key should start with. More chars\n",
    "        means longer run time\n",
    "    style : str, optional\n",
    "        'npub' or 'hex' - npub is more commonly displayed on apps\n",
    "        while hex is the true base private key with no encoding,\n",
    "        by default 'hex'\n",
    "\n",
    "    Returns\n",
    "    -------\n",
    "    PrivateKey\n",
    "        returns a private key object\n",
    "    \"\"\"\n",
    "    pubkey = None\n",
    "    if style == 'npub':\n",
    "        if not all(c in npub_chars for c in startswith):\n",
    "            raise ValueError(f'character of selection not '\n",
    "                              'in npub pattern ({npub_chars})')\n",
    "        time_per_guess = 1 / get_guess_rate(guess_bech32)\n",
    "        t = expected_time(len(startswith), npub_chars, time_per_guess)\n",
    "        startswith = f'npub1{startswith}'\n",
    "    else:\n",
    "        if not all(c in hex_chars for c in startswith):\n",
    "            raise ValueError(f'character of selection not in '\n",
    "                              'hex pattern ({hex_chars})')\n",
    "        time_per_guess = 1 / get_guess_rate(guess_hex)\n",
    "        t = expected_time(len(startswith), hex_chars, time_per_guess)\n",
    "    print(f'It might take {t} seconds to find a {style} pubkey that starts with '\n",
    "          f'{startswith}. Note that this is a very rough estimate and due '\n",
    "          'to the random nature of finding vanity keys it could take MUCH '\n",
    "          'longer.')\n",
    "    while pubkey is None:\n",
    "        if style == 'npub':\n",
    "            privkey_hex, pubkey = guess_bech32(startswith=startswith)\n",
    "        else:\n",
    "            privkey_hex, pubkey = guess_hex(startswith=startswith)\n",
    "    return PrivateKey.from_hex(privkey_hex)"
   ]
  },
  {
   "cell_type": "code",
   "execution_count": null,
   "metadata": {},
   "outputs": [],
   "source": [
    "from fastcore.test import test_fail"
   ]
  },
  {
   "attachments": {},
   "cell_type": "markdown",
   "metadata": {},
   "source": [
    "Make sure we don't allow characters that will never happen - test that these cases fail"
   ]
  },
  {
   "cell_type": "code",
   "execution_count": null,
   "metadata": {},
   "outputs": [],
   "source": [
    "fail = lambda _: gen_vanity_pubkey(startswith='b', style='npub')\n",
    "test_fail(fail)\n",
    "fail = lambda _: gen_vanity_pubkey(startswith='g', style='hex')\n",
    "test_fail(fail)\n"
   ]
  },
  {
   "attachments": {},
   "cell_type": "markdown",
   "metadata": {},
   "source": [
    "Generate a couple npubs!"
   ]
  },
  {
   "cell_type": "code",
   "execution_count": null,
   "metadata": {},
   "outputs": [
    {
     "name": "stdout",
     "output_type": "stream",
     "text": [
      "It might take 0.2441909272051882 seconds to find a npub pubkey that starts with npub123. Note that this is a very rough estimate and due to the random nature of finding vanity keys it could take MUCH longer.\n",
      "It might take 0.02088132944642566 seconds to find a hex pubkey that starts with 23. Note that this is a very rough estimate and due to the random nature of finding vanity keys it could take MUCH longer.\n"
     ]
    }
   ],
   "source": [
    "vanity_private_key_npub = gen_vanity_pubkey(startswith='23', style='npub')\n",
    "vanity_private_key_hex = gen_vanity_pubkey(startswith='23', style='hex')"
   ]
  },
  {
   "attachments": {},
   "cell_type": "markdown",
   "metadata": {},
   "source": [
    "And make sure it worked..."
   ]
  },
  {
   "cell_type": "code",
   "execution_count": null,
   "metadata": {},
   "outputs": [],
   "source": [
    "assert vanity_private_key_npub.public_key.bech32().startswith('npub123')\n",
    "assert vanity_private_key_hex.public_key.hex().startswith('23')"
   ]
  },
  {
   "attachments": {},
   "cell_type": "markdown",
   "metadata": {},
   "source": [
    "Now we can also make a version of this that notifies you."
   ]
  },
  {
   "cell_type": "code",
   "execution_count": null,
   "metadata": {},
   "outputs": [],
   "source": [
    "#| export\n",
    "\n",
    "vanity_notifyr = notifyr(gen_vanity_pubkey)"
   ]
  },
  {
   "attachments": {},
   "cell_type": "markdown",
   "metadata": {},
   "source": [
    "Remember that if you want a vanity notifyr that will go to a different address than the one you find in `vanity_notifyr.notifyr_privkey_hex` you can create your own notifyr like so:\n",
    "```python\n",
    "new_vanity_notifyr = notifyr(gen_vanity_pubkey, recipient_address=your_address)\n",
    "```"
   ]
  },
  {
   "cell_type": "code",
   "execution_count": null,
   "metadata": {},
   "outputs": [],
   "source": [
    "#| hide\n",
    "import nbdev; nbdev.nbdev_export()"
   ]
  }
 ],
 "metadata": {
  "kernelspec": {
   "display_name": "nostrfastr_jit",
   "language": "python",
   "name": "python3"
  }
 },
 "nbformat": 4,
 "nbformat_minor": 2
}
