{
 "cells": [
  {
   "cell_type": "code",
   "execution_count": null,
   "metadata": {},
   "outputs": [],
   "source": [
    "#| default_exp vanity"
   ]
  },
  {
   "cell_type": "code",
   "execution_count": null,
   "metadata": {},
   "outputs": [],
   "source": [
    "#| hide\n",
    "\n",
    "from nostr_relay import web"
   ]
  },
  {
   "cell_type": "code",
   "execution_count": null,
   "metadata": {},
   "outputs": [
    {
     "name": "stdout",
     "output_type": "stream",
     "text": [
      "2023-01-21 20:14:30,339 - nostr_relay.web - INFO - Starting version 1.3.4\n"
     ]
    },
    {
     "name": "stderr",
     "output_type": "stream",
     "text": [
      "INFO:     Started server process [44795]\n",
      "INFO:     Waiting for application startup.\n"
     ]
    },
    {
     "name": "stdout",
     "output_type": "stream",
     "text": [
      "2023-01-21 20:14:30,647 - nostr_relay.db - INFO - Database filename: '../nostr-relay/nostr.sqlite3'\n",
      "2023-01-21 20:14:30,700 - nostr_relay.db:gc - INFO - Starting garbage collector QueryGarbageCollector. Interval 300\n"
     ]
    },
    {
     "name": "stderr",
     "output_type": "stream",
     "text": [
      "INFO:     Application startup complete.\n",
      "INFO:     Uvicorn running on http://127.0.0.1:6969 (Press CTRL+C to quit)\n"
     ]
    }
   ],
   "source": [
    "#| hide\n",
    "\n",
    "web.run_with_uvicorn(conf_file='../nostr-relay/nostr-relay-config.yml', in_thread=True)"
   ]
  },
  {
   "attachments": {},
   "cell_type": "markdown",
   "metadata": {},
   "source": [
    "# vanity\n",
    "\n",
    "> Use the notifyr bot to generate vanity addresses and get notified by DM when they are done."
   ]
  },
  {
   "attachments": {},
   "cell_type": "markdown",
   "metadata": {},
   "source": [
    "## Finding vanity addresses\n",
    "Here is [an interesting article by Kris Constable about vanity addresses](https://krisconstable.com/generating-a-key-pair-with-nostr/). This is a great usecase for our notifyr decorator because calculating vanity addresses can be quite slow if we are looking for long words.\n",
    "\n",
    "This module will let you look for an `npub` or a `hex` vanity address that starts with a particular pattern."
   ]
  },
  {
   "cell_type": "code",
   "execution_count": null,
   "metadata": {},
   "outputs": [],
   "source": [
    "#| export\n",
    "\n",
    "import time\n",
    "import secrets\n",
    "import secp256k1\n",
    "import functools\n",
    "from typing import Union\n",
    "from nostrfastr.nostr import PrivateKey\n",
    "from nostrfastr.notifyr import notifyr\n",
    "from nostr import bech32"
   ]
  },
  {
   "cell_type": "code",
   "execution_count": null,
   "metadata": {},
   "outputs": [],
   "source": [
    "#| export\n",
    "\n",
    "def _guess_bytes():\n",
    "    privkey_bytes = secrets.token_bytes(32) \n",
    "    sk = secp256k1.PrivateKey(privkey_bytes)\n",
    "    pubkey_bytes = sk.pubkey.serialize()[1:]\n",
    "    return privkey_bytes, pubkey_bytes\n",
    "\n",
    "def _make_bech32(pubkey_bytes):\n",
    "    converted_bits = bech32.convertbits(pubkey_bytes, 8, 5)\n",
    "    pubkey = bech32.bech32_encode('npub', converted_bits, bech32.Encoding.BECH32)\n",
    "    return pubkey\n",
    "\n",
    "def _make_hex(pubkey_bytes):\n",
    "    return pubkey_bytes.hex()"
   ]
  },
  {
   "attachments": {},
   "cell_type": "markdown",
   "metadata": {},
   "source": [
    "## making guesses\n",
    "In this module you will find a `guess_npub` and `guess_hex` methods that are created from `_guess_vanity`. We are going directly back to the bits to get the best perfomance possible - this code is very similar to the code used to generate private keys in the `nostr.PrivateKey` class from `python-nostr`"
   ]
  },
  {
   "cell_type": "code",
   "execution_count": null,
   "metadata": {},
   "outputs": [],
   "source": [
    "#| export\n",
    "\n",
    "def _guess_vanity(make_format, startswith=''):\n",
    "    privkey_bytes, pubkey_bytes = _guess_bytes()\n",
    "    pubkey_hex = make_format(pubkey_bytes)\n",
    "    if pubkey_hex.startswith(startswith):\n",
    "        return privkey_bytes.hex(), pubkey_hex\n",
    "    else:\n",
    "        return None, None\n",
    "\n",
    "\n",
    "def _guess_vanity_slow(startswith=''):\n",
    "    privkey = PrivateKey()\n",
    "    pubkey_hex = privkey.public_key.hex()\n",
    "    if pubkey_hex.startswith(startswith):\n",
    "        return privkey.hex(), pubkey_hex\n",
    "    else:\n",
    "        return None, None\n"
   ]
  },
  {
   "cell_type": "code",
   "execution_count": null,
   "metadata": {},
   "outputs": [],
   "source": [
    "#| export\n",
    "\n",
    "guess_bech32 = functools.partial(_guess_vanity, make_format=_make_bech32)\n",
    "guess_hex = functools.partial(_guess_vanity, make_format=_make_hex)\n"
   ]
  },
  {
   "cell_type": "code",
   "execution_count": null,
   "metadata": {},
   "outputs": [],
   "source": [
    "privkey_hex, npub = guess_bech32()\n",
    "assert PrivateKey.from_hex(privkey_hex).public_key.bech32() == npub"
   ]
  },
  {
   "cell_type": "code",
   "execution_count": null,
   "metadata": {},
   "outputs": [],
   "source": [
    "privkey_hex, pubkey_hex = guess_hex()\n",
    "assert PrivateKey.from_hex(privkey_hex).public_key.hex() == pubkey_hex"
   ]
  },
  {
   "attachments": {},
   "cell_type": "markdown",
   "metadata": {},
   "source": [
    "## checking computer hashrate\n",
    "We can make some functions to check the guess rate (hashrate)"
   ]
  },
  {
   "cell_type": "code",
   "execution_count": null,
   "metadata": {},
   "outputs": [],
   "source": [
    "#| export\n",
    "\n",
    "def _time_guess(guesser):\n",
    "    \"\"\"get a timed assessment of a guess\n",
    "\n",
    "    Parameters\n",
    "    ----------\n",
    "    guesser : function\n",
    "        either `guess_npub` or `guess_hex`\n",
    "\n",
    "    Returns\n",
    "    -------\n",
    "    float\n",
    "        time in seconds\n",
    "    \"\"\"\n",
    "    start = time.perf_counter()\n",
    "    pub = guesser(startswith=' ')\n",
    "    if pub is None:\n",
    "        pass\n",
    "    end = time.perf_counter()\n",
    "    interval = end - start\n",
    "    return interval\n",
    "\n",
    "def _get_guess_time(guesser, n_guesses=1e4):\n",
    "    \"\"\"estimate a guess rate\n",
    "\n",
    "    Parameters\n",
    "    ----------\n",
    "    guesser : function\n",
    "        either `guess_npub` or `guess_hex`\n",
    "    n_guesses : float, optional\n",
    "        number of guesses to make for estimation, by default 1e4\n",
    "\n",
    "    Returns\n",
    "    -------\n",
    "    float\n",
    "        time in seconds\n",
    "    \"\"\"\n",
    "    n_guesses = int(n_guesses)\n",
    "    t = sum([_time_guess(guesser) for _ in range(n_guesses)]) / n_guesses\n",
    "    return t"
   ]
  },
  {
   "cell_type": "code",
   "execution_count": null,
   "metadata": {},
   "outputs": [
    {
     "data": {
      "text/plain": [
       "'We estimate a hash rate of 12579.831850745017 guesses per second'"
      ]
     },
     "execution_count": null,
     "metadata": {},
     "output_type": "execute_result"
    }
   ],
   "source": [
    "f'We estimate a hash rate of {1/_get_guess_time(guess_hex)} guesses per second'"
   ]
  },
  {
   "cell_type": "code",
   "execution_count": null,
   "metadata": {},
   "outputs": [
    {
     "data": {
      "text/plain": [
       "'We estimate a hash rate of 6391.511961143656 guesses per second'"
      ]
     },
     "execution_count": null,
     "metadata": {},
     "output_type": "execute_result"
    }
   ],
   "source": [
    "f'We estimate a hash rate of {1/_get_guess_time(_guess_vanity_slow)} guesses per second'"
   ]
  },
  {
   "cell_type": "code",
   "execution_count": null,
   "metadata": {},
   "outputs": [
    {
     "data": {
      "text/plain": [
       "'We estimate a hash rate of 4996.315606723534 guesses per second'"
      ]
     },
     "execution_count": null,
     "metadata": {},
     "output_type": "execute_result"
    }
   ],
   "source": [
    "f'We estimate a hash rate of {1/_get_guess_time(guess_bech32)} guesses per second'"
   ]
  },
  {
   "attachments": {},
   "cell_type": "markdown",
   "metadata": {},
   "source": [
    "And use our hashrate to make some estimates of how quickly we can find certain vanity addresses"
   ]
  },
  {
   "cell_type": "code",
   "execution_count": null,
   "metadata": {},
   "outputs": [],
   "source": [
    "#| export\n",
    "\n",
    "import math"
   ]
  },
  {
   "cell_type": "code",
   "execution_count": null,
   "metadata": {},
   "outputs": [],
   "source": [
    "#| export\n",
    "\n",
    "def _expected_guesses_by_char(options: Union[str,list], num_char: int) -> float:\n",
    "    \"\"\"return an average number of guesses it would take to guess\n",
    "    a pattern based on the number of characters in the pattern and\n",
    "    the number of character options in the random output\n",
    "\n",
    "    Parameters\n",
    "    ----------\n",
    "    options : list or str\n",
    "        a set of characters as a str or list that are options for\n",
    "        guessing\n",
    "    num_char : int\n",
    "        the number of characters in the pattern\n",
    "\n",
    "    Returns\n",
    "    -------\n",
    "    float\n",
    "        the expected number of guesses required to match the pattern\n",
    "    \"\"\"\n",
    "    p = 1 / len(options)\n",
    "    return p ** -num_char\n",
    "\n",
    "def _expected_chars_by_time(options: Union[str,list], num_guesses: int) -> float:\n",
    "    \"\"\"the length of pattern you might expect to be able to guess given a\n",
    "    certain number of guesses.\n",
    "\n",
    "    Parameters\n",
    "    ----------\n",
    "    options : list or str\n",
    "        a set of characters as a str or list that are options for\n",
    "        guessing\n",
    "    num_guesses : int\n",
    "        the total number of guesses at a pattern\n",
    "\n",
    "    Returns\n",
    "    -------\n",
    "    float\n",
    "        th\n",
    "    \"\"\"\n",
    "    p = 1 / len(options)\n",
    "    n = - math.log(num_guesses) / math.log(p)\n",
    "    return n\n",
    "\n",
    "def _expected_time(options: Union[str,list], num_char: int, time_per_guess: float) -> float:\n",
    "    \"\"\"the expected amount of time it would take to guess a pattern with a certain\n",
    "    length based on the average time per guess and the character options\n",
    "\n",
    "    Parameters\n",
    "    ----------\n",
    "    options : list or str\n",
    "        a set of characters as a str or list that are options for\n",
    "        guessing\n",
    "    num_char : int\n",
    "        the number of characters in the pattern\n",
    "    time_per_guess : float\n",
    "        averge time per guess in seconds\n",
    "\n",
    "    Returns\n",
    "    -------\n",
    "    float\n",
    "        the expected amount of time needed to guess the pattern\n",
    "    \"\"\"\n",
    "    n_guess = _expected_guesses_by_char(options, num_char)\n",
    "    time_seconds = n_guess * time_per_guess\n",
    "    return time_seconds\n",
    "\n",
    "hex_chars = 'abcdef0123456789'\n",
    "npub_chars = '023456789acdefghjklmnpqrstuvwxyz'\n"
   ]
  },
  {
   "cell_type": "code",
   "execution_count": null,
   "metadata": {},
   "outputs": [],
   "source": [
    "#| export\n",
    "\n",
    "def _average_char_by_time(options: Union[str,list], time_per_guess: float) -> None:\n",
    "    \"\"\"print an average number of characters you would expect to be\n",
    "    able to guess for certain time periods based on character options\n",
    "    and the average time per guess\n",
    "\n",
    "    Parameters\n",
    "    ----------\n",
    "    options : list or str\n",
    "        a set of characters as a str or list that are options for\n",
    "        guessing\n",
    "    time_per_guess : float\n",
    "        the average time elapsed per guess\n",
    "    \"\"\"\n",
    "    seconds_in_month = 60 * 60 * 24 * 30.5\n",
    "    seconds_in_day = 60 * 60 * 24\n",
    "    seconds_in_hour = 60 * 60\n",
    "    seconds_in_minute = 60\n",
    "\n",
    "    guesses_per_month = seconds_in_month / time_per_guess\n",
    "    guesses_per_day = seconds_in_day / time_per_guess\n",
    "    guesses_per_hour = seconds_in_hour / time_per_guess\n",
    "    guesses_per_minute = seconds_in_minute / time_per_guess\n",
    "    guesses_per_second = 1 / time_per_guess\n",
    "\n",
    "    guesses = [guesses_per_second, guesses_per_minute,\\\n",
    "               guesses_per_hour, guesses_per_day, guesses_per_month]\n",
    "\n",
    "    expected_chars = [_expected_chars_by_time(options, g) for g in guesses]\n",
    "    results = zip(['one second', 'one minute', 'one hour', 'one day', 'one month'],\n",
    "                   expected_chars)\n",
    "    for t, c in results:\n",
    "        print(f'In {t} you can expect to get {c} characters on average')\n",
    "\n",
    "def _average_time_by_char(options: Union[str,list], time_per_guess: float) -> None:\n",
    "    \"\"\"print an average elapsed time for a range of pattern lengths\n",
    "\n",
    "    Parameters\n",
    "    ----------\n",
    "    options : Union[str,list]\n",
    "        a set of characters as a str or list that are options for\n",
    "        guessing\n",
    "    time_per_guess : float\n",
    "        the average time elapsed per guess\n",
    "    \"\"\"\n",
    "    for n in range(20):\n",
    "        n += 1\n",
    "        t = _expected_time(options, n, time_per_guess)\n",
    "        print(f'{n} characters: it might take {t} seconds')\n",
    "\n"
   ]
  },
  {
   "cell_type": "code",
   "execution_count": null,
   "metadata": {},
   "outputs": [
    {
     "name": "stdout",
     "output_type": "stream",
     "text": [
      "In one second you can expect to get 2.437360932701223 characters on average\n",
      "In one minute you can expect to get 3.6187390518229265 characters on average\n",
      "In one hour you can expect to get 4.80011717094463 characters on average\n",
      "In one day you can expect to get 5.717109671088862 characters on average\n",
      "In one month you can expect to get 6.703257138601439 characters on average\n"
     ]
    }
   ],
   "source": [
    "#| hide\n",
    "\n",
    "time_per_guess = _get_guess_time(guess_bech32)\n",
    "_average_char_by_time(npub_chars, time_per_guess)"
   ]
  },
  {
   "cell_type": "code",
   "execution_count": null,
   "metadata": {},
   "outputs": [
    {
     "name": "stdout",
     "output_type": "stream",
     "text": [
      "In one second you can expect to get 3.3990928103633955 characters on average\n",
      "In one minute you can expect to get 4.875815459265525 characters on average\n",
      "In one hour you can expect to get 6.352538108167655 characters on average\n",
      "In one day you can expect to get 7.498778733347944 characters on average\n",
      "In one month you can expect to get 8.731463067738666 characters on average\n"
     ]
    }
   ],
   "source": [
    "#| hide\n",
    "\n",
    "time_per_guess = _get_guess_time(guess_hex)\n",
    "_average_char_by_time(hex_chars, time_per_guess)"
   ]
  },
  {
   "cell_type": "code",
   "execution_count": null,
   "metadata": {},
   "outputs": [
    {
     "name": "stdout",
     "output_type": "stream",
     "text": [
      "1 characters: it might take 0.0012918271471338812 seconds\n",
      "2 characters: it might take 0.0206692343541421 seconds\n",
      "3 characters: it might take 0.3307077496662736 seconds\n",
      "4 characters: it might take 5.291323994660377 seconds\n",
      "5 characters: it might take 84.66118391456604 seconds\n",
      "6 characters: it might take 1354.5789426330566 seconds\n",
      "7 characters: it might take 21673.263082128906 seconds\n",
      "8 characters: it might take 346772.2093140625 seconds\n",
      "9 characters: it might take 5548355.349025 seconds\n",
      "10 characters: it might take 88773685.5844 seconds\n",
      "11 characters: it might take 1420378969.3504 seconds\n",
      "12 characters: it might take 22726063509.6064 seconds\n",
      "13 characters: it might take 363617016153.7024 seconds\n",
      "14 characters: it might take 5817872258459.238 seconds\n",
      "15 characters: it might take 93085956135347.81 seconds\n",
      "16 characters: it might take 1489375298165565.0 seconds\n",
      "17 characters: it might take 2.383000477064904e+16 seconds\n",
      "18 characters: it might take 3.8128007633038464e+17 seconds\n",
      "19 characters: it might take 6.100481221286154e+18 seconds\n",
      "20 characters: it might take 9.760769954057847e+19 seconds\n"
     ]
    }
   ],
   "source": [
    "#| hide\n",
    "\n",
    "_average_time_by_char(hex_chars, time_per_guess)"
   ]
  },
  {
   "cell_type": "code",
   "execution_count": null,
   "metadata": {},
   "outputs": [],
   "source": [
    "#| export\n",
    "\n",
    "def expected_performance():\n",
    "    print(\n",
    "        '''This is a random guessing process - estimations are an average, but the actual\n",
    "        time it takes to find a key could be significantly more or less than the estimate!\n",
    "        Please keep that in mind when choosing an option.\n",
    "        ''')\n",
    "    print('hex:')\n",
    "    time_per_guess_hex = _get_guess_time(guesser=guess_hex)\n",
    "    _average_char_by_time(hex_chars, time_per_guess_hex)\n",
    "    print('\\n')\n",
    "    _average_time_by_char(hex_chars, time_per_guess_hex)\n",
    "    print('\\n')\n",
    "\n",
    "    print('npub:')\n",
    "    time_per_guess_bech32 = _get_guess_time(guesser=guess_bech32)\n",
    "    _average_char_by_time(npub_chars, time_per_guess_bech32)\n",
    "    print('\\n')\n",
    "    _average_time_by_char(npub_chars, time_per_guess_bech32)\n",
    "    print('\\n')\n",
    "\n",
    "    "
   ]
  },
  {
   "cell_type": "code",
   "execution_count": null,
   "metadata": {},
   "outputs": [
    {
     "name": "stdout",
     "output_type": "stream",
     "text": [
      "This is a random guessing process - estimations are an average, but the actual\n",
      "        time it takes to find a key could be significantly more or less than the estimate!\n",
      "        Please keep that in mind when choosing an option.\n",
      "        \n",
      "hex:\n",
      "In one second you can expect to get 3.325667183387504 characters on average\n",
      "In one minute you can expect to get 4.8023898322896335 characters on average\n",
      "In one hour you can expect to get 6.2791124811917625 characters on average\n",
      "In one day you can expect to get 7.425353106372053 characters on average\n",
      "In one month you can expect to get 8.658037440762774 characters on average\n",
      "\n",
      "\n",
      "1 characters: it might take 0.0015834985552821308 seconds\n",
      "2 characters: it might take 0.025335976884514094 seconds\n",
      "3 characters: it might take 0.4053756301522255 seconds\n",
      "4 characters: it might take 6.486010082435608 seconds\n",
      "5 characters: it might take 103.77616131896973 seconds\n",
      "6 characters: it might take 1660.4185811035156 seconds\n",
      "7 characters: it might take 26566.69729765625 seconds\n",
      "8 characters: it might take 425067.1567625 seconds\n",
      "9 characters: it might take 6801074.5082 seconds\n",
      "10 characters: it might take 108817192.1312 seconds\n",
      "11 characters: it might take 1741075074.0992 seconds\n",
      "12 characters: it might take 27857201185.5872 seconds\n",
      "13 characters: it might take 445715218969.3952 seconds\n",
      "14 characters: it might take 7131443503510.323 seconds\n",
      "15 characters: it might take 114103096056165.17 seconds\n",
      "16 characters: it might take 1825649536898642.8 seconds\n",
      "17 characters: it might take 2.9210392590378284e+16 seconds\n",
      "18 characters: it might take 4.6736628144605254e+17 seconds\n",
      "19 characters: it might take 7.477860503136841e+18 seconds\n",
      "20 characters: it might take 1.1964576805018945e+20 seconds\n",
      "\n",
      "\n",
      "npub:\n",
      "In one second you can expect to get 2.383159533953474 characters on average\n",
      "In one minute you can expect to get 3.564537653075178 characters on average\n",
      "In one hour you can expect to get 4.745915772196882 characters on average\n",
      "In one day you can expect to get 5.662908272341113 characters on average\n",
      "In one month you can expect to get 6.64905573985369 characters on average\n",
      "\n",
      "\n",
      "1 characters: it might take 0.008282042550842743 seconds\n",
      "2 characters: it might take 0.26502536162696777 seconds\n",
      "3 characters: it might take 8.480811572062969 seconds\n",
      "4 characters: it might take 271.385970306015 seconds\n",
      "5 characters: it might take 8684.35104979248 seconds\n",
      "6 characters: it might take 277899.23359335936 seconds\n",
      "7 characters: it might take 8892775.4749875 seconds\n",
      "8 characters: it might take 284568815.1996 seconds\n",
      "9 characters: it might take 9106202086.3872 seconds\n",
      "10 characters: it might take 291398466764.3904 seconds\n",
      "11 characters: it might take 9324750936460.492 seconds\n",
      "12 characters: it might take 298392029966735.75 seconds\n",
      "13 characters: it might take 9548544958935544.0 seconds\n",
      "14 characters: it might take 3.055534386859374e+17 seconds\n",
      "15 characters: it might take 9.777710037949997e+18 seconds\n",
      "16 characters: it might take 3.128867212143999e+20 seconds\n",
      "17 characters: it might take 1.0012375078860797e+22 seconds\n",
      "18 characters: it might take 3.203960025235455e+23 seconds\n",
      "19 characters: it might take 1.0252672080753456e+25 seconds\n",
      "20 characters: it might take 3.280855065841106e+26 seconds\n",
      "\n",
      "\n"
     ]
    }
   ],
   "source": [
    "expected_performance()"
   ]
  },
  {
   "attachments": {},
   "cell_type": "markdown",
   "metadata": {},
   "source": [
    "Lets make the function..."
   ]
  },
  {
   "cell_type": "code",
   "execution_count": null,
   "metadata": {},
   "outputs": [],
   "source": [
    "#| export\n",
    "\n",
    "def gen_vanity_pubkey(startswith: str, style='hex') -> PrivateKey:\n",
    "    \"\"\"randomly generate private keys until one matches the desire\n",
    "    startswith for an npub or hex\n",
    "\n",
    "    Parameters\n",
    "    ----------\n",
    "    startswith : str\n",
    "        characters that the public key should start with. More chars\n",
    "        means longer run time\n",
    "    style : str, optional\n",
    "        'npub' or 'hex' - npub is more commonly displayed on apps\n",
    "        while hex is the true base private key with no encoding,\n",
    "        by default 'hex'\n",
    "\n",
    "    Returns\n",
    "    -------\n",
    "    PrivateKey\n",
    "        returns a private key object\n",
    "    \"\"\"\n",
    "    pubkey = None\n",
    "    if style == 'npub':\n",
    "        if not all(c in npub_chars for c in startswith):\n",
    "            raise ValueError(f'character of selection not '\n",
    "                              'in npub pattern ({npub_chars})')\n",
    "        time_per_guess = _get_guess_time(guess_bech32)\n",
    "        t = _expected_time(npub_chars, len(startswith), time_per_guess)\n",
    "        startswith = f'npub1{startswith}'\n",
    "    else:\n",
    "        if not all(c in hex_chars for c in startswith):\n",
    "            raise ValueError(f'character of selection not in '\n",
    "                              'hex pattern ({hex_chars})')\n",
    "        time_per_guess = _get_guess_time(guess_hex)\n",
    "        t = _expected_time(hex_chars, len(startswith), time_per_guess)\n",
    "    print(f'It might take {int(t)} seconds to find a {style} pubkey that starts with '\n",
    "          f'{startswith}. Note that this is a very rough estimate and due '\n",
    "          'to the random nature of finding vanity keys it could take MUCH '\n",
    "          'longer.')\n",
    "    while pubkey is None:\n",
    "        if style == 'npub':\n",
    "            privkey_hex, pubkey = guess_bech32(startswith=startswith)\n",
    "        else:\n",
    "            privkey_hex, pubkey = guess_hex(startswith=startswith)\n",
    "    return PrivateKey.from_hex(privkey_hex)"
   ]
  },
  {
   "cell_type": "code",
   "execution_count": null,
   "metadata": {},
   "outputs": [],
   "source": [
    "from fastcore.test import test_fail"
   ]
  },
  {
   "attachments": {},
   "cell_type": "markdown",
   "metadata": {},
   "source": [
    "Make sure we don't allow characters that will never happen - test that these cases fail"
   ]
  },
  {
   "cell_type": "code",
   "execution_count": null,
   "metadata": {},
   "outputs": [],
   "source": [
    "fail = lambda _: gen_vanity_pubkey(startswith='b', style='npub')\n",
    "test_fail(fail)\n",
    "fail = lambda _: gen_vanity_pubkey(startswith='g', style='hex')\n",
    "test_fail(fail)\n"
   ]
  },
  {
   "attachments": {},
   "cell_type": "markdown",
   "metadata": {},
   "source": [
    "Generate a couple npubs!"
   ]
  },
  {
   "cell_type": "code",
   "execution_count": null,
   "metadata": {},
   "outputs": [
    {
     "name": "stdout",
     "output_type": "stream",
     "text": [
      "It might take 0 seconds to find a npub pubkey that starts with npub123. Note that this is a very rough estimate and due to the random nature of finding vanity keys it could take MUCH longer.\n",
      "It might take 0 seconds to find a hex pubkey that starts with 23. Note that this is a very rough estimate and due to the random nature of finding vanity keys it could take MUCH longer.\n"
     ]
    }
   ],
   "source": [
    "vanity_private_key_npub = gen_vanity_pubkey(startswith='23', style='npub')\n",
    "vanity_private_key_hex = gen_vanity_pubkey(startswith='23', style='hex')"
   ]
  },
  {
   "attachments": {},
   "cell_type": "markdown",
   "metadata": {},
   "source": [
    "And make sure it worked..."
   ]
  },
  {
   "cell_type": "code",
   "execution_count": null,
   "metadata": {},
   "outputs": [],
   "source": [
    "assert vanity_private_key_npub.public_key.bech32().startswith('npub123')\n",
    "assert vanity_private_key_hex.public_key.hex().startswith('23')"
   ]
  },
  {
   "attachments": {},
   "cell_type": "markdown",
   "metadata": {},
   "source": [
    "Now we can also make a version of this that notifies you."
   ]
  },
  {
   "cell_type": "code",
   "execution_count": null,
   "metadata": {},
   "outputs": [],
   "source": [
    "#| export\n",
    "\n",
    "vanity_notifyr = notifyr(gen_vanity_pubkey)"
   ]
  },
  {
   "attachments": {},
   "cell_type": "markdown",
   "metadata": {},
   "source": [
    "Remember that if you want a vanity notifyr that will go to a different address than the one you find in `vanity_notifyr.notifyr_privkey_hex` you can create your own notifyr like so:\n",
    "```python\n",
    "new_vanity_notifyr = notifyr(gen_vanity_pubkey, recipient_address=your_address)\n",
    "```"
   ]
  },
  {
   "cell_type": "code",
   "execution_count": null,
   "metadata": {},
   "outputs": [],
   "source": [
    "#| hide\n",
    "import nbdev; nbdev.nbdev_export()"
   ]
  }
 ],
 "metadata": {
  "kernelspec": {
   "display_name": "nostrfastr_jit",
   "language": "python",
   "name": "python3"
  }
 },
 "nbformat": 4,
 "nbformat_minor": 2
}
