{
 "cells": [
  {
   "cell_type": "code",
   "execution_count": null,
   "metadata": {},
   "outputs": [],
   "source": [
    "#| default_exp vanity"
   ]
  },
  {
   "cell_type": "code",
   "execution_count": null,
   "metadata": {},
   "outputs": [],
   "source": [
    "#| hide\n",
    "\n",
    "from nostr_relay import web"
   ]
  },
  {
   "cell_type": "code",
   "execution_count": null,
   "metadata": {},
   "outputs": [
    {
     "name": "stdout",
     "output_type": "stream",
     "text": [
      "2023-01-11 15:45:24,733 - nostr_relay.web - INFO - Starting version 1.3.4\n"
     ]
    },
    {
     "name": "stderr",
     "output_type": "stream",
     "text": [
      "INFO:     Started server process [81343]\n",
      "INFO:     Waiting for application startup.\n"
     ]
    }
   ],
   "source": [
    "#| hide\n",
    "\n",
    "web.run_with_uvicorn(conf_file='../nostr-relay/nostr-relay-config.yml', in_thread=True)"
   ]
  },
  {
   "attachments": {},
   "cell_type": "markdown",
   "metadata": {},
   "source": [
    "# vanity\n",
    "\n",
    "> Use the notifyr bot to generate vanity addresses and get notified by DM when they are done."
   ]
  },
  {
   "attachments": {},
   "cell_type": "markdown",
   "metadata": {},
   "source": [
    "## Finding vanity addresses\n",
    "Here is [an interesting article by Kris Constable about vanity addresses](https://krisconstable.com/generating-a-key-pair-with-nostr/). This is a great usecase for our notifyr decorator because calculating vanity addresses can be quite slow if we are looking for long words.\n",
    "\n",
    "This module will let you look for an `npub` or a `hex` vanity address that starts with a particular pattern."
   ]
  },
  {
   "cell_type": "code",
   "execution_count": null,
   "metadata": {},
   "outputs": [],
   "source": [
    "#| export\n",
    "\n",
    "import time\n",
    "import secrets\n",
    "import secp256k1\n",
    "import functools\n",
    "from typing import Union\n",
    "from nostrfastr.nostr import PrivateKey\n",
    "from nostrfastr.notifyr import notifyr\n",
    "from nostr import bech32"
   ]
  },
  {
   "cell_type": "code",
   "execution_count": null,
   "metadata": {},
   "outputs": [],
   "source": [
    "#| export\n",
    "\n",
    "def _guess_bytes():\n",
    "    privkey_bytes = secrets.token_bytes(32) \n",
    "    sk = secp256k1.PrivateKey(privkey_bytes)\n",
    "    pubkey_bytes = sk.pubkey.serialize()[1:]\n",
    "    return privkey_bytes, pubkey_bytes\n",
    "\n",
    "def _make_bech32(pubkey_bytes):\n",
    "    converted_bits = bech32.convertbits(pubkey_bytes, 8, 5)\n",
    "    pubkey = bech32.bech32_encode('npub', converted_bits, bech32.Encoding.BECH32)\n",
    "    return pubkey\n",
    "\n",
    "def _make_hex(pubkey_bytes):\n",
    "    return pubkey_bytes.hex()"
   ]
  },
  {
   "attachments": {},
   "cell_type": "markdown",
   "metadata": {},
   "source": [
    "## making guesses\n",
    "In this module you will find a `guess_npub` and `guess_hex` methods that are created from `_guess_vanity`. We are going directly back to the bits to get the best perfomance possible - this code is very similar to the code used to generate private keys in the `nostr.PrivateKey` class from `python-nostr`"
   ]
  },
  {
   "cell_type": "code",
   "execution_count": null,
   "metadata": {},
   "outputs": [],
   "source": [
    "#| export\n",
    "\n",
    "def _guess_vanity(make_format, startswith=''):\n",
    "    privkey_bytes, pubkey_bytes = _guess_bytes()\n",
    "    pubkey_hex = make_format(pubkey_bytes)\n",
    "    if pubkey_hex.startswith(startswith):\n",
    "        return privkey_bytes.hex(), pubkey_hex\n",
    "    else:\n",
    "        return None, None\n"
   ]
  },
  {
   "cell_type": "code",
   "execution_count": null,
   "metadata": {},
   "outputs": [],
   "source": [
    "#| export\n",
    "\n",
    "guess_bech32 = functools.partial(_guess_vanity, make_format=_make_bech32)\n",
    "guess_hex = functools.partial(_guess_vanity, make_format=_make_hex)\n"
   ]
  },
  {
   "cell_type": "code",
   "execution_count": null,
   "metadata": {},
   "outputs": [],
   "source": [
    "privkey_hex, npub = guess_bech32()\n",
    "assert PrivateKey.from_hex(privkey_hex).public_key.bech32() == npub"
   ]
  },
  {
   "cell_type": "code",
   "execution_count": null,
   "metadata": {},
   "outputs": [],
   "source": [
    "privkey_hex, pubkey_hex = guess_hex()\n",
    "assert PrivateKey.from_hex(privkey_hex).public_key.hex() == pubkey_hex"
   ]
  },
  {
   "attachments": {},
   "cell_type": "markdown",
   "metadata": {},
   "source": [
    "## checking computer hashrate\n",
    "We can make some functions to check the guess rate (hashrate)"
   ]
  },
  {
   "cell_type": "code",
   "execution_count": null,
   "metadata": {},
   "outputs": [],
   "source": [
    "#| export\n",
    "\n",
    "def _time_guess(guesser):\n",
    "    \"\"\"get a timed assessment of a guess\n",
    "\n",
    "    Parameters\n",
    "    ----------\n",
    "    guesser : function\n",
    "        either `guess_npub` or `guess_hex`\n",
    "\n",
    "    Returns\n",
    "    -------\n",
    "    float\n",
    "        time in seconds\n",
    "    \"\"\"\n",
    "    start = time.perf_counter()\n",
    "    pub = guesser(startswith=' ')\n",
    "    if pub is None:\n",
    "        pass\n",
    "    end = time.perf_counter()\n",
    "    interval = end - start\n",
    "    return interval\n",
    "\n",
    "def _get_guess_time(guesser, n_guesses=1e4):\n",
    "    \"\"\"estimate a guess rate\n",
    "\n",
    "    Parameters\n",
    "    ----------\n",
    "    guesser : function\n",
    "        either `guess_npub` or `guess_hex`\n",
    "    n_guesses : float, optional\n",
    "        number of guesses to make for estimation, by default 1e4\n",
    "\n",
    "    Returns\n",
    "    -------\n",
    "    float\n",
    "        time in seconds\n",
    "    \"\"\"\n",
    "    n_guesses = int(n_guesses)\n",
    "    t = sum([_time_guess(guesser) for _ in range(n_guesses)]) / n_guesses\n",
    "    return t"
   ]
  },
  {
   "cell_type": "code",
   "execution_count": null,
   "metadata": {},
   "outputs": [
    {
     "data": {
      "text/plain": [
       "'We estimage a hash rate of 9750.069930489984 guesses per second'"
      ]
     },
     "execution_count": null,
     "metadata": {},
     "output_type": "execute_result"
    }
   ],
   "source": [
    "f'We estimage a hash rate of {1/_get_guess_time(guess_hex)} guesses per second'"
   ]
  },
  {
   "cell_type": "code",
   "execution_count": null,
   "metadata": {},
   "outputs": [
    {
     "data": {
      "text/plain": [
       "'We estimage a hash rate of 4548.230563135903 guesses per second'"
      ]
     },
     "execution_count": null,
     "metadata": {},
     "output_type": "execute_result"
    }
   ],
   "source": [
    "f'We estimage a hash rate of {1/_get_guess_time(guess_bech32)} guesses per second'"
   ]
  },
  {
   "attachments": {},
   "cell_type": "markdown",
   "metadata": {},
   "source": [
    "And use our hashrate to make some estimates of how quickly we can find certain vanity addresses"
   ]
  },
  {
   "cell_type": "code",
   "execution_count": null,
   "metadata": {},
   "outputs": [],
   "source": [
    "#| export\n",
    "\n",
    "import math"
   ]
  },
  {
   "cell_type": "code",
   "execution_count": null,
   "metadata": {},
   "outputs": [],
   "source": [
    "#| export\n",
    "\n",
    "def _expected_guesses_by_char(options: Union[str,list], num_char: int) -> float:\n",
    "    \"\"\"return an average number of guesses it would take to guess\n",
    "    a pattern based on the number of characters in the pattern and\n",
    "    the number of character options in the random output\n",
    "\n",
    "    Parameters\n",
    "    ----------\n",
    "    options : list or str\n",
    "        a set of characters as a str or list that are options for\n",
    "        guessing\n",
    "    num_char : int\n",
    "        the number of characters in the pattern\n",
    "\n",
    "    Returns\n",
    "    -------\n",
    "    float\n",
    "        the expected number of guesses required to match the pattern\n",
    "    \"\"\"\n",
    "    p = 1 / len(options)\n",
    "    return (p ** -num_char - 1)/ (1 - p)\n",
    "\n",
    "def _expected_chars_by_time(options: Union[str,list], num_guesses: int) -> float:\n",
    "    \"\"\"the length of pattern you might expect to be able to guess given a\n",
    "    certain number of guesses.\n",
    "\n",
    "    Parameters\n",
    "    ----------\n",
    "    options : list or str\n",
    "        a set of characters as a str or list that are options for\n",
    "        guessing\n",
    "    num_guesses : int\n",
    "        the total number of guesses at a pattern\n",
    "\n",
    "    Returns\n",
    "    -------\n",
    "    float\n",
    "        th\n",
    "    \"\"\"\n",
    "    p = 1 / len(options)\n",
    "    n = - math.log(1 + (num_guesses * (1 - p))) / math.log(p)\n",
    "    return n\n",
    "\n",
    "def _expected_time(options: Union[str,list], num_char: int, time_per_guess: float) -> float:\n",
    "    \"\"\"the expected amount of time it would take to guess a pattern with a certain\n",
    "    length based on the average time per guess and the character options\n",
    "\n",
    "    Parameters\n",
    "    ----------\n",
    "    options : list or str\n",
    "        a set of characters as a str or list that are options for\n",
    "        guessing\n",
    "    num_char : int\n",
    "        the number of characters in the pattern\n",
    "    time_per_guess : float\n",
    "        averge time per guess in seconds\n",
    "\n",
    "    Returns\n",
    "    -------\n",
    "    float\n",
    "        the expected amount of time needed to guess the pattern\n",
    "    \"\"\"\n",
    "    n_guess = _expected_guesses_by_char(options, num_char)\n",
    "    time_seconds = n_guess * time_per_guess\n",
    "    return time_seconds\n",
    "\n",
    "hex_chars = 'abcdef0123456789'\n",
    "npub_chars = '023456789acdefghjklmnpqrstuvwxyz'\n"
   ]
  },
  {
   "cell_type": "code",
   "execution_count": null,
   "metadata": {},
   "outputs": [],
   "source": [
    "#| export\n",
    "\n",
    "def _average_char_by_time(options: Union[str,list], time_per_guess: float) -> None:\n",
    "    \"\"\"print an average number of characters you would expect to be\n",
    "    able to guess for certain time periods based on character options\n",
    "    and the average time per guess\n",
    "\n",
    "    Parameters\n",
    "    ----------\n",
    "    options : list or str\n",
    "        a set of characters as a str or list that are options for\n",
    "        guessing\n",
    "    time_per_guess : float\n",
    "        the average time elapsed per guess\n",
    "    \"\"\"\n",
    "    seconds_in_month = 60 * 60 * 24 * 30.5\n",
    "    seconds_in_day = 60 * 60 * 24\n",
    "    seconds_in_hour = 60 * 60\n",
    "    seconds_in_minute = 60\n",
    "\n",
    "    guesses_per_month = seconds_in_month / time_per_guess\n",
    "    guesses_per_day = seconds_in_day / time_per_guess\n",
    "    guesses_per_hour = seconds_in_hour / time_per_guess\n",
    "    guesses_per_minute = seconds_in_minute / time_per_guess\n",
    "    guesses_per_second = 1 / time_per_guess\n",
    "\n",
    "    guesses = [guesses_per_second, guesses_per_minute,\\\n",
    "               guesses_per_hour, guesses_per_day, guesses_per_month]\n",
    "\n",
    "    expected_chars = [_expected_chars_by_time(options, g) for g in guesses]\n",
    "    results = zip(['one second', 'one minute', 'one hour', 'one day', 'one month'],\n",
    "                   expected_chars)\n",
    "    for t, c in results:\n",
    "        print(f'In {t} you can expect to get {c} characters on average')\n",
    "\n",
    "def _average_time_by_char(options: Union[str,list], time_per_guess: float) -> None:\n",
    "    \"\"\"print an average elapsed time for a range of pattern lengths\n",
    "\n",
    "    Parameters\n",
    "    ----------\n",
    "    options : Union[str,list]\n",
    "        a set of characters as a str or list that are options for\n",
    "        guessing\n",
    "    time_per_guess : float\n",
    "        the average time elapsed per guess\n",
    "    \"\"\"\n",
    "    for n in range(20):\n",
    "        n += 1\n",
    "        t = _expected_time(options, n, time_per_guess)\n",
    "        print(f'{n} characters: it might take {t} seconds')\n",
    "\n"
   ]
  },
  {
   "cell_type": "code",
   "execution_count": null,
   "metadata": {},
   "outputs": [
    {
     "name": "stdout",
     "output_type": "stream",
     "text": [
      "In one second you can expect to get 2.3873073739084365 characters on average\n",
      "In one minute you can expect to get 3.568613098769878 characters on average\n",
      "In one hour you can expect to get 4.749990011166678 characters on average\n",
      "In one day you can expect to get 5.66698249171011 characters on average\n",
      "In one month you can expect to get 6.65312995839842 characters on average\n"
     ]
    }
   ],
   "source": [
    "#| hide\n",
    "\n",
    "time_per_guess = _get_guess_time(guess_bech32)\n",
    "_average_char_by_time(npub_chars, time_per_guess)"
   ]
  },
  {
   "cell_type": "code",
   "execution_count": null,
   "metadata": {},
   "outputs": [
    {
     "name": "stdout",
     "output_type": "stream",
     "text": [
      "In one second you can expect to get 3.303549094982759 characters on average\n",
      "In one minute you can expect to get 4.780234421593435 characters on average\n",
      "In one hour you can expect to get 6.256956448424652 characters on average\n",
      "In one day you can expect to get 7.403197063500674 characters on average\n",
      "In one month you can expect to get 8.635881397466482 characters on average\n"
     ]
    }
   ],
   "source": [
    "#| hide\n",
    "\n",
    "time_per_guess = _get_guess_time(guess_hex)\n",
    "_average_char_by_time(hex_chars, time_per_guess)"
   ]
  },
  {
   "cell_type": "code",
   "execution_count": null,
   "metadata": {},
   "outputs": [
    {
     "name": "stdout",
     "output_type": "stream",
     "text": [
      "1 characters: it might take 0.0015785832211840899 seconds\n",
      "2 characters: it might take 0.026835914760129528 seconds\n",
      "3 characters: it might take 0.43095321938325654 seconds\n",
      "4 characters: it might take 6.896830093353288 seconds\n",
      "5 characters: it might take 110.3508600768738 seconds\n",
      "6 characters: it might take 1765.6153398132021 seconds\n",
      "7 characters: it might take 28249.847015594452 seconds\n",
      "8 characters: it might take 451997.5538280945 seconds\n",
      "9 characters: it might take 7231960.8628280945 seconds\n",
      "10 characters: it might take 115711373.8068281 seconds\n",
      "11 characters: it might take 1851381980.910828 seconds\n",
      "12 characters: it might take 29622111694.57483 seconds\n",
      "13 characters: it might take 473953787113.19885 seconds\n",
      "14 characters: it might take 7583260593811.184 seconds\n",
      "15 characters: it might take 121332169500978.94 seconds\n",
      "16 characters: it might take 1941314712015663.0 seconds\n",
      "17 characters: it might take 3.106103539225061e+16 seconds\n",
      "18 characters: it might take 4.969765662760097e+17 seconds\n",
      "19 characters: it might take 7.951625060416156e+18 seconds\n",
      "20 characters: it might take 1.2722600096665849e+20 seconds\n"
     ]
    }
   ],
   "source": [
    "#| hide\n",
    "\n",
    "_average_time_by_char(hex_chars, time_per_guess)"
   ]
  },
  {
   "cell_type": "code",
   "execution_count": null,
   "metadata": {},
   "outputs": [],
   "source": [
    "#| export\n",
    "\n",
    "def expected_performance():\n",
    "    print(\n",
    "        '''This is a random guessing process - estimations are an average, but the actual\n",
    "        time it takes to find a key could be significantly more or less than the estimate!\n",
    "        Please keep that in mind when choosing an option.\n",
    "        ''')\n",
    "    print('hex:')\n",
    "    time_per_guess_hex = _get_guess_time(guesser=guess_hex)\n",
    "    _average_char_by_time(hex_chars, time_per_guess_hex)\n",
    "    print('\\n')\n",
    "    _average_time_by_char(hex_chars, time_per_guess_hex)\n",
    "    print('\\n')\n",
    "\n",
    "    print('npub:')\n",
    "    time_per_guess_bech32 = _get_guess_time(guesser=guess_bech32)\n",
    "    _average_char_by_time(npub_chars, time_per_guess_bech32)\n",
    "    print('\\n')\n",
    "    _average_time_by_char(npub_chars, time_per_guess_bech32)\n",
    "    print('\\n')\n",
    "\n",
    "    "
   ]
  },
  {
   "cell_type": "code",
   "execution_count": null,
   "metadata": {},
   "outputs": [
    {
     "name": "stdout",
     "output_type": "stream",
     "text": [
      "This is a random guessing process - estimations are an average, but the actual\n",
      "        time it takes to find a key could be significantly more or less than the estimate!\n",
      "        Please keep that in mind when choosing an option.\n",
      "        \n",
      "hex:\n",
      "In one second you can expect to get 3.2801263443168422 characters on average\n",
      "In one minute you can expect to get 4.756809166584342 characters on average\n",
      "In one hour you can expect to get 6.233531151671968 characters on average\n",
      "In one day you can expect to get 7.379771766069949 characters on average\n",
      "In one month you can expect to get 8.612456100007245 characters on average\n",
      "\n",
      "\n",
      "1 characters: it might take 0.0016845129386987537 seconds\n",
      "2 characters: it might take 0.028636719957878812 seconds\n",
      "3 characters: it might take 0.45987203226475976 seconds\n",
      "4 characters: it might take 7.359637029174855 seconds\n",
      "5 characters: it might take 117.75587697973637 seconds\n",
      "6 characters: it might take 1884.0957161887206 seconds\n",
      "7 characters: it might take 30145.53314353247 seconds\n",
      "8 characters: it might take 482328.53198103246 seconds\n",
      "9 characters: it might take 7717256.513381032 seconds\n",
      "10 characters: it might take 123476104.21578103 seconds\n",
      "11 characters: it might take 1975617667.454181 seconds\n",
      "12 characters: it might take 31609882679.26858 seconds\n",
      "13 characters: it might take 505758122868.29895 seconds\n",
      "14 characters: it might take 8092129965892.785 seconds\n",
      "15 characters: it might take 129474079454284.56 seconds\n",
      "16 characters: it might take 2071585271268553.0 seconds\n",
      "17 characters: it might take 3.314536434029685e+16 seconds\n",
      "18 characters: it might take 5.303258294447496e+17 seconds\n",
      "19 characters: it might take 8.485213271115993e+18 seconds\n",
      "20 characters: it might take 1.3576341233785589e+20 seconds\n",
      "\n",
      "\n",
      "npub:\n",
      "In one second you can expect to get 2.4243338383945514 characters on average\n",
      "In one minute you can expect to get 3.605648282774729 characters on average\n",
      "In one hour you can expect to get 4.787025340531682 characters on average\n",
      "In one day you can expect to get 5.7040178234362 characters on average\n",
      "In one month you can expect to get 6.6901652902238 characters on average\n",
      "\n",
      "\n",
      "1 characters: it might take 0.0069578191168606284 seconds\n",
      "2 characters: it might take 0.22960803085640075 seconds\n",
      "3 characters: it might take 7.354414806521684 seconds\n",
      "4 characters: it might take 235.34823162781075 seconds\n",
      "5 characters: it might take 7531.150369909061 seconds\n",
      "6 characters: it might take 240996.81879490908 seconds\n",
      "7 characters: it might take 7711898.208394909 seconds\n",
      "8 characters: it might take 246780742.67559493 seconds\n",
      "9 characters: it might take 7896983765.625996 seconds\n",
      "10 characters: it might take 252703480500.03882 seconds\n",
      "11 characters: it might take 8086511376001.249 seconds\n",
      "12 characters: it might take 258768364032039.97 seconds\n",
      "13 characters: it might take 8280587649025279.0 seconds\n",
      "14 characters: it might take 2.6497880476880893e+17 seconds\n",
      "15 characters: it might take 8.479321752601886e+18 seconds\n",
      "16 characters: it might take 2.7133829608326034e+20 seconds\n",
      "17 characters: it might take 8.682825474664331e+21 seconds\n",
      "18 characters: it might take 2.778504151892586e+23 seconds\n",
      "19 characters: it might take 8.891213286056275e+24 seconds\n",
      "20 characters: it might take 2.845188251538008e+26 seconds\n",
      "\n",
      "\n"
     ]
    }
   ],
   "source": [
    "expected_performance()"
   ]
  },
  {
   "attachments": {},
   "cell_type": "markdown",
   "metadata": {},
   "source": [
    "Lets make the function..."
   ]
  },
  {
   "cell_type": "code",
   "execution_count": null,
   "metadata": {},
   "outputs": [],
   "source": [
    "#| export\n",
    "\n",
    "def gen_vanity_pubkey(startswith: str, style='hex') -> PrivateKey:\n",
    "    \"\"\"randomly generate private keys until one matches the desire\n",
    "    startswith for an npub or hex\n",
    "\n",
    "    Parameters\n",
    "    ----------\n",
    "    startswith : str\n",
    "        characters that the public key should start with. More chars\n",
    "        means longer run time\n",
    "    style : str, optional\n",
    "        'npub' or 'hex' - npub is more commonly displayed on apps\n",
    "        while hex is the true base private key with no encoding,\n",
    "        by default 'hex'\n",
    "\n",
    "    Returns\n",
    "    -------\n",
    "    PrivateKey\n",
    "        returns a private key object\n",
    "    \"\"\"\n",
    "    pubkey = None\n",
    "    if style == 'npub':\n",
    "        if not all(c in npub_chars for c in startswith):\n",
    "            raise ValueError(f'character of selection not '\n",
    "                              'in npub pattern ({npub_chars})')\n",
    "        time_per_guess = _get_guess_time(guess_bech32)\n",
    "        t = _expected_time(npub_chars, len(startswith), time_per_guess)\n",
    "        startswith = f'npub1{startswith}'\n",
    "    else:\n",
    "        if not all(c in hex_chars for c in startswith):\n",
    "            raise ValueError(f'character of selection not in '\n",
    "                              'hex pattern ({hex_chars})')\n",
    "        time_per_guess = _get_guess_time(guess_hex)\n",
    "        t = _expected_time(hex_chars, len(startswith), time_per_guess)\n",
    "    print(f'It might take {int(t)} seconds to find a {style} pubkey that starts with '\n",
    "          f'{startswith}. Note that this is a very rough estimate and due '\n",
    "          'to the random nature of finding vanity keys it could take MUCH '\n",
    "          'longer.')\n",
    "    while pubkey is None:\n",
    "        if style == 'npub':\n",
    "            privkey_hex, pubkey = guess_bech32(startswith=startswith)\n",
    "        else:\n",
    "            privkey_hex, pubkey = guess_hex(startswith=startswith)\n",
    "    return PrivateKey.from_hex(privkey_hex)"
   ]
  },
  {
   "cell_type": "code",
   "execution_count": null,
   "metadata": {},
   "outputs": [],
   "source": [
    "from fastcore.test import test_fail"
   ]
  },
  {
   "attachments": {},
   "cell_type": "markdown",
   "metadata": {},
   "source": [
    "Make sure we don't allow characters that will never happen - test that these cases fail"
   ]
  },
  {
   "cell_type": "code",
   "execution_count": null,
   "metadata": {},
   "outputs": [],
   "source": [
    "fail = lambda _: gen_vanity_pubkey(startswith='b', style='npub')\n",
    "test_fail(fail)\n",
    "fail = lambda _: gen_vanity_pubkey(startswith='g', style='hex')\n",
    "test_fail(fail)\n"
   ]
  },
  {
   "attachments": {},
   "cell_type": "markdown",
   "metadata": {},
   "source": [
    "Generate a couple npubs!"
   ]
  },
  {
   "cell_type": "code",
   "execution_count": null,
   "metadata": {},
   "outputs": [
    {
     "name": "stdout",
     "output_type": "stream",
     "text": [
      "It might take 0 seconds to find a npub pubkey that starts with npub123. Note that this is a very rough estimate and due to the random nature of finding vanity keys it could take MUCH longer.\n",
      "It might take 0 seconds to find a hex pubkey that starts with 23. Note that this is a very rough estimate and due to the random nature of finding vanity keys it could take MUCH longer.\n"
     ]
    }
   ],
   "source": [
    "vanity_private_key_npub = gen_vanity_pubkey(startswith='23', style='npub')\n",
    "vanity_private_key_hex = gen_vanity_pubkey(startswith='23', style='hex')"
   ]
  },
  {
   "attachments": {},
   "cell_type": "markdown",
   "metadata": {},
   "source": [
    "And make sure it worked..."
   ]
  },
  {
   "cell_type": "code",
   "execution_count": null,
   "metadata": {},
   "outputs": [],
   "source": [
    "assert vanity_private_key_npub.public_key.bech32().startswith('npub123')\n",
    "assert vanity_private_key_hex.public_key.hex().startswith('23')"
   ]
  },
  {
   "attachments": {},
   "cell_type": "markdown",
   "metadata": {},
   "source": [
    "Now we can also make a version of this that notifies you."
   ]
  },
  {
   "cell_type": "code",
   "execution_count": null,
   "metadata": {},
   "outputs": [],
   "source": [
    "#| export\n",
    "\n",
    "vanity_notifyr = notifyr(gen_vanity_pubkey)"
   ]
  },
  {
   "attachments": {},
   "cell_type": "markdown",
   "metadata": {},
   "source": [
    "Remember that if you want a vanity notifyr that will go to a different address than the one you find in `vanity_notifyr.notifyr_privkey_hex` you can create your own notifyr like so:\n",
    "```python\n",
    "new_vanity_notifyr = notifyr(gen_vanity_pubkey, recipient_address=your_address)\n",
    "```"
   ]
  },
  {
   "cell_type": "code",
   "execution_count": null,
   "metadata": {},
   "outputs": [],
   "source": [
    "#| hide\n",
    "import nbdev; nbdev.nbdev_export()"
   ]
  }
 ],
 "metadata": {
  "kernelspec": {
   "display_name": "rebroadcastr-nbdev",
   "language": "python",
   "name": "python3"
  }
 },
 "nbformat": 4,
 "nbformat_minor": 2
}
