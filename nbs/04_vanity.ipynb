{
 "cells": [
  {
   "cell_type": "code",
   "execution_count": null,
   "metadata": {},
   "outputs": [],
   "source": [
    "#| default_exp vanity"
   ]
  },
  {
   "cell_type": "code",
   "execution_count": null,
   "metadata": {},
   "outputs": [],
   "source": [
    "#| hide\n",
    "\n",
    "from nostr_relay import web"
   ]
  },
  {
   "cell_type": "code",
   "execution_count": null,
   "metadata": {},
   "outputs": [
    {
     "name": "stdout",
     "output_type": "stream",
     "text": [
      "2023-01-08 13:42:37,726 - nostr_relay.web - INFO - Starting version 1.3.4\n"
     ]
    }
   ],
   "source": [
    "#| hide\n",
    "\n",
    "web.run_with_uvicorn(conf_file='../nostr-relay/nostr-relay-config.yml', in_thread=True)"
   ]
  },
  {
   "attachments": {},
   "cell_type": "markdown",
   "metadata": {},
   "source": [
    "# vanity\n",
    "\n",
    "> Use the notifyr bot to generate vanity addresses and get notified by DM when they are done."
   ]
  },
  {
   "attachments": {},
   "cell_type": "markdown",
   "metadata": {},
   "source": [
    "## Finding vanity addresses\n",
    "Here is [an interesting article by Kris Constable about vanity addresses](https://krisconstable.com/generating-a-key-pair-with-nostr/). This is a great usecase for our notifyr decorator because calculating vanity addresses can be quite slow if we are looking for long words.\n",
    "\n",
    "This module will let you look for an `npub` or a `hex` vanity address that starts with a particular pattern."
   ]
  },
  {
   "cell_type": "code",
   "execution_count": null,
   "metadata": {},
   "outputs": [
    {
     "name": "stderr",
     "output_type": "stream",
     "text": [
      "INFO:     Started server process [81343]\n",
      "INFO:     Waiting for application startup.\n"
     ]
    },
    {
     "name": "stdout",
     "output_type": "stream",
     "text": [
      "2023-01-08 13:42:39,475 - nostr_relay.db - INFO - Database filename: '../nostr-relay/nostr.sqlite3'\n",
      "2023-01-08 13:42:39,480 - nostr_relay.db:gc - INFO - Starting garbage collector QueryGarbageCollector. Interval 300\n"
     ]
    },
    {
     "name": "stderr",
     "output_type": "stream",
     "text": [
      "INFO:     Application startup complete.\n",
      "ERROR:    [Errno 48] error while attempting to bind on address ('127.0.0.1', 6969): address already in use\n",
      "INFO:     Waiting for application shutdown.\n",
      "INFO:     Application shutdown complete.\n"
     ]
    }
   ],
   "source": [
    "#| export\n",
    "\n",
    "import time\n",
    "import secrets\n",
    "import secp256k1\n",
    "import functools\n",
    "from typing import Union\n",
    "from nostrfastr.nostr import PrivateKey\n",
    "from nostrfastr.notifyr import notifyr\n",
    "from nostr import bech32"
   ]
  },
  {
   "cell_type": "code",
   "execution_count": null,
   "metadata": {},
   "outputs": [],
   "source": [
    "#| hide\n",
    "#| export\n",
    "\n",
    "def _guess_bytes():\n",
    "    privkey_bytes = secrets.token_bytes(32) \n",
    "    sk = secp256k1.PrivateKey(privkey_bytes)\n",
    "    pubkey_bytes = sk.pubkey.serialize()[1:]\n",
    "    return privkey_bytes, pubkey_bytes\n",
    "\n",
    "def _make_bech32(pubkey_bytes):\n",
    "    converted_bits = bech32.convertbits(pubkey_bytes, 8, 5)\n",
    "    pubkey = bech32.bech32_encode('npub', converted_bits, bech32.Encoding.BECH32)\n",
    "    return pubkey\n",
    "\n",
    "def _make_hex(pubkey_bytes):\n",
    "    return pubkey_bytes.hex()"
   ]
  },
  {
   "attachments": {},
   "cell_type": "markdown",
   "metadata": {},
   "source": [
    "## making guesses\n",
    "In this module you will find a `guess_npub` and `guess_hex` methods that are created from `_guess_vanity`. We are going directly back to the bits to get the best perfomance possible - this code is very similar to the code used to generate private keys in the `nostr.PrivateKey` class from `python-nostr`"
   ]
  },
  {
   "cell_type": "code",
   "execution_count": null,
   "metadata": {},
   "outputs": [],
   "source": [
    "#| export\n",
    "\n",
    "def _guess_vanity(make_format, startswith=''):\n",
    "    privkey_bytes, pubkey_bytes = _guess_bytes()\n",
    "    pubkey_hex = make_format(pubkey_bytes)\n",
    "    if pubkey_hex.startswith(startswith):\n",
    "        return privkey_bytes.hex(), pubkey_hex\n",
    "    else:\n",
    "        return None, None\n"
   ]
  },
  {
   "cell_type": "code",
   "execution_count": null,
   "metadata": {},
   "outputs": [],
   "source": [
    "#| hide\n",
    "#| export\n",
    "\n",
    "guess_bech32 = functools.partial(_guess_vanity, make_format=_make_bech32)\n",
    "guess_hex = functools.partial(_guess_vanity, make_format=_make_hex)\n"
   ]
  },
  {
   "cell_type": "code",
   "execution_count": null,
   "metadata": {},
   "outputs": [],
   "source": [
    "privkey_hex, npub = guess_bech32()\n",
    "assert PrivateKey.from_hex(privkey_hex).public_key.bech32() == npub"
   ]
  },
  {
   "cell_type": "code",
   "execution_count": null,
   "metadata": {},
   "outputs": [],
   "source": [
    "privkey_hex, pubkey_hex = guess_hex()\n",
    "assert PrivateKey.from_hex(privkey_hex).public_key.hex() == pubkey_hex"
   ]
  },
  {
   "attachments": {},
   "cell_type": "markdown",
   "metadata": {},
   "source": [
    "## checking computer hashrate\n",
    "We can make some functions to check the guess rate (hashrate)"
   ]
  },
  {
   "cell_type": "code",
   "execution_count": null,
   "metadata": {},
   "outputs": [],
   "source": [
    "#| export\n",
    "\n",
    "def _time_guess(guesser):\n",
    "    \"\"\"get a timed assessment of a guess\n",
    "\n",
    "    Parameters\n",
    "    ----------\n",
    "    guesser : function\n",
    "        either `guess_npub` or `guess_hex`\n",
    "\n",
    "    Returns\n",
    "    -------\n",
    "    float\n",
    "        time in seconds\n",
    "    \"\"\"\n",
    "    start = time.perf_counter()\n",
    "    pub = guesser(startswith=' ')\n",
    "    if pub is None:\n",
    "        pass\n",
    "    end = time.perf_counter()\n",
    "    interval = end - start\n",
    "    return interval\n",
    "\n",
    "def _get_guess_time(guesser, n_guesses=1e4):\n",
    "    \"\"\"estimate a guess rate\n",
    "\n",
    "    Parameters\n",
    "    ----------\n",
    "    guesser : function\n",
    "        either `guess_npub` or `guess_hex`\n",
    "    n_guesses : float, optional\n",
    "        number of guesses to make for estimation, by default 1e4\n",
    "\n",
    "    Returns\n",
    "    -------\n",
    "    float\n",
    "        time in seconds\n",
    "    \"\"\"\n",
    "    n_guesses = int(n_guesses)\n",
    "    t = sum([_time_guess(guesser) for _ in range(n_guesses)]) / n_guesses\n",
    "    return t"
   ]
  },
  {
   "cell_type": "code",
   "execution_count": null,
   "metadata": {},
   "outputs": [
    {
     "data": {
      "text/plain": [
       "'We estimage a hash rate of 3321.917613043709 guesses per second'"
      ]
     },
     "execution_count": null,
     "metadata": {},
     "output_type": "execute_result"
    }
   ],
   "source": [
    "f'We estimage a hash rate of {1/_get_guess_time(guess_hex)} guesses per second'"
   ]
  },
  {
   "cell_type": "code",
   "execution_count": null,
   "metadata": {},
   "outputs": [
    {
     "data": {
      "text/plain": [
       "'We estimage a hash rate of 1253.46057308195 guesses per second'"
      ]
     },
     "execution_count": null,
     "metadata": {},
     "output_type": "execute_result"
    }
   ],
   "source": [
    "f'We estimage a hash rate of {1/_get_guess_time(guess_bech32)} guesses per second'"
   ]
  },
  {
   "attachments": {},
   "cell_type": "markdown",
   "metadata": {},
   "source": [
    "And use our hashrate to make some estimates of how quickly we can find certain vanity addresses"
   ]
  },
  {
   "cell_type": "code",
   "execution_count": null,
   "metadata": {},
   "outputs": [],
   "source": [
    "#| hide\n",
    "#| export\n",
    "\n",
    "import math"
   ]
  },
  {
   "cell_type": "code",
   "execution_count": null,
   "metadata": {},
   "outputs": [],
   "source": [
    "#| hide\n",
    "#| export\n",
    "\n",
    "def _expected_guesses_by_char(options: Union[str,list], num_char: int) -> float:\n",
    "    \"\"\"return an average number of guesses it would take to guess\n",
    "    a pattern based on the number of characters in the pattern and\n",
    "    the number of character options in the random output\n",
    "\n",
    "    Parameters\n",
    "    ----------\n",
    "    options : list or str\n",
    "        a set of characters as a str or list that are options for\n",
    "        guessing\n",
    "    num_char : int\n",
    "        the number of characters in the pattern\n",
    "\n",
    "    Returns\n",
    "    -------\n",
    "    float\n",
    "        the expected number of guesses required to match the pattern\n",
    "    \"\"\"\n",
    "    p = 1 / len(options)\n",
    "    return (p ** -num_char - 1)/ (1 - p)\n",
    "\n",
    "def _expected_chars_by_time(options: Union[str,list], num_guesses: int) -> float:\n",
    "    \"\"\"the length of pattern you might expect to be able to guess given a\n",
    "    certain number of guesses.\n",
    "\n",
    "    Parameters\n",
    "    ----------\n",
    "    options : list or str\n",
    "        a set of characters as a str or list that are options for\n",
    "        guessing\n",
    "    num_guesses : int\n",
    "        the total number of guesses at a pattern\n",
    "\n",
    "    Returns\n",
    "    -------\n",
    "    float\n",
    "        th\n",
    "    \"\"\"\n",
    "    p = 1 / len(options)\n",
    "    n = - math.log(1 + (num_guesses * (1 - p))) / math.log(p)\n",
    "    return n\n",
    "\n",
    "def _expected_time(options: Union[str,list], num_char: int, time_per_guess: float) -> float:\n",
    "    \"\"\"the expected amount of time it would take to guess a pattern with a certain\n",
    "    length based on the average time per guess and the character options\n",
    "\n",
    "    Parameters\n",
    "    ----------\n",
    "    options : list or str\n",
    "        a set of characters as a str or list that are options for\n",
    "        guessing\n",
    "    num_char : int\n",
    "        the number of characters in the pattern\n",
    "    time_per_guess : float\n",
    "        averge time per guess in seconds\n",
    "\n",
    "    Returns\n",
    "    -------\n",
    "    float\n",
    "        the expected amount of time needed to guess the pattern\n",
    "    \"\"\"\n",
    "    n_guess = _expected_guesses_by_char(options, num_char)\n",
    "    time_seconds = n_guess * time_per_guess\n",
    "    return time_seconds\n"
   ]
  },
  {
   "cell_type": "code",
   "execution_count": null,
   "metadata": {},
   "outputs": [],
   "source": [
    "#| hide\n",
    "#| export\n",
    "\n",
    "hex_chars = 'abcdef0123456789'\n",
    "npub_chars = '023456789acdefghjklmnpqrstuvwxyz'\n",
    "\n",
    "def _average_char_by_time(options: Union[str,list], time_per_guess: float) -> None:\n",
    "    \"\"\"print an average number of characters you would expect to be\n",
    "    able to guess for certain time periods based on character options\n",
    "    and the average time per guess\n",
    "\n",
    "    Parameters\n",
    "    ----------\n",
    "    options : list or str\n",
    "        a set of characters as a str or list that are options for\n",
    "        guessing\n",
    "    time_per_guess : float\n",
    "        the average time elapsed per guess\n",
    "    \"\"\"\n",
    "    seconds_in_month = 60 * 60 * 24 * 30.5\n",
    "    seconds_in_day = 60 * 60 * 24\n",
    "    seconds_in_hour = 60 * 60\n",
    "    seconds_in_minute = 60\n",
    "\n",
    "    guesses_per_month = seconds_in_month / time_per_guess\n",
    "    guesses_per_day = seconds_in_day / time_per_guess\n",
    "    guesses_per_hour = seconds_in_hour / time_per_guess\n",
    "    guesses_per_minute = seconds_in_minute / time_per_guess\n",
    "    guesses_per_second = 1 / time_per_guess\n",
    "\n",
    "    guesses = [guesses_per_second, guesses_per_minute,\\\n",
    "               guesses_per_hour, guesses_per_day, guesses_per_month]\n",
    "\n",
    "    expected_chars = [_expected_chars_by_time(options, g) for g in guesses]\n",
    "    results = zip(['one second', 'one minute', 'one hour', 'one day', 'one month'],\n",
    "                   expected_chars)\n",
    "    for t, c in results:\n",
    "        print(f'In {t} you can expect to get {c} characters on average')\n",
    "\n",
    "def _average_time_by_char(options: Union[str,list], time_per_guess: float) -> None:\n",
    "    \"\"\"print an average elapsed time for a range of pattern lengths\n",
    "\n",
    "    Parameters\n",
    "    ----------\n",
    "    options : Union[str,list]\n",
    "        a set of characters as a str or list that are options for\n",
    "        guessing\n",
    "    time_per_guess : float\n",
    "        the average time elapsed per guess\n",
    "    \"\"\"\n",
    "    for n in range(20):\n",
    "        n += 1\n",
    "        t = _expected_time(options, n, time_per_guess)\n",
    "        print(f'{n} characters: it might take {t} seconds')\n",
    "\n"
   ]
  },
  {
   "cell_type": "code",
   "execution_count": null,
   "metadata": {},
   "outputs": [
    {
     "name": "stdout",
     "output_type": "stream",
     "text": [
      "In one second you can expect to get 2.1101232946492248 characters on average\n",
      "In one minute you can expect to get 3.2913121812963992 characters on average\n",
      "In one hour you can expect to get 4.472687145491851 characters on average\n",
      "In one day you can expect to get 5.389679594390526 characters on average\n",
      "In one month you can expect to get 6.3758270597480875 characters on average\n"
     ]
    }
   ],
   "source": [
    "#| hide\n",
    "\n",
    "time_per_guess = _get_guess_time(guess_bech32)\n",
    "_average_char_by_time(npub_chars, time_per_guess)"
   ]
  },
  {
   "cell_type": "code",
   "execution_count": null,
   "metadata": {},
   "outputs": [
    {
     "name": "stdout",
     "output_type": "stream",
     "text": [
      "In one second you can expect to get 2.7817152297248655 characters on average\n",
      "In one minute you can expect to get 4.2582792462187475 characters on average\n",
      "In one hour you can expect to get 5.734999250656209 characters on average\n",
      "In one day you can expect to get 6.881239832882463 characters on average\n",
      "In one month you can expect to get 8.11392416546685 characters on average\n"
     ]
    }
   ],
   "source": [
    "#| hide\n",
    "\n",
    "time_per_guess = _get_guess_time(guess_hex)\n",
    "_average_char_by_time(hex_chars, time_per_guess)"
   ]
  },
  {
   "cell_type": "code",
   "execution_count": null,
   "metadata": {},
   "outputs": [
    {
     "name": "stdout",
     "output_type": "stream",
     "text": [
      "1 characters: it might take 0.006710681323660537 seconds\n",
      "2 characters: it might take 0.11408158250222913 seconds\n",
      "3 characters: it might take 1.8320160013593267 seconds\n",
      "4 characters: it might take 29.31896670307289 seconds\n",
      "5 characters: it might take 469.11017793048984 seconds\n",
      "6 characters: it might take 7505.769557569161 seconds\n",
      "7 characters: it might take 120092.3196317879 seconds\n",
      "8 characters: it might take 1921477.1208192878 seconds\n",
      "9 characters: it might take 30743633.939819288 seconds\n",
      "10 characters: it might take 491898143.04381925 seconds\n",
      "11 characters: it might take 7870370288.707819 seconds\n",
      "12 characters: it might take 125925924619.33182 seconds\n",
      "13 characters: it might take 2014814793909.3157 seconds\n",
      "14 characters: it might take 32237036702549.06 seconds\n",
      "15 characters: it might take 515792587240784.94 seconds\n",
      "16 characters: it might take 8252681395852559.0 seconds\n",
      "17 characters: it might take 1.3204290233364094e+17 seconds\n",
      "18 characters: it might take 2.112686437338255e+18 seconds\n",
      "19 characters: it might take 3.380298299741208e+19 seconds\n",
      "20 characters: it might take 5.408477279585933e+20 seconds\n"
     ]
    }
   ],
   "source": [
    "#| hide\n",
    "\n",
    "_average_time_by_char(hex_chars, time_per_guess)"
   ]
  },
  {
   "cell_type": "code",
   "execution_count": null,
   "metadata": {},
   "outputs": [],
   "source": [
    "#| export\n",
    "\n",
    "def expected_performance():\n",
    "    print(\n",
    "        '''This is a random guessing process - estimations are an average, but the actual\n",
    "        time it takes to find a key could be significantly more or less than the estimate!\n",
    "        Please keep that in mind when choosing an option.\n",
    "        ''')\n",
    "    print('hex:')\n",
    "    time_per_guess_hex = _get_guess_time(guesser=guess_hex)\n",
    "    _average_char_by_time(hex_chars, time_per_guess_hex)\n",
    "    print('\\n')\n",
    "    _average_time_by_char(hex_chars, time_per_guess_hex)\n",
    "    print('\\n')\n",
    "\n",
    "    print('npub:')\n",
    "    time_per_guess_bech32 = _get_guess_time(guesser=guess_bech32)\n",
    "    _average_char_by_time(npub_chars, time_per_guess_bech32)\n",
    "    print('\\n')\n",
    "    _average_time_by_char(npub_chars, time_per_guess_bech32)\n",
    "    print('\\n')\n",
    "\n",
    "    "
   ]
  },
  {
   "cell_type": "code",
   "execution_count": null,
   "metadata": {},
   "outputs": [
    {
     "name": "stdout",
     "output_type": "stream",
     "text": [
      "This is a random guessing process - estimations are an average, but the actual\n",
      "        time it takes to find a key could be significantly more or less than the estimate!\n",
      "        Please keep that in mind when choosing an option.\n",
      "        \n",
      "hex:\n",
      "In one second you can expect to get 2.778108403956852 characters on average\n",
      "In one minute you can expect to get 4.2546708257751735 characters on average\n",
      "In one hour you can expect to get 5.731390803622762 characters on average\n",
      "In one day you can expect to get 6.877631385417116 characters on average\n",
      "In one month you can expect to get 8.110315717983339 characters on average\n",
      "\n",
      "\n",
      "1 characters: it might take 0.006778156926017255 seconds\n",
      "2 characters: it might take 0.11522866774229333 seconds\n",
      "3 characters: it might take 1.8504368408027105 seconds\n",
      "4 characters: it might take 29.613767609769386 seconds\n",
      "5 characters: it might take 473.8270599132362 seconds\n",
      "6 characters: it might take 7581.239736768705 seconds\n",
      "7 characters: it might take 121299.84256645621 seconds\n",
      "8 characters: it might take 1940797.4878414562 seconds\n",
      "9 characters: it might take 31052759.812241457 seconds\n",
      "10 characters: it might take 496844157.00264144 seconds\n",
      "11 characters: it might take 7949506512.049042 seconds\n",
      "12 characters: it might take 127192104192.79144 seconds\n",
      "13 characters: it might take 2035073667084.67 seconds\n",
      "14 characters: it might take 32561178673354.723 seconds\n",
      "15 characters: it might take 520978858773675.56 seconds\n",
      "16 characters: it might take 8335661740378809.0 seconds\n",
      "17 characters: it might take 1.3337058784606094e+17 seconds\n",
      "18 characters: it might take 2.133929405536975e+18 seconds\n",
      "19 characters: it might take 3.41428704885916e+19 seconds\n",
      "20 characters: it might take 5.462859278174656e+20 seconds\n",
      "\n",
      "\n",
      "npub:\n",
      "In one second you can expect to get 2.1475920591278452 characters on average\n",
      "In one minute you can expect to get 3.3288039969263954 characters on average\n",
      "In one hour you can expect to get 4.510179345548337 characters on average\n",
      "In one day you can expect to get 5.427171800691294 characters on average\n",
      "In one month you can expect to get 6.413319266311444 characters on average\n",
      "\n",
      "\n",
      "1 characters: it might take 0.01816217772429809 seconds\n",
      "2 characters: it might take 0.5993518649018369 seconds\n",
      "3 characters: it might take 19.19742185458308 seconds\n",
      "4 characters: it might take 614.3356615243829 seconds\n",
      "5 characters: it might take 19658.759330957975 seconds\n",
      "6 characters: it might take 629080.316752833 seconds\n",
      "7 characters: it might take 20130570.15425283 seconds\n",
      "8 characters: it might take 644178244.9542528 seconds\n",
      "9 characters: it might take 20613703838.554253 seconds\n",
      "10 characters: it might take 659638522833.7542 seconds\n",
      "11 characters: it might take 21108432730680.152 seconds\n",
      "12 characters: it might take 675469847381764.9 seconds\n",
      "13 characters: it might take 2.1615035116216476e+16 seconds\n",
      "14 characters: it might take 6.916811237189272e+17 seconds\n",
      "15 characters: it might take 2.213379595900567e+19 seconds\n",
      "16 characters: it might take 7.082814706881815e+20 seconds\n",
      "17 characters: it might take 2.2665007062021808e+22 seconds\n",
      "18 characters: it might take 7.252802259846978e+23 seconds\n",
      "19 characters: it might take 2.320896723151033e+25 seconds\n",
      "20 characters: it might take 7.426869514083306e+26 seconds\n",
      "\n",
      "\n"
     ]
    }
   ],
   "source": [
    "expected_performance()"
   ]
  },
  {
   "attachments": {},
   "cell_type": "markdown",
   "metadata": {},
   "source": [
    "Lets make the function..."
   ]
  },
  {
   "cell_type": "code",
   "execution_count": null,
   "metadata": {},
   "outputs": [],
   "source": [
    "#| export\n",
    "\n",
    "def gen_vanity_pubkey(startswith: str, style='hex') -> PrivateKey:\n",
    "    \"\"\"randomly generate private keys until one matches the desire\n",
    "    startswith for an npub or hex\n",
    "\n",
    "    Parameters\n",
    "    ----------\n",
    "    startswith : str\n",
    "        characters that the public key should start with. More chars\n",
    "        means longer run time\n",
    "    style : str, optional\n",
    "        'npub' or 'hex' - npub is more commonly displayed on apps\n",
    "        while hex is the true base private key with no encoding,\n",
    "        by default 'hex'\n",
    "\n",
    "    Returns\n",
    "    -------\n",
    "    PrivateKey\n",
    "        returns a private key object\n",
    "    \"\"\"\n",
    "    pubkey = None\n",
    "    if style == 'npub':\n",
    "        if not all(c in npub_chars for c in startswith):\n",
    "            raise ValueError(f'character of selection not '\n",
    "                              'in npub pattern ({npub_chars})')\n",
    "        time_per_guess = _get_guess_time(guess_bech32)\n",
    "        t = _expected_time(npub_chars, len(startswith), time_per_guess)\n",
    "        startswith = f'npub1{startswith}'\n",
    "    else:\n",
    "        if not all(c in hex_chars for c in startswith):\n",
    "            raise ValueError(f'character of selection not in '\n",
    "                              'hex pattern ({hex_chars})')\n",
    "        time_per_guess = _get_guess_time(guess_hex)\n",
    "        t = _expected_time(hex_chars, len(startswith), time_per_guess)\n",
    "    print(f'It might take {int(t)} seconds to find a {style} pubkey that starts with '\n",
    "          f'{startswith}. Note that this is a very rough estimate and due '\n",
    "          'to the random nature of finding vanity keys it could take MUCH '\n",
    "          'longer.')\n",
    "    while pubkey is None:\n",
    "        if style == 'npub':\n",
    "            privkey_hex, pubkey = guess_bech32(startswith=startswith)\n",
    "        else:\n",
    "            privkey_hex, pubkey = guess_hex(startswith=startswith)\n",
    "    return PrivateKey.from_hex(privkey_hex)"
   ]
  },
  {
   "cell_type": "code",
   "execution_count": null,
   "metadata": {},
   "outputs": [],
   "source": [
    "from fastcore.test import test_fail"
   ]
  },
  {
   "attachments": {},
   "cell_type": "markdown",
   "metadata": {},
   "source": [
    "Make sure we don't allow characters that will never happen - test that these cases fail"
   ]
  },
  {
   "cell_type": "code",
   "execution_count": null,
   "metadata": {},
   "outputs": [],
   "source": [
    "fail = lambda _: gen_vanity_pubkey(startswith='b', style='npub')\n",
    "test_fail(fail)\n",
    "fail = lambda _: gen_vanity_pubkey(startswith='g', style='hex')\n",
    "test_fail(fail)\n"
   ]
  },
  {
   "attachments": {},
   "cell_type": "markdown",
   "metadata": {},
   "source": [
    "Generate a couple npubs!"
   ]
  },
  {
   "cell_type": "code",
   "execution_count": null,
   "metadata": {},
   "outputs": [
    {
     "name": "stdout",
     "output_type": "stream",
     "text": [
      "It might take 0 seconds to find a npub pubkey that starts with npub123. Note that this is a very rough estimate and due to the random nature of finding vanity keys it could take MUCH longer.\n",
      "It might take 0 seconds to find a hex pubkey that starts with 23. Note that this is a very rough estimate and due to the random nature of finding vanity keys it could take MUCH longer.\n"
     ]
    }
   ],
   "source": [
    "vanity_private_key_npub = gen_vanity_pubkey(startswith='23', style='npub')\n",
    "vanity_private_key_hex = gen_vanity_pubkey(startswith='23', style='hex')"
   ]
  },
  {
   "attachments": {},
   "cell_type": "markdown",
   "metadata": {},
   "source": [
    "And make sure it worked..."
   ]
  },
  {
   "cell_type": "code",
   "execution_count": null,
   "metadata": {},
   "outputs": [],
   "source": [
    "assert vanity_private_key_npub.public_key.bech32().startswith('npub123')\n",
    "assert vanity_private_key_hex.public_key.hex().startswith('23')"
   ]
  },
  {
   "attachments": {},
   "cell_type": "markdown",
   "metadata": {},
   "source": [
    "Now we can also make a version of this that notifies you."
   ]
  },
  {
   "cell_type": "code",
   "execution_count": null,
   "metadata": {},
   "outputs": [],
   "source": [
    "#| export\n",
    "\n",
    "vanity_notifyr = notifyr(gen_vanity_pubkey)"
   ]
  },
  {
   "attachments": {},
   "cell_type": "markdown",
   "metadata": {},
   "source": [
    "Remember that if you want a vanity notifyr that will go to a different address than the one you find in `vanity_notifyr.notifyr_privkey_hex` you can create your own notifyr like so:\n",
    "```python\n",
    "new_vanity_notifyr = notifyr(gen_vanity_pubkey, recipient_address=your_address)\n",
    "```"
   ]
  },
  {
   "cell_type": "code",
   "execution_count": null,
   "metadata": {},
   "outputs": [],
   "source": [
    "#| hide\n",
    "import nbdev; nbdev.nbdev_export()"
   ]
  }
 ],
 "metadata": {
  "kernelspec": {
   "display_name": "rebroadcastr-nbdev",
   "language": "python",
   "name": "python3"
  }
 },
 "nbformat": 4,
 "nbformat_minor": 2
}
