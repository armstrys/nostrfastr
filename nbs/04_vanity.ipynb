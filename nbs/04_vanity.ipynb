{
 "cells": [
  {
   "cell_type": "code",
   "execution_count": null,
   "metadata": {},
   "outputs": [],
   "source": [
    "#| default_exp vanity"
   ]
  },
  {
   "attachments": {},
   "cell_type": "markdown",
   "metadata": {},
   "source": [
    "# Vanity addresses\n",
    "\n",
    "> Use the notifyr bot to generate vanity addresses and get notified by DM when they are done."
   ]
  },
  {
   "attachments": {},
   "cell_type": "markdown",
   "metadata": {},
   "source": [
    "## Finds vanity addresses\n",
    "Here is [an interesting article by Kris Constable about vanity addresses](https://krisconstable.com/generating-a-key-pair-with-nostr/). This is a great usecase for our notifyr decorator because calculating vanity addresses can be quite slow if we are looking for long words.\n",
    "\n",
    "This module will let you look for an `npub` or a `hex` vanity address that starts with a particular pattern."
   ]
  },
  {
   "cell_type": "code",
   "execution_count": null,
   "metadata": {},
   "outputs": [],
   "source": [
    "#| export\n",
    "\n",
    "import time\n",
    "import secrets\n",
    "import secp256k1\n",
    "from typing import Union\n",
    "from nostrfastr.nostr import PrivateKey\n",
    "from nostrfastr.notifyr import notifyr\n",
    "from nostr import bech32"
   ]
  },
  {
   "attachments": {},
   "cell_type": "markdown",
   "metadata": {},
   "source": [
    "Make the functions to guess public keys - we are not using the classes from `python-nostr` to avoid carrying the overhead. The method of generating the keys is the exact same as the `python-nostr` key classes"
   ]
  },
  {
   "cell_type": "code",
   "execution_count": null,
   "metadata": {},
   "outputs": [],
   "source": [
    "#| export\n",
    "\n",
    "def guess_bytes():\n",
    "    privkey_bytes = secrets.token_bytes(32) \n",
    "    sk = secp256k1.PrivateKey(privkey_bytes)\n",
    "    pubkey_bytes = sk.pubkey.serialize()[1:]\n",
    "    return privkey_bytes, pubkey_bytes\n",
    "\n",
    "def guess_bech32(startswith=''):\n",
    "    privkey_bytes, pubkey_bytes = guess_bytes()\n",
    "    converted_bits = bech32.convertbits(pubkey_bytes, 8, 5)\n",
    "    npub = bech32.bech32_encode(\"npub\", converted_bits, bech32.Encoding.BECH32)\n",
    "    if npub.startswith(startswith):\n",
    "        return privkey_bytes.hex(), npub\n",
    "    else:\n",
    "        return None, None\n",
    "\n",
    "def guess_hex(startswith=''):\n",
    "    privkey_bytes, pubkey_bytes = guess_bytes()\n",
    "    privkey_hex = privkey_bytes.hex()\n",
    "    pubkey_hex = pubkey_bytes.hex()\n",
    "    if pubkey_hex.startswith(startswith):\n",
    "        return privkey_bytes.hex(), pubkey_bytes.hex()\n",
    "    else:\n",
    "        return None, None"
   ]
  },
  {
   "cell_type": "code",
   "execution_count": null,
   "metadata": {},
   "outputs": [],
   "source": [
    "privkey_hex, npub = guess_bech32()\n",
    "assert PrivateKey.from_hex(privkey_hex).public_key.bech32() == npub"
   ]
  },
  {
   "cell_type": "code",
   "execution_count": null,
   "metadata": {},
   "outputs": [],
   "source": [
    "privkey_hex, pubkey_hex = guess_hex()\n",
    "assert PrivateKey.from_hex(privkey_hex).public_key.hex() == pubkey_hex"
   ]
  },
  {
   "attachments": {},
   "cell_type": "markdown",
   "metadata": {},
   "source": [
    "We can make some functions to check the guess rate (hashrate)"
   ]
  },
  {
   "cell_type": "code",
   "execution_count": null,
   "metadata": {},
   "outputs": [],
   "source": [
    "#| export\n",
    "\n",
    "def time_guess(guesser):\n",
    "    start = time.perf_counter()\n",
    "    pub = guesser(startswith=' ')\n",
    "    if pub is None: # this is just replicating what we will actually be doing\n",
    "        pass\n",
    "    end = time.perf_counter()\n",
    "    interval = end - start\n",
    "    return interval\n",
    "\n",
    "def get_guess_rate(guesser, n_guesses=1e4):\n",
    "    n_guesses = int(n_guesses)\n",
    "    t = sum([time_guess(guesser) for _ in range(n_guesses)]) / n_guesses\n",
    "    guesses_per_second = 1 / t\n",
    "    return guesses_per_second"
   ]
  },
  {
   "cell_type": "code",
   "execution_count": null,
   "metadata": {},
   "outputs": [
    {
     "data": {
      "text/plain": [
       "9855.1432254524"
      ]
     },
     "execution_count": null,
     "metadata": {},
     "output_type": "execute_result"
    }
   ],
   "source": [
    "get_guess_rate(guess_hex)"
   ]
  },
  {
   "cell_type": "code",
   "execution_count": null,
   "metadata": {},
   "outputs": [
    {
     "data": {
      "text/plain": [
       "3561.309377016123"
      ]
     },
     "execution_count": null,
     "metadata": {},
     "output_type": "execute_result"
    }
   ],
   "source": [
    "get_guess_rate(guess_bech32)"
   ]
  },
  {
   "attachments": {},
   "cell_type": "markdown",
   "metadata": {},
   "source": [
    "And use our hashrate to make some estimates of how quickly we can find certain vanity addresses"
   ]
  },
  {
   "cell_type": "code",
   "execution_count": null,
   "metadata": {},
   "outputs": [],
   "source": [
    "#| export\n",
    "\n",
    "import math"
   ]
  },
  {
   "cell_type": "code",
   "execution_count": null,
   "metadata": {},
   "outputs": [],
   "source": [
    "#| export\n",
    "\n",
    "def expected_guesses_by_char(options: Union[str,list], num_char: int) -> float:\n",
    "    \"\"\"return an average number of guesses it would take to guess\n",
    "    a pattern based on the number of characters in the pattern and\n",
    "    the number of character options in the random output\n",
    "\n",
    "    Parameters\n",
    "    ----------\n",
    "    options : list or str\n",
    "        a set of characters as a str or list that are options for\n",
    "        guessing\n",
    "    num_char : int\n",
    "        the number of characters in the pattern\n",
    "\n",
    "    Returns\n",
    "    -------\n",
    "    float\n",
    "        the expected number of guesses required to match the pattern\n",
    "    \"\"\"\n",
    "    p = 1 / len(options)\n",
    "    return (p ** -num_char - 1)/ (1 - p)\n",
    "\n",
    "def expected_chars_by_time(options: Union[str,list], num_guesses: int) -> float:\n",
    "    \"\"\"the length of pattern you might expect to be able to guess given a\n",
    "    certain number of guesses.\n",
    "\n",
    "    Parameters\n",
    "    ----------\n",
    "    options : list or str\n",
    "        a set of characters as a str or list that are options for\n",
    "        guessing\n",
    "    num_guesses : int\n",
    "        the total number of guesses at a pattern\n",
    "\n",
    "    Returns\n",
    "    -------\n",
    "    float\n",
    "        th\n",
    "    \"\"\"\n",
    "    p = 1 / len(options)\n",
    "    n = - math.log(1 + (num_guesses * (1 - p))) / math.log(p)\n",
    "    return n\n",
    "\n",
    "def expected_time(options: Union[str,list], num_char: int, time_per_guess: float) -> float:\n",
    "    \"\"\"the expected amount of time it would take to guess a pattern with a certain\n",
    "    length based on the average time per guess and the character options\n",
    "\n",
    "    Parameters\n",
    "    ----------\n",
    "    options : list or str\n",
    "        a set of characters as a str or list that are options for\n",
    "        guessing\n",
    "    num_char : int\n",
    "        the number of characters in the pattern\n",
    "    time_per_guess : float\n",
    "        averge time per guess in seconds\n",
    "\n",
    "    Returns\n",
    "    -------\n",
    "    float\n",
    "        the expected amount of time needed to guess the pattern\n",
    "    \"\"\"\n",
    "    n_guess = expected_guesses_by_char(options, num_char)\n",
    "    time_seconds = n_guess * time_per_guess\n",
    "    return time_seconds\n"
   ]
  },
  {
   "cell_type": "code",
   "execution_count": null,
   "metadata": {},
   "outputs": [],
   "source": [
    "#| export\n",
    "\n",
    "hex_chars = 'abcdef0123456789'\n",
    "npub_chars = '023456789acdefghjklmnpqrstuvwxyz'\n",
    "\n",
    "def average_char_by_time(options: Union[str,list], time_per_guess: float) -> None:\n",
    "    \"\"\"print an average number of characters you would expect to be\n",
    "    able to guess for certain time periods based on character options\n",
    "    and the average time per guess\n",
    "\n",
    "    Parameters\n",
    "    ----------\n",
    "    options : list or str\n",
    "        a set of characters as a str or list that are options for\n",
    "        guessing\n",
    "    time_per_guess : float\n",
    "        the average time elapsed per guess\n",
    "    \"\"\"\n",
    "    seconds_in_month = 60 * 60 * 24 * 30.5\n",
    "    seconds_in_day = 60 * 60 * 24\n",
    "    seconds_in_hour = 60 * 60\n",
    "    seconds_in_minute = 60\n",
    "\n",
    "    guesses_per_month = seconds_in_month / time_per_guess\n",
    "    guesses_per_day = seconds_in_day / time_per_guess\n",
    "    guesses_per_hour = seconds_in_hour / time_per_guess\n",
    "    guesses_per_minute = seconds_in_minute / time_per_guess\n",
    "    guesses_per_second = 1 / time_per_guess\n",
    "\n",
    "    guesses = [guesses_per_second, guesses_per_minute,\\\n",
    "               guesses_per_hour, guesses_per_day, guesses_per_month]\n",
    "\n",
    "    expected_chars = [expected_chars_by_time(options, g) for g in guesses]\n",
    "    results = zip(['one second', 'one minute', 'one hour', 'one day', 'one month'],\n",
    "                   expected_chars)\n",
    "    for t, c in results:\n",
    "        print(f'In {t} you can expect to get {c} characters on average')\n",
    "\n",
    "def average_time_by_char(options: Union[str,list], time_per_guess: float) -> None:\n",
    "    \"\"\"print an average elapsed time for a range of pattern lengths\n",
    "\n",
    "    Parameters\n",
    "    ----------\n",
    "    options : Union[str,list]\n",
    "        a set of characters as a str or list that are options for\n",
    "        guessing\n",
    "    time_per_guess : float\n",
    "        the average time elapsed per guess\n",
    "    \"\"\"\n",
    "    for n in range(20):\n",
    "        n += 1\n",
    "        t = expected_time(options, n, time_per_guess)\n",
    "        print(f'{n} characters: it might take {t} seconds')\n",
    "\n"
   ]
  },
  {
   "cell_type": "code",
   "execution_count": null,
   "metadata": {},
   "outputs": [
    {
     "name": "stdout",
     "output_type": "stream",
     "text": [
      "In one second you can expect to get 2.3971816341588226 characters on average\n",
      "In one minute you can expect to get 3.57848979484979 characters on average\n",
      "In one hour you can expect to get 4.759866747853931 characters on average\n",
      "In one day you can expect to get 5.676859229056948 characters on average\n",
      "In one month you can expect to get 6.663006695772995 characters on average\n"
     ]
    }
   ],
   "source": [
    "time_per_guess = 1 / get_guess_rate(guess_bech32)\n",
    "average_char_by_time(npub_chars, time_per_guess)"
   ]
  },
  {
   "cell_type": "code",
   "execution_count": null,
   "metadata": {},
   "outputs": [
    {
     "name": "stdout",
     "output_type": "stream",
     "text": [
      "In one second you can expect to get 3.2573614997061533 characters on average\n",
      "In one minute you can expect to get 4.734041727034478 characters on average\n",
      "In one hour you can expect to get 6.210763668868103 characters on average\n",
      "In one day you can expect to get 7.357004282563511 characters on average\n",
      "In one month you can expect to get 8.589688616471262 characters on average\n"
     ]
    }
   ],
   "source": [
    "time_per_guess = 1 / get_guess_rate(guess_hex)\n",
    "average_char_by_time(hex_chars, time_per_guess)"
   ]
  },
  {
   "cell_type": "code",
   "execution_count": null,
   "metadata": {},
   "outputs": [
    {
     "name": "stdout",
     "output_type": "stream",
     "text": [
      "1 characters: it might take 0.001794275524513796 seconds\n",
      "2 characters: it might take 0.03050268391673453 seconds\n",
      "3 characters: it might take 0.48983721819226633 seconds\n",
      "4 characters: it might take 7.839189766600775 seconds\n",
      "5 characters: it might take 125.4288305411369 seconds\n",
      "6 characters: it might take 2006.863082933715 seconds\n",
      "7 characters: it might take 32109.811121214967 seconds\n",
      "8 characters: it might take 513756.97973371495 seconds\n",
      "9 characters: it might take 8220111.677533715 seconds\n",
      "10 characters: it might take 131521786.84233372 seconds\n",
      "11 characters: it might take 2104348589.4791338 seconds\n",
      "12 characters: it might take 33669577431.667934 seconds\n",
      "13 characters: it might take 538713238906.6887 seconds\n",
      "14 characters: it might take 8619411822507.021 seconds\n",
      "15 characters: it might take 137910589160112.34 seconds\n",
      "16 characters: it might take 2206569426561797.5 seconds\n",
      "17 characters: it might take 3.530511082498876e+16 seconds\n",
      "18 characters: it might take 5.6488177319982016e+17 seconds\n",
      "19 characters: it might take 9.038108371197123e+18 seconds\n",
      "20 characters: it might take 1.4460973393915396e+20 seconds\n"
     ]
    }
   ],
   "source": [
    "average_time_by_char(hex_chars, time_per_guess)"
   ]
  },
  {
   "cell_type": "code",
   "execution_count": null,
   "metadata": {},
   "outputs": [],
   "source": [
    "#| export\n",
    "\n",
    "def expected_performance():\n",
    "    print(\n",
    "        '''This is a random guessing process - estimations are an average, but the actual\n",
    "        time it takes to find a key could be significantly more or less than the estimate!\n",
    "        Please keep that in mind when choosing an option.\n",
    "        ''')\n",
    "    print('hex:')\n",
    "    time_per_guess_hex = 1 / get_guess_rate(guesser=guess_hex)\n",
    "    average_char_by_time(hex_chars, time_per_guess_hex)\n",
    "    print('\\n')\n",
    "    average_time_by_char(hex_chars, time_per_guess_hex)\n",
    "    print('\\n')\n",
    "\n",
    "    print('npub:')\n",
    "    time_per_guess_bech32 = 1 / get_guess_rate(guesser=guess_bech32)\n",
    "    average_char_by_time(npub_chars, time_per_guess_bech32)\n",
    "    print('\\n')\n",
    "    average_time_by_char(npub_chars, time_per_guess_bech32)\n",
    "    print('\\n')\n",
    "\n",
    "    "
   ]
  },
  {
   "cell_type": "code",
   "execution_count": null,
   "metadata": {},
   "outputs": [
    {
     "name": "stdout",
     "output_type": "stream",
     "text": [
      "This is a random guessing process - estimations are an average, but the actual\n",
      "        time it takes to find a key could be significantly more or less than the estimate!\n",
      "        Please keep that in mind when choosing an option.\n",
      "        \n",
      "hex:\n",
      "In one second you can expect to get 3.2328374922325778 characters on average\n",
      "In one minute you can expect to get 4.709514734593529 characters on average\n",
      "In one hour you can expect to get 6.1862366266715405 characters on average\n",
      "In one day you can expect to get 7.332477239558768 characters on average\n",
      "In one month you can expect to get 8.565161573432533 characters on average\n",
      "\n",
      "\n",
      "1 characters: it might take 0.0019205368107184768 seconds\n",
      "2 characters: it might take 0.03264912578221411 seconds\n",
      "3 characters: it might take 0.5243065493261442 seconds\n",
      "4 characters: it might take 8.390825326029026 seconds\n",
      "5 characters: it might take 134.2551257532751 seconds\n",
      "6 characters: it might take 2148.0839325892125 seconds\n",
      "7 characters: it might take 34369.344841964215 seconds\n",
      "8 characters: it might take 549909.5193919642 seconds\n",
      "9 characters: it might take 8798552.312191965 seconds\n",
      "10 characters: it might take 140776836.99699196 seconds\n",
      "11 characters: it might take 2252429391.953792 seconds\n",
      "12 characters: it might take 36038870271.26259 seconds\n",
      "13 characters: it might take 576621924340.2034 seconds\n",
      "14 characters: it might take 9225950789443.256 seconds\n",
      "15 characters: it might take 147615212631092.1 seconds\n",
      "16 characters: it might take 2361843402097473.5 seconds\n",
      "17 characters: it might take 3.7789494433559576e+16 seconds\n",
      "18 characters: it might take 6.046319109369532e+17 seconds\n",
      "19 characters: it might take 9.674110574991251e+18 seconds\n",
      "20 characters: it might take 1.5478576919986002e+20 seconds\n",
      "\n",
      "\n",
      "npub:\n",
      "In one second you can expect to get 2.394329685255976 characters on average\n",
      "In one minute you can expect to get 3.575637150957015 characters on average\n",
      "In one hour you can expect to get 4.75701409237512 characters on average\n",
      "In one day you can expect to get 5.674006573389946 characters on average\n",
      "In one month you can expect to get 6.660154040098079 characters on average\n",
      "\n",
      "\n",
      "1 characters: it might take 0.007720484699867666 seconds\n",
      "2 characters: it might take 0.254775995095633 seconds\n",
      "3 characters: it might take 8.160552327760124 seconds\n",
      "4 characters: it might take 261.1453949730238 seconds\n",
      "5 characters: it might take 8356.66035962146 seconds\n",
      "6 characters: it might take 267413.1392283715 seconds\n",
      "7 characters: it might take 8557220.463028371 seconds\n",
      "8 characters: it might take 273831054.8246284 seconds\n",
      "9 characters: it might take 8762593754.395828 seconds\n",
      "10 characters: it might take 280403000140.67426 seconds\n",
      "11 characters: it might take 8972896004501.584 seconds\n",
      "12 characters: it might take 287132672144050.7 seconds\n",
      "13 characters: it might take 9188245508609622.0 seconds\n",
      "14 characters: it might take 2.940238562755079e+17 seconds\n",
      "15 characters: it might take 9.408763400816253e+18 seconds\n",
      "16 characters: it might take 3.010804288261201e+20 seconds\n",
      "17 characters: it might take 9.634573722435843e+21 seconds\n",
      "18 characters: it might take 3.08306359117947e+23 seconds\n",
      "19 characters: it might take 9.865803491774303e+24 seconds\n",
      "20 characters: it might take 3.157057117367777e+26 seconds\n",
      "\n",
      "\n"
     ]
    }
   ],
   "source": [
    "expected_performance()"
   ]
  },
  {
   "attachments": {},
   "cell_type": "markdown",
   "metadata": {},
   "source": [
    "Lets make the function..."
   ]
  },
  {
   "cell_type": "code",
   "execution_count": null,
   "metadata": {},
   "outputs": [],
   "source": [
    "#| export\n",
    "\n",
    "def gen_vanity_pubkey(startswith: str, style='hex') -> PrivateKey:\n",
    "    \"\"\"randomly generate private keys until one matches the desire\n",
    "    startswith for an npub or hex\n",
    "\n",
    "    Parameters\n",
    "    ----------\n",
    "    startswith : str\n",
    "        characters that the public key should start with. More chars\n",
    "        means longer run time\n",
    "    style : str, optional\n",
    "        'npub' or 'hex' - npub is more commonly displayed on apps\n",
    "        while hex is the true base private key with no encoding,\n",
    "        by default 'hex'\n",
    "\n",
    "    Returns\n",
    "    -------\n",
    "    PrivateKey\n",
    "        returns a private key object\n",
    "    \"\"\"\n",
    "    pubkey = None\n",
    "    if style == 'npub':\n",
    "        if not all(c in npub_chars for c in startswith):\n",
    "            raise ValueError(f'character of selection not '\n",
    "                              'in npub pattern ({npub_chars})')\n",
    "        time_per_guess = 1 / get_guess_rate(guess_bech32)\n",
    "        t = expected_time(npub_chars, len(startswith), time_per_guess)\n",
    "        startswith = f'npub1{startswith}'\n",
    "    else:\n",
    "        if not all(c in hex_chars for c in startswith):\n",
    "            raise ValueError(f'character of selection not in '\n",
    "                              'hex pattern ({hex_chars})')\n",
    "        time_per_guess = 1 / get_guess_rate(guess_hex)\n",
    "        t = expected_time(hex_chars, len(startswith), time_per_guess)\n",
    "    print(f'It might take {t} seconds to find a {style} pubkey that starts with '\n",
    "          f'{startswith}. Note that this is a very rough estimate and due '\n",
    "          'to the random nature of finding vanity keys it could take MUCH '\n",
    "          'longer.')\n",
    "    while pubkey is None:\n",
    "        if style == 'npub':\n",
    "            privkey_hex, pubkey = guess_bech32(startswith=startswith)\n",
    "        else:\n",
    "            privkey_hex, pubkey = guess_hex(startswith=startswith)\n",
    "    return PrivateKey.from_hex(privkey_hex)"
   ]
  },
  {
   "cell_type": "code",
   "execution_count": null,
   "metadata": {},
   "outputs": [],
   "source": [
    "from fastcore.test import test_fail"
   ]
  },
  {
   "attachments": {},
   "cell_type": "markdown",
   "metadata": {},
   "source": [
    "Make sure we don't allow characters that will never happen - test that these cases fail"
   ]
  },
  {
   "cell_type": "code",
   "execution_count": null,
   "metadata": {},
   "outputs": [],
   "source": [
    "fail = lambda _: gen_vanity_pubkey(startswith='b', style='npub')\n",
    "test_fail(fail)\n",
    "fail = lambda _: gen_vanity_pubkey(startswith='g', style='hex')\n",
    "test_fail(fail)\n"
   ]
  },
  {
   "attachments": {},
   "cell_type": "markdown",
   "metadata": {},
   "source": [
    "Generate a couple npubs!"
   ]
  },
  {
   "cell_type": "code",
   "execution_count": null,
   "metadata": {},
   "outputs": [
    {
     "name": "stdout",
     "output_type": "stream",
     "text": [
      "It might take 0.28460781893972303 seconds to find a npub pubkey that starts with npub123. Note that this is a very rough estimate and due to the random nature of finding vanity keys it could take MUCH longer.\n",
      "It might take 0.025928018985502423 seconds to find a hex pubkey that starts with 23. Note that this is a very rough estimate and due to the random nature of finding vanity keys it could take MUCH longer.\n"
     ]
    }
   ],
   "source": [
    "vanity_private_key_npub = gen_vanity_pubkey(startswith='23', style='npub')\n",
    "vanity_private_key_hex = gen_vanity_pubkey(startswith='23', style='hex')"
   ]
  },
  {
   "attachments": {},
   "cell_type": "markdown",
   "metadata": {},
   "source": [
    "And make sure it worked..."
   ]
  },
  {
   "cell_type": "code",
   "execution_count": null,
   "metadata": {},
   "outputs": [],
   "source": [
    "assert vanity_private_key_npub.public_key.bech32().startswith('npub123')\n",
    "assert vanity_private_key_hex.public_key.hex().startswith('23')"
   ]
  },
  {
   "attachments": {},
   "cell_type": "markdown",
   "metadata": {},
   "source": [
    "Now we can also make a version of this that notifies you."
   ]
  },
  {
   "cell_type": "code",
   "execution_count": null,
   "metadata": {},
   "outputs": [],
   "source": [
    "#| export\n",
    "\n",
    "vanity_notifyr = notifyr(gen_vanity_pubkey)"
   ]
  },
  {
   "attachments": {},
   "cell_type": "markdown",
   "metadata": {},
   "source": [
    "Remember that if you want a vanity notifyr that will go to a different address than the one you find in `vanity_notifyr.notifyr_privkey_hex` you can create your own notifyr like so:\n",
    "```python\n",
    "new_vanity_notifyr = notifyr(gen_vanity_pubkey, recipient_address=your_address)\n",
    "```"
   ]
  },
  {
   "cell_type": "code",
   "execution_count": null,
   "metadata": {},
   "outputs": [],
   "source": [
    "#| hide\n",
    "import nbdev; nbdev.nbdev_export()"
   ]
  },
  {
   "cell_type": "code",
   "execution_count": null,
   "metadata": {},
   "outputs": [],
   "source": []
  }
 ],
 "metadata": {
  "kernelspec": {
   "display_name": "nostrfastr_jit",
   "language": "python",
   "name": "python3"
  }
 },
 "nbformat": 4,
 "nbformat_minor": 2
}
