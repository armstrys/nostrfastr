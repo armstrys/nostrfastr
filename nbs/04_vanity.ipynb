{
 "cells": [
  {
   "cell_type": "code",
   "execution_count": null,
   "metadata": {},
   "outputs": [],
   "source": [
    "#| default_exp vanity"
   ]
  },
  {
   "attachments": {},
   "cell_type": "markdown",
   "metadata": {},
   "source": [
    "# Vanity addresses\n",
    "\n",
    "> Use the notifyr bot to generate vanity addresses and get notified by DM when they are done."
   ]
  },
  {
   "attachments": {},
   "cell_type": "markdown",
   "metadata": {},
   "source": [
    "## Run a simple generator that finds vanity addresses\n",
    "Here is [an interesting article by Kris Constable about vanity addresses](https://krisconstable.com/generating-a-key-pair-with-nostr/). This is a great usecase for our notifyr decorator because calculating vanity addresses can be quite slow if we are looking for long words.\n",
    "\n",
    "This simple module will let you look for an `npub` or a `hex` vanity address that starts with a particular pattern."
   ]
  },
  {
   "cell_type": "code",
   "execution_count": null,
   "metadata": {},
   "outputs": [],
   "source": [
    "#| export\n",
    "\n",
    "from nostrfastr.nostr import PrivateKey\n",
    "from nostrfastr.notifyr import notifyr"
   ]
  },
  {
   "attachments": {},
   "cell_type": "markdown",
   "metadata": {},
   "source": [
    "Lets make the function..."
   ]
  },
  {
   "cell_type": "code",
   "execution_count": null,
   "metadata": {},
   "outputs": [],
   "source": [
    "#| export\n",
    "\n",
    "def gen_vanity_pubkey(startswith: str, style='hex') -> PrivateKey:\n",
    "    \"\"\"randomly generate private keys until one matches the desire\n",
    "    startswith for an npub or hex\n",
    "\n",
    "    Parameters\n",
    "    ----------\n",
    "    startswith : str\n",
    "        characters that the public key should start with. More chars\n",
    "        means longer run time\n",
    "    style : str, optional\n",
    "        'npub' or 'hex' - npub is more commonly displayed on apps\n",
    "        while hex is the true base private key with no encoding,\n",
    "        by default 'hex'\n",
    "\n",
    "    Returns\n",
    "    -------\n",
    "    PrivateKey\n",
    "        returns a private key object\n",
    "    \"\"\"\n",
    "    pubkey = ''\n",
    "    if style == 'npub':\n",
    "        npub_chars = '023456789acdefghjklmnpqrstuvwxyz'\n",
    "        if not all(c in npub_chars for c in startswith):\n",
    "            raise ValueError(f'character of selection not '\n",
    "                              'in npub pattern ({npub_chars})')\n",
    "        startswith = f'npub1{startswith}'\n",
    "    else:\n",
    "        hex_chars = 'abcdef0123456789'\n",
    "        if not all(c in hex_chars for c in startswith):\n",
    "            raise ValueError(f'character of selection not in '\n",
    "                              'hex pattern ({hex_chars})')\n",
    "    while not pubkey.startswith(startswith):\n",
    "        privkey = PrivateKey()\n",
    "        if style == 'npub':\n",
    "            pubkey = privkey.public_key.bech32()\n",
    "        else:\n",
    "            pubkey = privkey.public_key.hex()\n",
    "    return privkey"
   ]
  },
  {
   "cell_type": "code",
   "execution_count": null,
   "metadata": {},
   "outputs": [],
   "source": [
    "from fastcore.test import test_fail"
   ]
  },
  {
   "attachments": {},
   "cell_type": "markdown",
   "metadata": {},
   "source": [
    "Make sure we don't allow characters that will never happen - test that these cases fail"
   ]
  },
  {
   "cell_type": "code",
   "execution_count": null,
   "metadata": {},
   "outputs": [],
   "source": [
    "fail = lambda _: gen_vanity_pubkey(startswith='b', style='npub')\n",
    "test_fail(fail)\n",
    "fail = lambda _: gen_vanity_pubkey(startswith='g', style='hex')\n",
    "test_fail(fail)\n"
   ]
  },
  {
   "attachments": {},
   "cell_type": "markdown",
   "metadata": {},
   "source": [
    "Generate a couple npubs!"
   ]
  },
  {
   "cell_type": "code",
   "execution_count": null,
   "metadata": {},
   "outputs": [],
   "source": [
    "vanity_private_key_npub = gen_vanity_pubkey(startswith='23', style='npub')\n",
    "vanity_private_key_hex = gen_vanity_pubkey(startswith='23', style='hex')"
   ]
  },
  {
   "attachments": {},
   "cell_type": "markdown",
   "metadata": {},
   "source": [
    "And make sure it worked..."
   ]
  },
  {
   "cell_type": "code",
   "execution_count": null,
   "metadata": {},
   "outputs": [],
   "source": [
    "assert vanity_private_key_npub.public_key.bech32().startswith('npub123')\n",
    "assert vanity_private_key_hex.public_key.hex().startswith('23')"
   ]
  },
  {
   "attachments": {},
   "cell_type": "markdown",
   "metadata": {},
   "source": [
    "Now we can also make a version of this that notifies you."
   ]
  },
  {
   "cell_type": "code",
   "execution_count": null,
   "metadata": {},
   "outputs": [],
   "source": [
    "#| export\n",
    "\n",
    "vanity_notifyr = notifyr(gen_vanity_pubkey)"
   ]
  },
  {
   "attachments": {},
   "cell_type": "markdown",
   "metadata": {},
   "source": [
    "Remember that if you want a vanity notifyr that will go to a different address than the one you find in `vanity_notifyr.notifyr_privkey_hex` you can create your own notifyr like so:\n",
    "```python\n",
    "new_vanity_notifyr = notifyr(gen_vanity_pubkey, recipient_address=your_address)\n",
    "```"
   ]
  },
  {
   "cell_type": "code",
   "execution_count": null,
   "metadata": {},
   "outputs": [],
   "source": [
    "#| hide\n",
    "import nbdev; nbdev.nbdev_export()"
   ]
  },
  {
   "cell_type": "code",
   "execution_count": null,
   "metadata": {},
   "outputs": [],
   "source": []
  }
 ],
 "metadata": {
  "kernelspec": {
   "display_name": "rebroadcastr-nbdev",
   "language": "python",
   "name": "python3"
  }
 },
 "nbformat": 4,
 "nbformat_minor": 2
}
