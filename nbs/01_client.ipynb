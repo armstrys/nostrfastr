{
 "cells": [
  {
   "cell_type": "code",
   "execution_count": null,
   "metadata": {},
   "outputs": [],
   "source": [
    "#| default_exp client"
   ]
  },
  {
   "cell_type": "code",
   "execution_count": null,
   "metadata": {},
   "outputs": [],
   "source": [
    "#| hide\n",
    "import os\n",
    "import time"
   ]
  },
  {
   "cell_type": "code",
   "execution_count": null,
   "metadata": {},
   "outputs": [],
   "source": [
    "#| hide\n",
    "os.system('nostr-relay -c ../nostr-relay/nostr-relay-config.yml serve >/dev/null 2>&1 &')\n",
    "time.sleep(5)"
   ]
  },
  {
   "attachments": {},
   "cell_type": "markdown",
   "metadata": {},
   "source": [
    "# basic client implementation\n",
    "\n",
    "> basic client operations not specific to the `rebroadcastr` client"
   ]
  },
  {
   "attachments": {},
   "cell_type": "markdown",
   "metadata": {},
   "source": [
    "This notebook will implement and test a barebones client that can easily do the following\n",
    " - manage connections\n",
    " - manage private keys\n",
    " - publish event subscriptions (requests)\n",
    " - retrieve events and save to db\n",
    " - publish events"
   ]
  },
  {
   "cell_type": "code",
   "execution_count": null,
   "metadata": {},
   "outputs": [],
   "source": [
    "#| hide\n",
    "from nbdev.showdoc import *"
   ]
  },
  {
   "cell_type": "code",
   "execution_count": null,
   "metadata": {},
   "outputs": [],
   "source": [
    "#| export\n",
    "import warnings\n",
    "import json\n",
    "import time\n",
    "import os\n",
    "import pprint\n",
    "import sqlite3\n",
    "import appdirs\n",
    "import pandas as pd\n",
    "from pathlib import Path\n",
    "from nostr.message_type import ClientMessageType\n",
    "from nostr.message_pool import EventMessage,\\\n",
    "    NoticeMessage, EndOfStoredEventsMessage\n",
    "from nostr.filter import Filter, Filters\n",
    "from nostr.event import Event, EventKind\n",
    "from nostrfastr.nostr import PrivateKey, PublicKey,\\\n",
    "    RelayManager, MessagePool\n",
    "\n",
    "from fastcore.utils import patch"
   ]
  },
  {
   "attachments": {},
   "cell_type": "markdown",
   "metadata": {},
   "source": [
    "## Client Initialization\n",
    "the basic client initializes with the following\n",
    " - a relay manager from `python-nostr`\n",
    "     - set of relays that will be used for reading and writing (as of now all relays are used for both by default)\n",
    "     - a message pool that acts as an incoming queue for messages from the relays\n",
    " - a user account\n",
    "     - provided with a private key - able to publish new events\n",
    "     - or with only a public key - only able to read and republish existing events\n",
    " - a sqlite database named by the publickey and located on the system user data directory by default - by default events are saved into the database as they are read out of the message queue from the message pool"
   ]
  },
  {
   "cell_type": "code",
   "execution_count": null,
   "metadata": {},
   "outputs": [],
   "source": [
    "#| export\n",
    "\n",
    "class Client:\n",
    "    def __init__(self, public_key_hex: str = None, private_key_hex: str = None,\n",
    "                 db_name: str = 'nostr-data', relay_urls: list = None, ssl_options: dict = {},\n",
    "                 first_response_only: bool = True):\n",
    "        \"\"\"A basic framework for common operations that a nostr client will\n",
    "        need to execute.\n",
    "\n",
    "        Args:\n",
    "            public_key_hex (str, optional): public key to initiate client\n",
    "            private_key_hex (str, optional): private key to log in with public key.\n",
    "                Defaults to None, in which case client is effectively read only\n",
    "            relay_urls (list, optional): provide a list of relay urls.\n",
    "                Defaults to None, in which case a default list will be used.\n",
    "            ssl_options (dict, optional): ssl options for websocket connection\n",
    "                Defaults to empty dict\n",
    "            allow_duplicates (bool, optional): whether or not to allow duplicate\n",
    "                event ids into the queue from multiple relays. This isn't fully\n",
    "                working yet. Defaults to False.\n",
    "        \"\"\"\n",
    "        self.ssl_options = ssl_options\n",
    "        self.first_response_only = first_response_only\n",
    "        self.set_account(public_key_hex=public_key_hex,\n",
    "                          private_key_hex=private_key_hex)\n",
    "        if relay_urls is None:\n",
    "            relay_urls = [\n",
    "                'wss://nostr-2.zebedee.cloud',\n",
    "                'wss://relay.damus.io',\n",
    "                'wss://brb.io',\n",
    "                'wss://nostr-2.zebedee.cloud',\n",
    "                'wss://rsslay.fiatjaf.com',\n",
    "                'wss://nostr-relay.wlvs.space',\n",
    "                'wss://nostr.orangepill.dev',\n",
    "                'wss://nostr.oxtr.dev'\n",
    "            ]\n",
    "        else:\n",
    "            pass\n",
    "        self.relay_manager = RelayManager(first_response_only=self.first_response_only)\n",
    "        self.events_table_name = 'events'\n",
    "        self.events_table_indexes = ['id', 'url']\n",
    "        self.events_table_types = {\n",
    "            'id': 'char',\n",
    "            'pubkey': 'char',\n",
    "            'created_at': 'int',\n",
    "            'kind': 'int',\n",
    "            'tags': 'char',\n",
    "            'content': 'char',\n",
    "            'sig': 'char',\n",
    "            'subscription_id': 'char',\n",
    "            'url': 'char'\n",
    "        }\n",
    "        self.db_location = Path(appdirs.user_data_dir('python-nostr'))\n",
    "        self.db_name = db_name\n",
    "        self.init_db()\n",
    "        self.set_relays(relay_urls=relay_urls)\n",
    "        self.load_existing_event_ids()\n",
    "\n",
    "    def set_account(self, public_key_hex: str = None, private_key_hex: str = None) -> None:\n",
    "        \"\"\"logic to set public and private keys\n",
    "\n",
    "        Args:\n",
    "            public_key_hex (str, optional): if only public key is provided, operations\n",
    "                that require a signature will fail. Defaults to None.\n",
    "            private_key_hex (str, optional): _description_. Defaults to None.\n",
    "\n",
    "        Raises:\n",
    "            ValueException: if the private key and public key are both provided but\n",
    "                don't match\n",
    "        \"\"\"\n",
    "        self.private_key = None\n",
    "        self.public_key = None\n",
    "        if private_key_hex is None:\n",
    "            self.private_key = self._request_private_key_hex()\n",
    "        else:\n",
    "            self.private_key = PrivateKey.from_hex(private_key_hex)\n",
    "\n",
    "        if public_key_hex is None:\n",
    "            self.public_key = self.private_key.public_key\n",
    "        else:\n",
    "            self.public_key = PublicKey.from_hex(public_key_hex)\n",
    "        public_key_hex = self.public_key.hex()\n",
    "        \n",
    "        if public_key_hex != self.private_key.public_key.hex():\n",
    "            self.public_key = PublicKey.from_hex(public_key_hex)\n",
    "            self.private_key = None\n",
    "    \n",
    "    def _request_private_key_hex(self) -> str:\n",
    "        \"\"\"method to request private key. this method should be overwritten\n",
    "        when building out a UI\n",
    "\n",
    "        Returns:\n",
    "            PrivateKey: the new private_key object for the client. will also\n",
    "                be set in place at self.private_key\n",
    "        \"\"\"\n",
    "        self.private_key = PrivateKey()\n",
    "        return self.private_key\n",
    "    \n",
    "    @property\n",
    "    def db_conn(self):\n",
    "        self.db_location.mkdir(exist_ok=True)\n",
    "        return sqlite3.Connection(self.db_location / f'{self.db_name}.sqlite')\n",
    "    \n",
    "    def init_db(self):\n",
    "        table_columns = ', '.join([f'{col} {sql_type}' for col, sql_type\n",
    "                                   in self.events_table_types.items()])\n",
    "        with self.db_conn as con:\n",
    "            con.execute(f'CREATE TABLE IF NOT EXISTS {self.events_table_name} '\n",
    "                        f'({table_columns});')\n",
    "            for idx in self.events_table_indexes:\n",
    "                con.execute(f'CREATE INDEX IF NOT EXISTS {idx}_IDX ON {self.events_table_name}({idx});')\n",
    "        \n",
    "    def set_relays(self, relay_urls: list = None):\n",
    "        relays_to_add = set(relay_urls) - set(self.relay_manager.relays.keys())\n",
    "        relays_to_remove = set(self.relay_manager.relays.keys()) - set(relay_urls)\n",
    "        for url in relays_to_remove:\n",
    "            self.relay_manager.remove_relay(url)\n",
    "        was_connected = self.relay_manager._is_connected\n",
    "        for url in relays_to_add:\n",
    "            self.relay_manager.add_relay(url=url)\n",
    "        if was_connected:\n",
    "            self.relay_manager.open_connections()\n",
    "\n",
    "    def load_existing_event_ids(self):\n",
    "        ids = pd.read_sql(sql='select id, url from events',\n",
    "                          con=self.db_conn)\n",
    "        if self.first_response_only:\n",
    "            ids = ids['id']\n",
    "        else:\n",
    "            ids = ids['id'] + ':' + ids['url']\n",
    "        self.relay_manager.message_pool._unique_objects = set(ids.to_list())"
   ]
  },
  {
   "attachments": {},
   "cell_type": "markdown",
   "metadata": {},
   "source": [
    "### tests\n",
    "test setting account by private key or public key and handles as expected - note that some uses like the `rebroadcastr` client don't need a private key since we aren't creating new events"
   ]
  },
  {
   "cell_type": "code",
   "execution_count": null,
   "metadata": {},
   "outputs": [],
   "source": [
    "import ssl"
   ]
  },
  {
   "cell_type": "code",
   "execution_count": null,
   "metadata": {},
   "outputs": [],
   "source": [
    "private_key = PrivateKey()\n",
    "public_key = private_key.public_key\n",
    "\n",
    "# load client with no keys\n",
    "client = Client(ssl_options={'cert_reqs': ssl.CERT_NONE})\n",
    "\n",
    "# load client with public key only\n",
    "client = Client(ssl_options={'cert_reqs': ssl.CERT_NONE}, public_key_hex=public_key.hex())\n",
    "assert client.public_key.hex() == public_key.hex()\n",
    "assert client.private_key is None\n",
    "\n",
    "# load client with public key and private key\n",
    "client = Client(ssl_options={'cert_reqs': ssl.CERT_NONE}, public_key_hex=public_key.hex(), private_key_hex=private_key.hex())\n",
    "assert client.public_key.hex() == public_key.hex()\n",
    "assert client.private_key.hex() == private_key.hex()\n",
    "\n",
    "# load client with private key only\n",
    "client = Client(ssl_options={'cert_reqs': ssl.CERT_NONE}, private_key_hex=private_key.hex())\n",
    "assert client.public_key.hex() == public_key.hex()\n",
    "assert client.private_key.hex() == private_key.hex()\n"
   ]
  },
  {
   "cell_type": "code",
   "execution_count": null,
   "metadata": {},
   "outputs": [],
   "source": []
  },
  {
   "attachments": {},
   "cell_type": "markdown",
   "metadata": {},
   "source": [
    "test adding and removing relays while disconnected"
   ]
  },
  {
   "cell_type": "code",
   "execution_count": null,
   "metadata": {},
   "outputs": [],
   "source": [
    "relay_urls_1 = [\n",
    "                'wss://nostr-2.zebedee.cloud',\n",
    "                'wss://rsslay.fiatjaf.com',\n",
    "                'wss://nostr-relay.wlvs.space',\n",
    "                'wss://nostr.orangepill.dev',\n",
    "                'wss://nostr.oxtr.dev'\n",
    "            ]\n",
    "relay_urls_2 = [\n",
    "                'wss://relay.damus.io',\n",
    "                'wss://brb.io',\n",
    "                'wss://nostr-2.zebedee.cloud',\n",
    "                'wss://rsslay.fiatjaf.com',\n",
    "            ]\n",
    "client = Client(private_key_hex=private_key.hex(), relay_urls=relay_urls_1)\n",
    "assert set(relay_urls_1) == set(client.relay_manager.relays.keys())\n",
    "client.set_relays(relay_urls_2)\n",
    "assert set(relay_urls_2) == set(client.relay_manager.relays.keys())\n"
   ]
  },
  {
   "attachments": {},
   "cell_type": "markdown",
   "metadata": {},
   "source": [
    "## adding connection methods\n",
    "the connection methods provide an easy, pythonic way to open and close connections with the relay manager in order to perform operations with the client.\n",
    "\n",
    "The connections can be opened and closed by calling `Client.connect()` and `Client.disconnect` respectively. The client also provides a context manager that can be used as:\n",
    "\n",
    "```python\n",
    "with Client() as client:\n",
    "    while True:\n",
    "        pass\n",
    "```\n",
    "\n",
    "The above code effectively runs the client until it is forced to exit for some interal reason at which point the connections are automatically closed."
   ]
  },
  {
   "cell_type": "code",
   "execution_count": null,
   "metadata": {},
   "outputs": [],
   "source": [
    "#| export\n",
    "\n",
    "@patch\n",
    "def __enter__(self: Client):\n",
    "    \"\"\"context manager to allow processing a connected client\n",
    "    within a `with` statement\n",
    "\n",
    "    Returns:\n",
    "        self: a `with` statement returns this object as it's assignment\n",
    "        so that the client can be instantiated and used within\n",
    "        the `with` statement.\n",
    "    \"\"\"\n",
    "    self.connect()\n",
    "    return self\n",
    "\n",
    "@patch\n",
    "def __exit__(self: Client, ex_type, ex_value, traceback):\n",
    "    \"\"\"closes the connections when exiting the `with` context\n",
    "\n",
    "    arguments are currently unused, but could be use to control\n",
    "    client behavior on error.\n",
    "\n",
    "    Args:\n",
    "        ex_type: exception type\n",
    "        ex_value: exception value\n",
    "        traceback: exception traceback\n",
    "    \"\"\"\n",
    "    self.disconnect()\n",
    "    return False\n",
    "\n",
    "@patch\n",
    "def connect(self: Client) -> None:\n",
    "    self.relay_manager.open_connections(self.ssl_options)\n",
    "\n",
    "@patch\n",
    "def disconnect(self: Client) -> None:\n",
    "    self.relay_manager.close_connections()\n"
   ]
  },
  {
   "cell_type": "code",
   "execution_count": null,
   "metadata": {},
   "outputs": [
    {
     "name": "stdout",
     "output_type": "stream",
     "text": [
      "{'wss://nostr.orangepill.dev': True, 'wss://nostr-relay.wlvs.space': True, 'wss://rsslay.fiatjaf.com': True, 'wss://nostr.oxtr.dev': True}\n",
      "{'wss://rsslay.fiatjaf.com': True, 'wss://relay.damus.io': True, 'wss://brb.io': True}\n"
     ]
    }
   ],
   "source": [
    "relay_urls_1 = [\n",
    "                'wss://rsslay.fiatjaf.com',\n",
    "                'wss://nostr-relay.wlvs.space',\n",
    "                'wss://nostr.orangepill.dev',\n",
    "                'wss://nostr.oxtr.dev'\n",
    "            ]\n",
    "relay_urls_2 = [\n",
    "                'wss://relay.damus.io',\n",
    "                'wss://brb.io',\n",
    "                'wss://rsslay.fiatjaf.com',\n",
    "            ]\n",
    "client = Client(private_key_hex=private_key.hex(), relay_urls=relay_urls_1,\n",
    "                ssl_options={'cert_reqs': ssl.CERT_NONE})\n",
    "with client:\n",
    "\n",
    "    # these are not hard asserts because some relays wont connect\n",
    "    print(client.relay_manager.connection_statuses)\n",
    "    client.set_relays(relay_urls_2)\n",
    "    print(client.relay_manager.connection_statuses)\n",
    "assert not any(client.relay_manager.connection_statuses.values())\n"
   ]
  },
  {
   "attachments": {},
   "cell_type": "markdown",
   "metadata": {},
   "source": [
    "Make sure that our context manager appropriately raises errors and closes connections"
   ]
  },
  {
   "cell_type": "code",
   "execution_count": null,
   "metadata": {},
   "outputs": [],
   "source": [
    "from fastcore.test import test_fail"
   ]
  },
  {
   "cell_type": "code",
   "execution_count": null,
   "metadata": {},
   "outputs": [],
   "source": [
    "def error_in_context():\n",
    "    with client:\n",
    "        raise Error()\n",
    "test_fail(error_in_context)"
   ]
  },
  {
   "cell_type": "code",
   "execution_count": null,
   "metadata": {},
   "outputs": [],
   "source": [
    "assert not any(client.relay_manager.connection_statuses.values())"
   ]
  },
  {
   "attachments": {},
   "cell_type": "markdown",
   "metadata": {},
   "source": [
    "## publishing subscriptions\n",
    "Requests to the relays are most easily understood as subscriptions since each request will continue to receive events to the message pool until the websocket connection is closed or the subscription passes an until criteria. [NIP-01](https://github.com/nostr-protocol/nips/blob/master/01.md#from-client-to-relay-sending-events-and-creating-subscriptions) clearly outlines the components of a subscription. Subscriptions are then executed as follows:\n",
    " - the relay runs a query for past events that meet the filter criteria\n",
    " - the events are returned to the client honoring any `limit` arguments specified\n",
    " - the relay may return an end of stored events (EOSE) notice as described in [NIP-15](https://github.com/nostr-protocol/nips/blob/master/15.md) to inform the client that any further events received are newly published events\n",
    " - the relay will continue to return events that meet the subscription filter criteria until one of 3 things happen:\n",
    "     - a new subscription is sent with the same `subscription_id` and overwrites the existing subscription\n",
    "     - the client sends a `CLOSE` message to the relay to close the subscription\n",
    "     - the websocket between the client and the relay is closed\n",
    "\n",
    "Subscription filters can be created from the `Filter` class in `python-nostr` with the arguments as shown below"
   ]
  },
  {
   "cell_type": "code",
   "execution_count": null,
   "metadata": {},
   "outputs": [],
   "source": [
    "#| export\n",
    "import uuid\n",
    "from typing import Union"
   ]
  },
  {
   "cell_type": "code",
   "execution_count": null,
   "metadata": {},
   "outputs": [],
   "source": [
    "#| export\n",
    "\n",
    "@patch\n",
    "def publish_subscription(self: Client, filters: Union[Filter, Filters],\n",
    "                         subscription_id: str = str(uuid.uuid4())) -> None:\n",
    "    \"\"\"publishes a request from a subscription id and a set of filters. Filters\n",
    "    can be defined using the request_by_custom_filter method or from a list of\n",
    "    preset filters (as of yet to be created):\n",
    "\n",
    "    Args:\n",
    "        request_filters (Filters): list of filters for a subscription\n",
    "        subscription_id (str): subscription id to be sent to relay. defaults\n",
    "            to a random guid\n",
    "    \"\"\"\n",
    "    if isinstance(filters, Filter):\n",
    "        filters = Filters([filters])\n",
    "    request = [ClientMessageType.REQUEST, subscription_id]\n",
    "    request.extend(filters.to_json_array())\n",
    "    message = json.dumps(request)\n",
    "    self.relay_manager.add_subscription(\n",
    "        subscription_id, filters\n",
    "        )\n",
    "    self.relay_manager.publish_message(message)\n",
    "    time.sleep(1)\n",
    "    self.get_notices_from_relay()\n",
    "\n",
    "@patch\n",
    "def _notice_handler(self: Client, notice_msg: NoticeMessage):\n",
    "    \"\"\"a hidden method used to handle notice outputs\n",
    "    from a relay. This method can be overwritten to display notices\n",
    "    differently if needed\n",
    "\n",
    "    Args:\n",
    "        notice_msg (NoticeMessage): Notice message returned from relay\n",
    "    \"\"\"\n",
    "    warnings.warn(f'{notice_msg.url}:\\n\\t{notice_msg.content}')\n",
    "\n",
    "@patch\n",
    "def get_notices_from_relay(self: Client):\n",
    "    \"\"\"calls the _notice_handler method on all notices from relays\n",
    "    \"\"\"\n",
    "    while self.relay_manager.message_pool.has_notices():\n",
    "        notice_msg = self.relay_manager.message_pool.get_notice()\n",
    "        self._notice_handler(notice_msg=notice_msg)\n"
   ]
  },
  {
   "attachments": {},
   "cell_type": "markdown",
   "metadata": {},
   "source": [
    "### tests\n",
    "below we make and publish a simple subscription that requests posts from Jack Dorsey's pubkey with a limit of 10. This will initially only return 10 events and then would continue to return new posts from Jack if we left the connection open.\n",
    "\n",
    "we can see that `python-nostr` has also added the subscription to a dictionary of subscriptions for each relay in the relay manager."
   ]
  },
  {
   "cell_type": "code",
   "execution_count": null,
   "metadata": {},
   "outputs": [],
   "source": [
    "url='ws://127.0.0.1:6969'\n",
    "client = Client(private_key_hex=private_key.hex(), relay_urls=[url],\n",
    "                ssl_options={'cert_reqs': ssl.CERT_NONE})\n",
    "\n",
    "jacks_pubkey = PublicKey.from_npub('npub1sg6plzptd64u62a878hep2kev88swjh3tw00gjsfl8f237lmu63q0uf63m').hex()\n",
    "\n",
    "a_filter = Filter(\n",
    "    authors=[jacks_pubkey],\n",
    "    limit=10\n",
    ")\n",
    "with client:\n",
    "    subscription_id = str(uuid.uuid4())\n",
    "    client.publish_subscription(filters=a_filter, subscription_id=subscription_id)\n",
    "    for relay in client.relay_manager:\n",
    "        assert subscription_id in relay.subscriptions.keys()"
   ]
  },
  {
   "cell_type": "markdown",
   "metadata": {},
   "source": [
    "## retrieving events\n",
    "\n",
    "As a result, the same request likely does not need to be made twice as long as the connection is still open. New events for any subscriptions can be retrieved using the `get_events` method.\n",
    "\n",
    "The `message_pool` also contains notices (effectively plain english errors from the relay) and end of subscription notices, which let you know that the relay is done sending information at the moment (but may resume if more events come in). These different types of events will be handled next. First..."
   ]
  },
  {
   "cell_type": "code",
   "execution_count": null,
   "metadata": {},
   "outputs": [],
   "source": [
    "#| export\n",
    "\n",
    "@patch\n",
    "def _event_handler(self: Client, event_msg: EventMessage) -> pd.DataFrame:\n",
    "    \"\"\"a hidden method used to handle event outputs\n",
    "    from a relay. This can be overwritten to store events\n",
    "    to a db for example.\n",
    "\n",
    "    Args:\n",
    "        event_msg (EventMessage): Event message returned from relay\n",
    "    \"\"\"\n",
    "    self.insert_event_to_database(event_msg)\n",
    "\n",
    "@patch\n",
    "def get_events_pool(self: Client):\n",
    "    \"\"\"calls the _event_handler method on all events from relays\n",
    "    \"\"\"\n",
    "    self.events = []\n",
    "    while self.relay_manager.message_pool.has_events():\n",
    "        event_msg = self.relay_manager.message_pool.get_event()\n",
    "        self._event_handler(event_msg=event_msg)\n",
    "\n",
    "@patch\n",
    "def insert_event_to_database(self: Client, event_msg: EventMessage):\n",
    "    table_column_names = ', '.join([col for col in self.events_table_types.keys()])\n",
    "    event_json = event_msg.event.to_json_object()\n",
    "    event_json['subscription_id'] = event_msg.subscription_id\n",
    "    event_json['url'] = event_msg.url\n",
    "    for col, sql_type in self.events_table_types.items():\n",
    "        if sql_type == 'char':\n",
    "            data = str(event_json[col]).replace('\\'','\\'\\'') \\\n",
    "                                  .replace('\\\"','\\\"\\\"')\n",
    "            event_json[col] = f'\\\"{data}\\\"'\n",
    "        else:\n",
    "            event_json[col] = str(event_json[col])\n",
    "\n",
    "    table_values = ', '.join(\n",
    "        [event_json[col] for col in self.events_table_types.keys()]\n",
    "        )\n",
    "    sql = f'''\n",
    "        INSERT INTO {self.events_table_name} ({table_column_names})\n",
    "        VALUES ({table_values});\n",
    "        '''\n",
    "    with self.db_conn as con:\n",
    "        con.execute(sql)"
   ]
  },
  {
   "attachments": {},
   "cell_type": "markdown",
   "metadata": {},
   "source": [
    "### tests\n",
    "let's publish the same subscription and get the events. We will clear the events data table of our test database."
   ]
  },
  {
   "cell_type": "code",
   "execution_count": null,
   "metadata": {},
   "outputs": [],
   "source": [
    "client = Client(private_key_hex=private_key.hex(),\n",
    "                ssl_options={'cert_reqs': ssl.CERT_NONE},\n",
    "                db_name='test', relay_urls=[url])\n",
    "with client.db_conn as con:\n",
    "    if client.db_name != 'test':\n",
    "        raise ValueError(f'should not be TRUNCATING a non test database - current database is {client.db_name}')\n",
    "    con.execute(f'DELETE FROM events')\n",
    "with client:\n",
    "    subscription_id = str(uuid.uuid4())\n",
    "    client.publish_subscription(filters=a_filter, subscription_id=subscription_id)\n",
    "    client.get_events_pool()\n"
   ]
  },
  {
   "attachments": {},
   "cell_type": "markdown",
   "metadata": {},
   "source": [
    "See what events we got.\n",
    "\n",
    "> *Note:* there could be more than 10 events received. In testing I got 20 events because two different relays had a different set of events for Jack."
   ]
  },
  {
   "cell_type": "code",
   "execution_count": null,
   "metadata": {},
   "outputs": [
    {
     "name": "stdout",
     "output_type": "stream",
     "text": [
      "<class 'pandas.core.frame.DataFrame'>\n",
      "Index: 0 entries\n",
      "Data columns (total 9 columns):\n",
      " #   Column           Non-Null Count  Dtype \n",
      "---  ------           --------------  ----- \n",
      " 0   id               0 non-null      object\n",
      " 1   pubkey           0 non-null      object\n",
      " 2   created_at       0 non-null      object\n",
      " 3   kind             0 non-null      object\n",
      " 4   tags             0 non-null      object\n",
      " 5   content          0 non-null      object\n",
      " 6   sig              0 non-null      object\n",
      " 7   subscription_id  0 non-null      object\n",
      " 8   url              0 non-null      object\n",
      "dtypes: object(9)\n",
      "memory usage: 0.0+ bytes\n"
     ]
    }
   ],
   "source": [
    "\n",
    "with client.db_conn as con:\n",
    "    df = pd.read_sql('select * from events', con)\n",
    "df.info()"
   ]
  },
  {
   "attachments": {},
   "cell_type": "markdown",
   "metadata": {},
   "source": [
    "## end of stored events notice\n",
    "Make sure we have a method to print the end of stored message notice.\n"
   ]
  },
  {
   "cell_type": "code",
   "execution_count": null,
   "metadata": {},
   "outputs": [],
   "source": [
    "#| export\n",
    "\n",
    "@patch\n",
    "def _eose_handler(self: Client, eose_msg: EndOfStoredEventsMessage):\n",
    "    \"\"\"a hidden method used to handle notice outputs\n",
    "    from a relay. This can be overwritten to display notices\n",
    "    differently - should be warnings or errors?\n",
    "\n",
    "    Args:\n",
    "        notice_msg (EndOfStoredEventsMessage): Message from relay\n",
    "            to signify the last event in a subscription has been\n",
    "            provided.\n",
    "    \"\"\"\n",
    "    print(f'end of subscription: {eose_msg.subscription_id} received.')\n",
    "\n",
    "@patch\n",
    "def get_eose_from_relay(self: Client):\n",
    "    \"\"\"calls the _eose_handler end of subsribtion events from relays\n",
    "    \"\"\"\n",
    "    while self.relay_manager.message_pool.has_eose_notices():\n",
    "        eose_msg = self.relay_manager.message_pool.get_eose_notice()\n",
    "        self._eose_handler(eose_msg=eose_msg)\n"
   ]
  },
  {
   "attachments": {},
   "cell_type": "markdown",
   "metadata": {},
   "source": [
    "## publishing events\n",
    "Make a method that can publish events"
   ]
  },
  {
   "cell_type": "code",
   "execution_count": null,
   "metadata": {},
   "outputs": [],
   "source": [
    "#| export\n",
    "\n",
    "@patch\n",
    "def publish_event(self: Client, event: Event) -> None:\n",
    "    \"\"\"publish an event and immediately checks for a notice\n",
    "    from the relay in case of an invalid event\n",
    "\n",
    "    Args:\n",
    "        event (Event): _description_\n",
    "    \"\"\"\n",
    "    if self.private_key is None:\n",
    "        self.private_key = self._request_private_key_hex()\n",
    "    if not isinstance(event.created_at, int):\n",
    "        event.created_at = int(event.created_at)\n",
    "    self.check_event_pubkey(event)\n",
    "    event.sign(self.private_key.hex())\n",
    "    assert event.verify()\n",
    "    message = json.dumps([ClientMessageType.EVENT, event.to_json_object()])\n",
    "    self.relay_manager.publish_message(message)\n",
    "    time.sleep(1)\n",
    "    self.get_notices_from_relay()\n",
    "\n",
    "@patch\n",
    "def check_event_pubkey(self: Client, event: Event):\n",
    "    if self.public_key.hex() != event.public_key:\n",
    "        if self.private_key.public_key.hex() != self.public_key.hex():\n",
    "            raise RuntimeError('cannot create event. '\n",
    "                               'client private key and public key don\\'t match')\n",
    "        else:\n",
    "            raise Exception('event is not valid')\n",
    "    else:\n",
    "        pass"
   ]
  },
  {
   "attachments": {},
   "cell_type": "markdown",
   "metadata": {},
   "source": [
    "### tests\n",
    "We will try to publish an event with the wrong public key and assert that it will fail."
   ]
  },
  {
   "cell_type": "code",
   "execution_count": null,
   "metadata": {},
   "outputs": [
    {
     "name": "stderr",
     "output_type": "stream",
     "text": [
      "/Users/ryanarmstrong/python/nostrfastr/nostrfastr/nostr.py:164: UserWarning: wss://nostr.oxtr.dev is not connected... removing relay.\n",
      "  warnings.warn(\n",
      "/Users/ryanarmstrong/python/nostrfastr/nostrfastr/nostr.py:164: UserWarning: wss://nostr-2.zebedee.cloud is not connected... removing relay.\n",
      "  warnings.warn(\n"
     ]
    }
   ],
   "source": [
    "\n",
    "client = Client(private_key_hex=private_key.hex(),\n",
    "                ssl_options={'cert_reqs': ssl.CERT_NONE},\n",
    "                db_name='test')\n",
    "\n",
    "bad_event = Event(public_key=jacks_pubkey, content='this is also a test')\n",
    "\n",
    "def error_on_invalid():\n",
    "    with client:\n",
    "        client.publish_event(event=bad_event)\n",
    "\n",
    "test_fail(error_on_invalid)"
   ]
  },
  {
   "attachments": {},
   "cell_type": "markdown",
   "metadata": {},
   "source": [
    "And now publishing a good event"
   ]
  },
  {
   "cell_type": "code",
   "execution_count": null,
   "metadata": {},
   "outputs": [],
   "source": [
    "\n",
    "good_event = Event(public_key=client.public_key.hex(), content='this is also a test', created_at=int(time.time()))\n",
    "assert good_event.created_at == int(time.time())\n",
    "\n",
    "# # publishing events commented out for sake of others\n",
    "# with client:\n",
    "#     client.publish_event(event=good_event)"
   ]
  },
  {
   "attachments": {},
   "cell_type": "markdown",
   "metadata": {},
   "source": [
    "## special methods for common filters and events\n",
    "below are some methods to help create common filters and events used in the nostr protocol\n",
    "\n",
    "See the [nostr nips](https://github.com/nostr-protocol/nips#event-kinds) page for a full list of event types and specifications. These events will continue to be built out over time."
   ]
  },
  {
   "cell_type": "code",
   "execution_count": null,
   "metadata": {},
   "outputs": [],
   "source": [
    "#| export\n",
    "\n",
    "@patch\n",
    "def filter_events_by_id(self: Client, ids: Union[str,list]) -> Filter:\n",
    "    \"\"\"build a filter from event ids\n",
    "\n",
    "    Args:\n",
    "        ids (Union[str,list]): an event id or a list of event ids to request\n",
    "\n",
    "    Returns:\n",
    "        Filter: A filter object to use with a subscription\n",
    "    \"\"\"\n",
    "    if isinstance(ids, str):\n",
    "        ids = [ids]\n",
    "    return Filter(\n",
    "        ids=ids\n",
    "        )\n",
    "\n",
    "@patch\n",
    "def filter_events_authors(self: Client, authors: Union[str,list]) -> Filter:\n",
    "    \"\"\"build a filter from authors\n",
    "\n",
    "    Args:\n",
    "        authors (Union[str,list]): an author or a list of authors to request\n",
    "\n",
    "    Returns:\n",
    "        Filter: A filter object to use with a subscription\n",
    "    \"\"\"\n",
    "    # TODO: add support for npubs\n",
    "    if isinstance(authors, str):\n",
    "        authors = [authors]\n",
    "    return Filter(\n",
    "        authors=authors\n",
    "        )\n",
    "\n",
    "@patch\n",
    "def event_metadata(self: Client,\n",
    "                   name: str = None,\n",
    "                   about: str = None,\n",
    "                   picture: str = None,\n",
    "    ) -> Event:\n",
    "    \"\"\"_summary_\n",
    "\n",
    "    Args:\n",
    "        self (Client): _description_\n",
    "        name (str, optional): profile name. Defaults to None.\n",
    "        about (str, optional): profile about me. Defaults to None.\n",
    "        picture (str, optional): url to profile picture. Defaults to None.\n",
    "\n",
    "    Returns:\n",
    "        Event: Event to publish for a metadata update\n",
    "    \"\"\"\n",
    "    # TODO: implement nip-05\n",
    "    items = {\n",
    "        'name': name,\n",
    "        'about': about,\n",
    "        'picture': picture\n",
    "    }\n",
    "    content = {}\n",
    "    for item_name, item_value in items.items():\n",
    "        if item_value is not None:\n",
    "            content.update({f'{item_name}': f'{item_value}'})\n",
    "    content = json.dumps(content)\n",
    "    event = Event(public_key=self.public_key.hex(),\n",
    "                  kind=EventKind.SET_METADATA,\n",
    "                  content=content,\n",
    "                  created_at=int(time.time()))\n",
    "    return event\n",
    "\n",
    "@patch\n",
    "def event_text_note(self: Client, text: str) -> Event:\n",
    "    \"\"\"create a text not event\n",
    "\n",
    "    Args:\n",
    "        text (str): text for nostr note to be published\n",
    "    \"\"\"\n",
    "    # TODO: need regex parsing to handle @ and note references\n",
    "    event = Event(public_key=self.public_key.hex(),\n",
    "                  content=text,\n",
    "                  kind=EventKind.TEXT_NOTE,\n",
    "                  created_at=int(time.time()))\n",
    "    return event\n",
    "\n",
    "@patch\n",
    "def event_recommended_relay(self: Client, relay_list) -> Event:\n",
    "    raise NotImplementedError()\n",
    "\n",
    "@patch\n",
    "def event_deletion(self: Client,\n",
    "                     event_ids: Union[str,list],\n",
    "                     reason: str) -> Event:\n",
    "    \"\"\"event to delete a single event by id\n",
    "\n",
    "    Args:\n",
    "        event_ids (str|list): event id as string or list of event ids\n",
    "        reason (str): a reason for deletion provided by the user\n",
    "    \"\"\"\n",
    "    if isinstance(event_ids, str):\n",
    "        event_ids = [event_ids]\n",
    "    event = Event(public_key=self.public_key.hex(),\n",
    "                  kind=EventKind.DELETE,\n",
    "                  content=reason,\n",
    "                  tags=[['e'] + event_ids],\n",
    "                  created_at=int(time.time()))\n",
    "    return event\n",
    "\n",
    "@patch\n",
    "def event_reaction(self: Client) -> Event:\n",
    "    raise NotImplementedError()\n",
    "\n",
    "@patch\n",
    "def event_channel(self: Client) -> Event:\n",
    "    raise NotImplementedError()\n",
    "\n",
    "@patch\n",
    "def event_channel_metadata(self: Client) -> Event:\n",
    "    raise NotImplementedError()\n",
    "\n",
    "@patch\n",
    "def event_channel_message(self: Client) -> Event:\n",
    "    raise NotImplementedError()\n",
    "\n",
    "@patch\n",
    "def event_channel_hide_message(self: Client) -> Event:\n",
    "    raise NotImplementedError()\n",
    "\n",
    "@patch\n",
    "def event_channel_mute_user(self: Client) -> Event:\n",
    "    raise NotImplementedError()\n",
    "\n",
    "@patch\n",
    "def event_channel_metadata(self: Client) -> Event:\n",
    "    raise NotImplementedError()\n",
    "\n",
    "@patch\n",
    "def event_encrypted_message(self: Client, recipient_hex: str, message: str) -> Event:\n",
    "    warnings.warn('''the current implementation of messages should be used with caution\n",
    "                    see https://github.com/nostr-protocol/nips/issues/107''')\n",
    "    encrypted_message = \\\n",
    "        self.private_key.encrypt_message(message=message,\n",
    "                                         public_key_hex=recipient_hex)\n",
    "    event = Event(public_key=self.public_key.hex(),\n",
    "                  kind=EventKind.ENCRYPTED_DIRECT_MESSAGE,\n",
    "                  content=encrypted_message,\n",
    "                  tags=[['p'] + [recipient_hex]],\n",
    "                  created_at=int(time.time()))\n",
    "    return event\n"
   ]
  },
  {
   "attachments": {},
   "cell_type": "markdown",
   "metadata": {},
   "source": [
    "### tests"
   ]
  },
  {
   "cell_type": "code",
   "execution_count": null,
   "metadata": {},
   "outputs": [
    {
     "name": "stdout",
     "output_type": "stream",
     "text": [
      "{'id': '9916bbfc9480e31eb8e52bb99188ea93d89b6d1dcfc4e5e07b3eaaaa82e1eb82', 'pubkey': '01ba27e084602828c6f6c9795eeed910778eaf896f627413323301128f864215', 'created_at': 1672809341, 'kind': <EventKind.SET_METADATA: 0>, 'tags': [], 'content': '{\"name\": \"python-nostr-testacct\", \"about\": \"i am a robot - dont mind me\", \"picture\": \"https://cdn-icons-png.flaticon.com/256/7603/7603393.png\"}', 'sig': None}\n"
     ]
    }
   ],
   "source": [
    "metadata_update = \\\n",
    "    client.event_metadata(name='python-nostr-testacct',\n",
    "                          about='i am a robot - dont mind me',\n",
    "                          picture='https://cdn-icons-png.flaticon.com/256/7603/7603393.png')\n",
    "# with client:\n",
    "#     # publishing events commented out for sake of others\n",
    "#     client.publish_event(metadata_update)\n",
    "#     pass\n",
    "print(metadata_update.to_json_object())"
   ]
  },
  {
   "cell_type": "code",
   "execution_count": null,
   "metadata": {},
   "outputs": [
    {
     "data": {
      "text/plain": [
       "0"
      ]
     },
     "execution_count": null,
     "metadata": {},
     "output_type": "execute_result"
    }
   ],
   "source": [
    "#| hide\n",
    "# os.system('pkill pkill gunicorn:\\\\')"
   ]
  },
  {
   "cell_type": "code",
   "execution_count": null,
   "metadata": {},
   "outputs": [],
   "source": [
    "#| hide\n",
    "import nbdev; nbdev.nbdev_export()"
   ]
  },
  {
   "cell_type": "code",
   "execution_count": null,
   "metadata": {},
   "outputs": [],
   "source": []
  }
 ],
 "metadata": {
  "kernelspec": {
   "display_name": "rebroadcastr-nbdev",
   "language": "python",
   "name": "python3"
  }
 },
 "nbformat": 4,
 "nbformat_minor": 4
}
