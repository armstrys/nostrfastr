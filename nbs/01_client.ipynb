{
 "cells": [
  {
   "cell_type": "code",
   "execution_count": null,
   "metadata": {},
   "outputs": [],
   "source": [
    "#| default_exp client"
   ]
  },
  {
   "attachments": {},
   "cell_type": "markdown",
   "metadata": {},
   "source": [
    "# basic client functionality\n",
    "\n",
    "> basic client operations not specific to the `rebroadcastr` client"
   ]
  },
  {
   "attachments": {},
   "cell_type": "markdown",
   "metadata": {},
   "source": [
    "This notebook will implement and test a barebones client that can easily manage connections, add subscriptions, get events, and publish events."
   ]
  },
  {
   "cell_type": "code",
   "execution_count": null,
   "metadata": {},
   "outputs": [],
   "source": [
    "#| hide\n",
    "from nbdev.showdoc import *"
   ]
  },
  {
   "cell_type": "code",
   "execution_count": null,
   "metadata": {},
   "outputs": [],
   "source": [
    "#| export\n",
    "import warnings\n",
    "import json\n",
    "import time\n",
    "import os\n",
    "import pprint\n",
    "import sqlite3\n",
    "import appdirs\n",
    "import pandas as pd\n",
    "from pathlib import Path\n",
    "from nostr.message_type import ClientMessageType\n",
    "from nostr.message_pool import EventMessage,\\\n",
    "    NoticeMessage, EndOfStoredEventsMessage\n",
    "from nostr.filter import Filter, Filters\n",
    "from nostr.event import Event, EventKind\n",
    "from rebroadcastr.nostr import PrivateKey, PublicKey,\\\n",
    "    RelayManager, MessagePool\n",
    "\n",
    "from fastcore.utils import patch"
   ]
  },
  {
   "cell_type": "code",
   "execution_count": null,
   "metadata": {},
   "outputs": [],
   "source": [
    "#| export\n",
    "\n",
    "class Client:\n",
    "    def __init__(self, public_key_hex: str = None, private_key_hex: str = None,\n",
    "                 relay_urls: list = None, ssl_options: dict = {},\n",
    "                 first_response_only: bool = True):\n",
    "        \"\"\"A basic framework for common operations that a nostr client will\n",
    "        need to execute.\n",
    "\n",
    "        Args:\n",
    "            public_key_hex (str, optional): public key to initiate client\n",
    "            private_key_hex (str, optional): private key to log in with public key.\n",
    "                Defaults to None, in which case client is effectively read only\n",
    "            relay_urls (list, optional): provide a list of relay urls.\n",
    "                Defaults to None, in which case a default list will be used.\n",
    "            ssl_options (dict, optional): ssl options for websocket connection\n",
    "                Defaults to empty dict\n",
    "            allow_duplicates (bool, optional): whether or not to allow duplicate\n",
    "                event ids into the queue from multiple relays. This isn't fully\n",
    "                working yet. Defaults to False.\n",
    "        \"\"\"\n",
    "        self.ssl_options = ssl_options\n",
    "        self.first_response_only = first_response_only\n",
    "        self.set_account(public_key_hex=public_key_hex,\n",
    "                          private_key_hex=private_key_hex)\n",
    "        if relay_urls is None:\n",
    "            relay_urls = [\n",
    "                'wss://nostr-2.zebedee.cloud',\n",
    "                'wss://relay.damus.io',\n",
    "                'wss://brb.io',\n",
    "                'wss://nostr-2.zebedee.cloud',\n",
    "                'wss://rsslay.fiatjaf.com',\n",
    "                'wss://nostr-relay.wlvs.space',\n",
    "                'wss://nostr.orangepill.dev',\n",
    "                'wss://nostr.oxtr.dev'\n",
    "            ]\n",
    "        else:\n",
    "            pass\n",
    "        self.relay_manager = RelayManager(first_response_only=self.first_response_only)\n",
    "        self.events_table_name = 'events'\n",
    "        self.init_db()\n",
    "        self.set_relays(relay_urls=relay_urls)\n",
    "        self.load_existing_event_ids()\n",
    "\n",
    "    def set_account(self, public_key_hex: str = None, private_key_hex: str = None) -> None:\n",
    "        \"\"\"logic to set public and private keys\n",
    "\n",
    "        Args:\n",
    "            public_key_hex (str, optional): if only public key is provided, operations\n",
    "                that require a signature will fail. Defaults to None.\n",
    "            private_key_hex (str, optional): _description_. Defaults to None.\n",
    "\n",
    "        Raises:\n",
    "            ValueException: if the private key and public key are both provided but\n",
    "                don't match\n",
    "        \"\"\"\n",
    "        self.private_key = None\n",
    "        self.public_key = None\n",
    "        if private_key_hex is None:\n",
    "            self.private_key = self._request_private_key_hex()\n",
    "        else:\n",
    "            self.private_key = PrivateKey.from_hex(private_key_hex)\n",
    "\n",
    "        if public_key_hex is None:\n",
    "            self.public_key = self.private_key.public_key\n",
    "        else:\n",
    "            self.public_key = PublicKey.from_hex(public_key_hex)\n",
    "        public_key_hex = self.public_key.hex()\n",
    "        \n",
    "        if public_key_hex != self.private_key.public_key.hex():\n",
    "            self.public_key = PublicKey.from_hex(public_key_hex)\n",
    "            self.private_key = None\n",
    "        print(f'logged in as public key\\n'\n",
    "              f'\\tbech32: {self.public_key.bech32()}\\n'\n",
    "              f'\\thex: {self.public_key.hex()}')\n",
    "    \n",
    "    def _request_private_key_hex(self) -> str:\n",
    "        \"\"\"method to request private key. this method should be overwritten\n",
    "        when building out a UI\n",
    "\n",
    "        Returns:\n",
    "            PrivateKey: the new private_key object for the client. will also\n",
    "                be set in place at self.private_key\n",
    "        \"\"\"\n",
    "        self.private_key = PrivateKey()\n",
    "        return self.private_key\n",
    "    \n",
    "    @property\n",
    "    def db_conn(self):\n",
    "        data_dir = Path(appdirs.user_data_dir('python-nostr'))\n",
    "        data_dir.mkdir(exist_ok=True)\n",
    "        return sqlite3.Connection(data_dir / f'{self.public_key.bech32()}.sqlite')\n",
    "    \n",
    "    def init_db(self):\n",
    "        with self.db_conn as con:\n",
    "            con.execute(f'CREATE TABLE IF NOT EXISTS {self.events_table_name} '\n",
    "                        '(id char, pubkey char, created_at int, kind int, '\n",
    "                        'tags char, content char, sig char,'\n",
    "                        'subscription_id char, url char);')\n",
    "            con.execute(f'CREATE INDEX IF NOT EXISTS ID_IDX ON {self.events_table_name}(ID);')\n",
    "            con.execute(f'CREATE INDEX IF NOT EXISTS URL_IDX ON {self.events_table_name}(URL);')\n",
    "        \n",
    "    def set_relays(self, relay_urls: list = None):\n",
    "        relays_to_add = set(relay_urls) - set(self.relay_manager.relays.keys())\n",
    "        relays_to_remove = set(self.relay_manager.relays.keys()) - set(relay_urls)\n",
    "        for url in relays_to_remove:\n",
    "            self.relay_manager.remove_relay(url)\n",
    "        was_connected = self.relay_manager._is_connected\n",
    "        for url in relays_to_add:\n",
    "            self.relay_manager.add_relay(url=url)\n",
    "        if was_connected:\n",
    "            self.relay_manager.open_connections()\n",
    "\n",
    "    def load_existing_event_ids(self):\n",
    "        ids = pd.read_sql(sql='select id, url from events',\n",
    "                          con=self.db_conn)\n",
    "        if self.first_response_only:\n",
    "            ids = ids['id']\n",
    "        else:\n",
    "            ids = ids['id'] + ':' + ids['url']\n",
    "        self.relay_manager.message_pool._unique_objects = set(ids.to_list())"
   ]
  },
  {
   "attachments": {},
   "cell_type": "markdown",
   "metadata": {},
   "source": [
    "### tests\n",
    "test setting account by private key or public key and handles as expected - note that some uses like the `rebroadcastr` client don't need a private key since we aren't creating new events"
   ]
  },
  {
   "cell_type": "code",
   "execution_count": null,
   "metadata": {},
   "outputs": [],
   "source": [
    "import ssl"
   ]
  },
  {
   "cell_type": "code",
   "execution_count": null,
   "metadata": {},
   "outputs": [
    {
     "name": "stdout",
     "output_type": "stream",
     "text": [
      "logged in as public key\n",
      "\tbech32: npub10hrh50jujw0rlph2qqeag523vfr0zh22p0h34h86cqzwjsl9v34q6xalvh\n",
      "\thex: 7dc77a3e5c939e3f86ea0033d451516246f15d4a0bef1adcfac004e943e5646a\n",
      "logged in as public key\n",
      "\tbech32: npub1xk8kz4xrqvneujc63y0lm6gxxpvzuxtgmjx3uekv2wpfls938jwq447qqk\n",
      "\thex: 358f6154c303279e4b1a891ffde90630582e1968dc8d1e66cc53829fc0b13c9c\n",
      "logged in as public key\n",
      "\tbech32: npub1xk8kz4xrqvneujc63y0lm6gxxpvzuxtgmjx3uekv2wpfls938jwq447qqk\n",
      "\thex: 358f6154c303279e4b1a891ffde90630582e1968dc8d1e66cc53829fc0b13c9c\n",
      "logged in as public key\n",
      "\tbech32: npub1xk8kz4xrqvneujc63y0lm6gxxpvzuxtgmjx3uekv2wpfls938jwq447qqk\n",
      "\thex: 358f6154c303279e4b1a891ffde90630582e1968dc8d1e66cc53829fc0b13c9c\n"
     ]
    }
   ],
   "source": [
    "private_key = PrivateKey()\n",
    "public_key = private_key.public_key\n",
    "\n",
    "# load client with no keys\n",
    "client = Client(ssl_options={'cert_reqs': ssl.CERT_NONE})\n",
    "\n",
    "# load client with public key only\n",
    "client = Client(ssl_options={'cert_reqs': ssl.CERT_NONE}, public_key_hex=public_key.hex())\n",
    "assert client.public_key.hex() == public_key.hex()\n",
    "assert client.private_key is None\n",
    "\n",
    "# load client with public key and private key\n",
    "client = Client(ssl_options={'cert_reqs': ssl.CERT_NONE}, public_key_hex=public_key.hex(), private_key_hex=private_key.hex())\n",
    "assert client.public_key.hex() == public_key.hex()\n",
    "assert client.private_key.hex() == private_key.hex()\n",
    "\n",
    "# load client with private key only\n",
    "client = Client(ssl_options={'cert_reqs': ssl.CERT_NONE}, private_key_hex=private_key.hex())\n",
    "assert client.public_key.hex() == public_key.hex()\n",
    "assert client.private_key.hex() == private_key.hex()\n"
   ]
  },
  {
   "cell_type": "code",
   "execution_count": null,
   "metadata": {},
   "outputs": [],
   "source": []
  },
  {
   "attachments": {},
   "cell_type": "markdown",
   "metadata": {},
   "source": [
    "test adding and removing relays while disconnected"
   ]
  },
  {
   "cell_type": "code",
   "execution_count": null,
   "metadata": {},
   "outputs": [
    {
     "name": "stdout",
     "output_type": "stream",
     "text": [
      "logged in as public key\n",
      "\tbech32: npub1xk8kz4xrqvneujc63y0lm6gxxpvzuxtgmjx3uekv2wpfls938jwq447qqk\n",
      "\thex: 358f6154c303279e4b1a891ffde90630582e1968dc8d1e66cc53829fc0b13c9c\n"
     ]
    }
   ],
   "source": [
    "relay_urls_1 = [\n",
    "                'wss://nostr-2.zebedee.cloud',\n",
    "                'wss://rsslay.fiatjaf.com',\n",
    "                'wss://nostr-relay.wlvs.space',\n",
    "                'wss://nostr.orangepill.dev',\n",
    "                'wss://nostr.oxtr.dev'\n",
    "            ]\n",
    "relay_urls_2 = [\n",
    "                'wss://relay.damus.io',\n",
    "                'wss://brb.io',\n",
    "                'wss://nostr-2.zebedee.cloud',\n",
    "                'wss://rsslay.fiatjaf.com',\n",
    "            ]\n",
    "client = Client(private_key_hex=private_key.hex(), relay_urls=relay_urls_1)\n",
    "assert set(relay_urls_1) == set(client.relay_manager.relays.keys())\n",
    "client.set_relays(relay_urls_2)\n",
    "assert set(relay_urls_2) == set(client.relay_manager.relays.keys())\n"
   ]
  },
  {
   "attachments": {},
   "cell_type": "markdown",
   "metadata": {},
   "source": [
    "## adding connection methods"
   ]
  },
  {
   "cell_type": "code",
   "execution_count": null,
   "metadata": {},
   "outputs": [],
   "source": [
    "#| export\n",
    "\n",
    "@patch\n",
    "def __enter__(self: Client):\n",
    "    \"\"\"context manager to allow processing a connected client\n",
    "    within a `with` statement\n",
    "\n",
    "    Returns:\n",
    "        self: a `with` statement returns this object as it's assignment\n",
    "        so that the client can be instantiated and used within\n",
    "        the `with` statement.\n",
    "    \"\"\"\n",
    "    self.connect()\n",
    "    return self\n",
    "\n",
    "@patch\n",
    "def __exit__(self: Client, type, value, traceback):\n",
    "    \"\"\"closes the connections when exiting the `with` context\n",
    "\n",
    "    arguments are currently unused, but could be use to control\n",
    "    client behavior on error.\n",
    "\n",
    "    Args:\n",
    "        type (_type_): _description_\n",
    "        value (_type_): _description_\n",
    "        traceback (_type_): _description_\n",
    "    \"\"\"\n",
    "    self.disconnect()\n",
    "    return traceback\n",
    "\n",
    "@patch\n",
    "def connect(self: Client) -> None:\n",
    "    self.relay_manager.open_connections(self.ssl_options)\n",
    "\n",
    "@patch\n",
    "def disconnect(self: Client) -> None:\n",
    "    self.relay_manager.close_connections()\n"
   ]
  },
  {
   "cell_type": "code",
   "execution_count": null,
   "metadata": {},
   "outputs": [
    {
     "name": "stdout",
     "output_type": "stream",
     "text": [
      "logged in as public key\n",
      "\tbech32: npub1xk8kz4xrqvneujc63y0lm6gxxpvzuxtgmjx3uekv2wpfls938jwq447qqk\n",
      "\thex: 358f6154c303279e4b1a891ffde90630582e1968dc8d1e66cc53829fc0b13c9c\n"
     ]
    },
    {
     "name": "stderr",
     "output_type": "stream",
     "text": [
      "/Users/ryanarmstrong/python/rebroadcastr/rebroadcastr/nostr.py:164: UserWarning: wss://rsslay.fiatjaf.com is not connected... removing relay.\n",
      "  warnings.warn(\n"
     ]
    },
    {
     "name": "stdout",
     "output_type": "stream",
     "text": [
      "dict_keys(['wss://nostr.oxtr.dev', 'wss://nostr.orangepill.dev', 'wss://nostr-relay.wlvs.space'])\n",
      "{'wss://nostr.oxtr.dev': True, 'wss://nostr.orangepill.dev': True, 'wss://nostr-relay.wlvs.space': True}\n",
      "dict_keys(['wss://brb.io', 'wss://relay.damus.io'])\n",
      "{'wss://brb.io': True, 'wss://relay.damus.io': True}\n"
     ]
    }
   ],
   "source": [
    "relay_urls_1 = [\n",
    "                'wss://rsslay.fiatjaf.com',\n",
    "                'wss://nostr-relay.wlvs.space',\n",
    "                'wss://nostr.orangepill.dev',\n",
    "                'wss://nostr.oxtr.dev'\n",
    "            ]\n",
    "relay_urls_2 = [\n",
    "                'wss://relay.damus.io',\n",
    "                'wss://brb.io',\n",
    "                'wss://rsslay.fiatjaf.com',\n",
    "            ]\n",
    "client = Client(private_key_hex=private_key.hex(), relay_urls=relay_urls_1)\n",
    "with client:\n",
    "\n",
    "    # these are not hard asserts because some relays wont connect\n",
    "    print(client.relay_manager.relays.keys())\n",
    "    print(client.relay_manager.connection_statuses)\n",
    "    client.set_relays(relay_urls_2)\n",
    "    print(client.relay_manager.relays.keys())\n",
    "    print(client.relay_manager.connection_statuses)\n",
    "assert not any(client.relay_manager.connection_statuses.values())\n"
   ]
  },
  {
   "cell_type": "code",
   "execution_count": null,
   "metadata": {},
   "outputs": [],
   "source": []
  },
  {
   "cell_type": "code",
   "execution_count": null,
   "metadata": {},
   "outputs": [],
   "source": [
    "#| hide\n",
    "import nbdev; nbdev.nbdev_export()"
   ]
  }
 ],
 "metadata": {
  "kernelspec": {
   "display_name": "rebroadcastr-nbdev",
   "language": "python",
   "name": "python3"
  }
 },
 "nbformat": 4,
 "nbformat_minor": 4
}
