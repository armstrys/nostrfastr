{
 "cells": [
  {
   "cell_type": "code",
   "execution_count": null,
   "metadata": {},
   "outputs": [],
   "source": [
    "#| default_exp notifyr"
   ]
  },
  {
   "cell_type": "code",
   "execution_count": null,
   "metadata": {},
   "outputs": [],
   "source": [
    "from nbdev.showdoc import *"
   ]
  },
  {
   "cell_type": "code",
   "execution_count": null,
   "metadata": {},
   "outputs": [],
   "source": [
    "#| hide\n",
    "\n",
    "from nostr_relay import web"
   ]
  },
  {
   "cell_type": "code",
   "execution_count": null,
   "metadata": {},
   "outputs": [],
   "source": [
    "#| hide\n",
    "\n",
    "web.run_with_uvicorn(conf_file='../nostr-relay/nostr-relay-config.yml', in_thread=True)"
   ]
  },
  {
   "attachments": {},
   "cell_type": "markdown",
   "metadata": {},
   "source": [
    "# Nostr Notifyr\n",
    "\n",
    "> Using the basic client to make a simple notification bot to alert when a python function is done running or if it fails"
   ]
  },
  {
   "attachments": {},
   "cell_type": "markdown",
   "metadata": {},
   "source": [
    "## making a decorator that can send messages\n",
    "We are going to make a decorator that will store a private key in the keychain and send an encrypted message to itself. The private key will also be assigned to the decorated function as an attribute. The user can then log into any type of nostr client that can receive encrypted DMs to get notifications about python processing results or if the function errors out. Other projects like [knockknock](https://github.com/huggingface/knockknock) offer this sort of service, but take more leg work to get an account set up. Being able to randomly generate a Nostr private key makes this quick and painless.\n",
    "\n",
    "> **Note**: There is some concern about the safety of the current encrypted message implementation. Please do not use this module for any sort of secure communication. You can see a Github issue on the topic [here](https://github.com/nostr-protocol/nips/issues/107)\n",
    "\n",
    "> **Another note about keyring:** This project is tested and runs on MacOS - the majority of it seems to build on linux, but seems to have some issues running on Linux due to `keyring` dependencies. The [keyring documenation](https://pypi.org/project/keyring/) may help if you attempt to debug. I believe installing [kwallet](https://en.wikipedia.org/wiki/KWallet) might be the eventual solution."
   ]
  },
  {
   "cell_type": "code",
   "execution_count": null,
   "metadata": {},
   "outputs": [],
   "source": [
    "#| export\n",
    "\n",
    "from nostrfastr.client import Client\n",
    "import time"
   ]
  },
  {
   "attachments": {},
   "cell_type": "markdown",
   "metadata": {},
   "source": [
    "First let's make a helper function that will send the message"
   ]
  },
  {
   "cell_type": "code",
   "execution_count": null,
   "metadata": {},
   "outputs": [],
   "source": [
    "#| export\n",
    "\n",
    "def send_nostr_message(notifyr_client: Client, message: str, recipient_pubkey_hex: str) -> None:\n",
    "    \"\"\"a simple function that takes a client and a message and\n",
    "    sends the message to the client pubkey from the client pubkey\n",
    " \n",
    "    Parameters\n",
    "    ----------\n",
    "    notifyr_client : Client\n",
    "       A client class that will send an encrypted message for us\n",
    "    message : str\n",
    "       A message that will be encrypted and sent\n",
    "    \"\"\"\n",
    "    with notifyr_client:\n",
    "        event = notifyr_client.event_encrypted_message(recipient_hex=recipient_pubkey_hex,\n",
    "                                                       message=message)\n",
    "        notifyr_client.publish_event(event)\n",
    "    pass\n"
   ]
  },
  {
   "attachments": {},
   "cell_type": "markdown",
   "metadata": {},
   "source": [
    "Next we are going to make helper functions to get and set credentials from `keyring`"
   ]
  },
  {
   "cell_type": "code",
   "execution_count": null,
   "metadata": {},
   "outputs": [],
   "source": [
    "#| export\n",
    "\n",
    "import keyring\n",
    "from keyring.errors import NoKeyringError\n",
    "from nostrfastr.nostr import PrivateKey, PublicKey"
   ]
  },
  {
   "cell_type": "code",
   "execution_count": null,
   "metadata": {},
   "outputs": [
    {
     "data": {
      "text/markdown": [
       "---\n",
       "\n",
       "### set_password\n",
       "\n",
       ">      set_password (service_name:str, username:str, password:str)\n",
       "\n",
       "Set password for the user in the specified service."
      ],
      "text/plain": [
       "---\n",
       "\n",
       "### set_password\n",
       "\n",
       ">      set_password (service_name:str, username:str, password:str)\n",
       "\n",
       "Set password for the user in the specified service."
      ]
     },
     "execution_count": null,
     "metadata": {},
     "output_type": "execute_result"
    }
   ],
   "source": [
    "show_doc(keyring.set_password)"
   ]
  },
  {
   "cell_type": "code",
   "execution_count": null,
   "metadata": {},
   "outputs": [],
   "source": [
    "#| export\n",
    "\n",
    "def set_private_key(notifyr_privkey_hex: str) -> None:\n",
    "   \"\"\"Set the private key in the computer keyring\n",
    "\n",
    "   Parameters\n",
    "   ----------\n",
    "   notifyr_privkey_hex : str\n",
    "       nostr hex private key\n",
    "   \"\"\"\n",
    "   return keyring.set_password(service_name='nostr',\n",
    "                                username='notifyr',\n",
    "                                password=notifyr_privkey_hex)\n",
    "\n",
    "def get_private_key() -> str:\n",
    "    \"\"\"get the nostr hex private key from the computer key ring\n",
    "\n",
    "    Returns\n",
    "    -------\n",
    "    str\n",
    "        nostr hex private key\n",
    "    \"\"\"\n",
    "    return keyring.get_password(service_name='nostr',\n",
    "                                username='notifyr')\n",
    "\n",
    "def delete_private_key() -> None:\n",
    "    \"\"\"delete the nostr hex private key from the computer key ring.\n",
    "    This is not used in the decorator function, but may be used\n",
    "    if need for testing\n",
    "    \"\"\"\n",
    "    return keyring.delete_password(service_name='nostr',\n",
    "                                   username='notifyr')\n"
   ]
  },
  {
   "attachments": {},
   "cell_type": "markdown",
   "metadata": {},
   "source": [
    "Let's test setting and restoring the private key"
   ]
  },
  {
   "cell_type": "code",
   "execution_count": null,
   "metadata": {},
   "outputs": [],
   "source": [
    "#| hide\n",
    "current_machine_privkey = get_private_key()"
   ]
  },
  {
   "attachments": {},
   "cell_type": "markdown",
   "metadata": {},
   "source": [
    "Clear the private key from keychain"
   ]
  },
  {
   "cell_type": "code",
   "execution_count": null,
   "metadata": {},
   "outputs": [],
   "source": [
    "priv_key_hex = get_private_key()\n",
    "if priv_key_hex is not None:\n",
    "    delete_private_key()\n",
    "assert get_private_key() is None\n"
   ]
  },
  {
   "attachments": {},
   "cell_type": "markdown",
   "metadata": {},
   "source": [
    "Try setting a new one"
   ]
  },
  {
   "cell_type": "code",
   "execution_count": null,
   "metadata": {},
   "outputs": [],
   "source": [
    "priv_key_hex = PrivateKey().hex()\n",
    "set_private_key(notifyr_privkey_hex = priv_key_hex)\n",
    "assert get_private_key() == priv_key_hex"
   ]
  },
  {
   "cell_type": "code",
   "execution_count": null,
   "metadata": {},
   "outputs": [],
   "source": [
    "#| hide\n",
    "if current_machine_privkey is not None:\n",
    "    set_private_key(notifyr_privkey_hex=current_machine_privkey)"
   ]
  },
  {
   "attachments": {},
   "cell_type": "markdown",
   "metadata": {},
   "source": [
    "Finally we write the decorator function complete with\n",
    " - nostr client handling\n",
    " - start message, success message, error message handling\n",
    " - and setting the private key to the decorator function for easy user access"
   ]
  },
  {
   "cell_type": "code",
   "execution_count": null,
   "metadata": {},
   "outputs": [],
   "source": [
    "#| export\n",
    "\n",
    "def convert_to_hex(pubkey: str) -> str:\n",
    "    \"\"\"make sure the pubkey is hex\n",
    "\n",
    "    Parameters\n",
    "    ----------\n",
    "    pubkey : str\n",
    "        hex or npub (bech32) pubkey\n",
    "\n",
    "    Returns\n",
    "    -------\n",
    "    str\n",
    "        hex pubkey\n",
    "    \"\"\"\n",
    "    if pubkey.startswith('npub'):\n",
    "         pubkey = \\\n",
    "            PublicKey.from_npub(pubkey).hex()\n",
    "    return pubkey"
   ]
  },
  {
   "cell_type": "code",
   "execution_count": null,
   "metadata": {},
   "outputs": [],
   "source": [
    "#| export\n",
    "\n",
    "def get_notifyr_privkey() -> str:\n",
    "    \"\"\"returns a private key from keychain and\n",
    "    sets a new one if one doesn't exist\n",
    "\n",
    "    Returns\n",
    "    -------\n",
    "    str\n",
    "        private key in hex format\n",
    "    \"\"\"\n",
    "    privkey_hex = get_private_key()\n",
    "    if privkey_hex is None:\n",
    "        privkey_hex = PrivateKey().hex()\n",
    "    set_private_key(privkey_hex)\n",
    "    assert get_private_key() == privkey_hex\n",
    "    return privkey_hex"
   ]
  },
  {
   "cell_type": "code",
   "execution_count": null,
   "metadata": {},
   "outputs": [],
   "source": [
    "#| export\n",
    "\n",
    "import functools"
   ]
  },
  {
   "cell_type": "code",
   "execution_count": null,
   "metadata": {},
   "outputs": [],
   "source": [
    "#| export\n",
    "\n",
    "def notifyr(func=None, recipient_pubkey: str = None, relay_urls: list[str] = None):\n",
    "   \"\"\"A decorator that will set a nostr private key to `func.notifyr_privkey_hex\n",
    "   and use that key to send an encrypted message to it's own public key on the start\n",
    "   and termination of the decorated function. The output will send whether the function\n",
    "   runs completely or ends in an error with an informative message.\n",
    "\n",
    "   Parameters\n",
    "   ----------\n",
    "   func : function\n",
    "       the function to be decorated\n",
    "\n",
    "   Returns\n",
    "   -------\n",
    "   function\n",
    "       the decorated function\n",
    "\n",
    "   Raises\n",
    "   ------\n",
    "   e\n",
    "       if the function fails, else returns the function result\n",
    "   \"\"\"\n",
    "   notifyr_privkey_hex = get_private_key()\n",
    "   if notifyr_privkey_hex is None:\n",
    "      notifyr_privkey_hex = PrivateKey().hex()\n",
    "   set_private_key(notifyr_privkey_hex)\n",
    "   assert get_private_key() == notifyr_privkey_hex\n",
    "   if relay_urls is None:\n",
    "      relay_urls = ['wss://relay.damus.io',\n",
    "                    'wss://brb.io']\n",
    "   if recipient_pubkey is None:\n",
    "      recipient_pubkey_hex = \\\n",
    "         PrivateKey.from_hex(notifyr_privkey_hex).public_key.hex()\n",
    "   else:\n",
    "      if recipient_pubkey.startswith('npub'):\n",
    "         recipient_pubkey_hex = \\\n",
    "            PublicKey.from_npub(recipient_pubkey).hex()\n",
    "      else:\n",
    "         recipient_pubkey_hex = recipient_pubkey\n",
    "\n",
    "   if func is None:\n",
    "        return lambda func: notifyr(func=func,\n",
    "                                    recipient_pubkey=recipient_pubkey,\n",
    "                                    relay_urls=relay_urls)\n",
    "\n",
    "   @functools.wraps(func)\n",
    "   def notifier(*args,**kwargs):\n",
    "      notifyr_client = Client(private_key_hex=notifyr_privkey_hex,\n",
    "                              relay_urls=relay_urls)\n",
    "      notifyr_pubkey_hex = notifyr_client.public_key.hex()\n",
    "      function_name = func.__name__\n",
    "      message = f'**process name**: {function_name} started!'\n",
    "      send_nostr_message(recipient_pubkey_hex=recipient_pubkey_hex,\n",
    "                         notifyr_client=notifyr_client,\n",
    "                         message=message)\n",
    "      try:\n",
    "         result = func(*args,**kwargs)\n",
    "         message = f'**process name**: {function_name}\\n' \\\n",
    "                   f'**finished** - preview of result:\\n' \\\n",
    "                   f'-----------------------------\\n\\n'\\\n",
    "                   f'{str(result)[:100]}'\n",
    "      except Exception as e:\n",
    "         result = e\n",
    "         message = f'**process name**: {function_name}\\n' \\\n",
    "                   f'**failed** with error:\\n\\t{type(e).__name__}: {e}'\n",
    "      send_nostr_message(recipient_pubkey_hex=recipient_pubkey_hex,\n",
    "                         notifyr_client=notifyr_client,\n",
    "                         message=message)\n",
    "      if issubclass(type(result), Exception):\n",
    "         raise result\n",
    "      else:\n",
    "         return result\n",
    "   notifier.notifyr_private_key = notifyr_privkey_hex\n",
    "   return notifier"
   ]
  },
  {
   "cell_type": "code",
   "execution_count": null,
   "metadata": {},
   "outputs": [],
   "source": [
    "#| export\n",
    "\n",
    "def notifyr(func=None, recipient_pubkey: str = None, relay_urls: list[str] = None):\n",
    "   \"\"\"A decorator that will set a nostr private key to `func.notifyr_privkey_hex\n",
    "   and use that key to send an encrypted message to it's own public key on the start\n",
    "   and termination of the decorated function. The output will send whether the function\n",
    "   runs completely or ends in an error with an informative message.\n",
    "\n",
    "   Parameters\n",
    "   ----------\n",
    "   func : function\n",
    "       the function to be decorated\n",
    "\n",
    "   Returns\n",
    "   -------\n",
    "   function\n",
    "       the decorated function\n",
    "\n",
    "   Raises\n",
    "   ------\n",
    "   e\n",
    "       if the function fails, else returns the function result\n",
    "   \"\"\"\n",
    "   notifyr_privkey_hex = get_notifyr_privkey()\n",
    "   if relay_urls is None:\n",
    "      relay_urls = ['wss://relay.damus.io',\n",
    "                    'wss://brb.io']\n",
    "   if recipient_pubkey is None:\n",
    "      recipient_pubkey_hex = \\\n",
    "         PrivateKey.from_hex(notifyr_privkey_hex).public_key.hex()\n",
    "   else:\n",
    "      recipient_pubkey_hex = convert_to_hex(recipient_pubkey)\n",
    "   notifyr_client = Client(private_key_hex=notifyr_privkey_hex,\n",
    "                           relay_urls=relay_urls)\n",
    "   if func is None:\n",
    "        return lambda func: notifyr(func=func,\n",
    "                                    recipient_pubkey=recipient_pubkey,\n",
    "                                    relay_urls=relay_urls)\n",
    "   @functools.wraps(func)\n",
    "   def notifier(*args,**kwargs):\n",
    "      function_name = func.__name__\n",
    "      message = f'**process name**: {function_name} started!'\n",
    "      send_nostr_message(recipient_pubkey_hex=recipient_pubkey_hex,\n",
    "                         notifyr_client=notifyr_client,\n",
    "                         message=message)\n",
    "      try:\n",
    "         result = func(*args,**kwargs)\n",
    "         message = f'**process name**: {function_name}\\n' \\\n",
    "                   f'**finished** - preview of result:\\n' \\\n",
    "                   f'-----------------------------\\n\\n'\\\n",
    "                   f'{str(result)[:100]}'\n",
    "      except Exception as e:\n",
    "         result = e\n",
    "         message = f'**process name**: {function_name}\\n' \\\n",
    "                   f'**failed** with error:\\n\\t{type(e).__name__}: {e}'\n",
    "      send_nostr_message(recipient_pubkey_hex=recipient_pubkey_hex,\n",
    "                         notifyr_client=notifyr_client,\n",
    "                         message=message)\n",
    "      if issubclass(type(result), Exception):\n",
    "         raise result\n",
    "      else:\n",
    "         return result\n",
    "   notifier.notifyr_private_key = notifyr_privkey_hex\n",
    "   return notifier"
   ]
  },
  {
   "attachments": {},
   "cell_type": "markdown",
   "metadata": {},
   "source": [
    "Now we can decorate a couple functions! "
   ]
  },
  {
   "cell_type": "code",
   "execution_count": null,
   "metadata": {},
   "outputs": [],
   "source": [
    "pubkey = PrivateKey.from_hex(get_private_key()).public_key.bech32()\n",
    "@notifyr(recipient_pubkey=pubkey, relay_urls=['ws://127.0.0.1:6969'])\n",
    "def success():\n",
    "    return True\n",
    "\n",
    "@notifyr\n",
    "def another_success():\n",
    "    return True\n",
    "\n",
    "@notifyr\n",
    "def raise_error():\n",
    "    raise Exception('Oh no! Process failed!')\n"
   ]
  },
  {
   "attachments": {},
   "cell_type": "markdown",
   "metadata": {},
   "source": [
    "And test a successful function"
   ]
  },
  {
   "cell_type": "code",
   "execution_count": null,
   "metadata": {},
   "outputs": [
    {
     "name": "stderr",
     "output_type": "stream",
     "text": [
      "/Users/ryanarmstrong/python/nostrfastr/nostrfastr/nostr.py:172: UserWarning: ws://127.0.0.1:6969 is not connected... removing relay.\n",
      "  warnings.warn(\n",
      "/Users/ryanarmstrong/python/nostrfastr/nostrfastr/client.py:479: UserWarning: the current implementation of messages should be used with caution\n",
      "                    see https://github.com/nostr-protocol/nips/issues/107\n",
      "  warnings.warn('''the current implementation of messages should be used with caution\n"
     ]
    },
    {
     "data": {
      "text/plain": [
       "True"
      ]
     },
     "execution_count": null,
     "metadata": {},
     "output_type": "execute_result"
    }
   ],
   "source": [
    "success()"
   ]
  },
  {
   "cell_type": "code",
   "execution_count": null,
   "metadata": {},
   "outputs": [
    {
     "name": "stderr",
     "output_type": "stream",
     "text": [
      "/Users/ryanarmstrong/python/nostrfastr/nostrfastr/client.py:479: UserWarning: the current implementation of messages should be used with caution\n",
      "                    see https://github.com/nostr-protocol/nips/issues/107\n",
      "  warnings.warn('''the current implementation of messages should be used with caution\n"
     ]
    },
    {
     "data": {
      "text/plain": [
       "True"
      ]
     },
     "execution_count": null,
     "metadata": {},
     "output_type": "execute_result"
    }
   ],
   "source": [
    "another_success()"
   ]
  },
  {
   "cell_type": "code",
   "execution_count": null,
   "metadata": {},
   "outputs": [
    {
     "data": {
      "text/plain": [
       "True"
      ]
     },
     "execution_count": null,
     "metadata": {},
     "output_type": "execute_result"
    }
   ],
   "source": [
    "another_success()"
   ]
  },
  {
   "attachments": {},
   "cell_type": "markdown",
   "metadata": {},
   "source": [
    "And test a failing function"
   ]
  },
  {
   "cell_type": "code",
   "execution_count": null,
   "metadata": {},
   "outputs": [],
   "source": [
    "from fastcore.test import test_fail"
   ]
  },
  {
   "cell_type": "code",
   "execution_count": null,
   "metadata": {},
   "outputs": [
    {
     "name": "stderr",
     "output_type": "stream",
     "text": [
      "/Users/ryanarmstrong/python/nostrfastr/nostrfastr/client.py:479: UserWarning: the current implementation of messages should be used with caution\n",
      "                    see https://github.com/nostr-protocol/nips/issues/107\n",
      "  warnings.warn('''the current implementation of messages should be used with caution\n"
     ]
    }
   ],
   "source": [
    "test_fail(raise_error)"
   ]
  },
  {
   "attachments": {},
   "cell_type": "markdown",
   "metadata": {},
   "source": [
    "Remember we can retrieve the private key to log into our messages from the keychain or from `success.notifyr_privkey_hex` or `raise_error.notifyr_privkey_hex`.\n",
    "\n",
    "In this case you will either have to trust me that it works... or verify for yourself!"
   ]
  },
  {
   "cell_type": "code",
   "execution_count": null,
   "metadata": {},
   "outputs": [],
   "source": [
    "#| hide\n",
    "import nbdev; nbdev.nbdev_export()"
   ]
  },
  {
   "cell_type": "code",
   "execution_count": null,
   "metadata": {},
   "outputs": [
    {
     "data": {
      "text/plain": [
       "'b6a56d9a3aff4a5e248d9ed031d971bed4b73bd1764704c422413c776232a473'"
      ]
     },
     "execution_count": null,
     "metadata": {},
     "output_type": "execute_result"
    }
   ],
   "source": [
    "success.notifyr_private_key"
   ]
  },
  {
   "cell_type": "code",
   "execution_count": null,
   "metadata": {},
   "outputs": [],
   "source": []
  }
 ],
 "metadata": {
  "kernelspec": {
   "display_name": "rebroadcastr-nbdev",
   "language": "python",
   "name": "python3"
  }
 },
 "nbformat": 4,
 "nbformat_minor": 2
}
