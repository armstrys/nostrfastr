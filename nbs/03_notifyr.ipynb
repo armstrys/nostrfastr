{
 "cells": [
  {
   "cell_type": "code",
   "execution_count": null,
   "metadata": {},
   "outputs": [],
   "source": [
    "#| default_exp notifyr"
   ]
  },
  {
   "cell_type": "code",
   "execution_count": null,
   "metadata": {},
   "outputs": [],
   "source": [
    "from nbdev.showdoc import *"
   ]
  },
  {
   "attachments": {},
   "cell_type": "markdown",
   "metadata": {},
   "source": [
    "# Nostr Notifyr\n",
    "\n",
    "> Using the basic client to make a simple notification bot to alert when a python function is done running or if it fails"
   ]
  },
  {
   "attachments": {},
   "cell_type": "markdown",
   "metadata": {},
   "source": [
    "## making a decorator that can send messages\n",
    "We are going to make a decorator that will store a private key in the keychain and send an encrypted message to itself. The private key will also be assigned to the decorated function as an attribute. The user can then log into any type of nostr client that can receive encrypted DMs to get notifications about python processing results or if the function errors out. Other projects like [knockknock](https://github.com/huggingface/knockknock) offer this sort of service, but take more leg work to get an account set up. Being able to randomly generate a Nostr private key makes this quick and painless.\n",
    "\n",
    "> **Note**: There is some concern about the safety of the current encrypted message implementation. Please do not use this module for any sort of secure communication. You can see a Github issue on the topic [here](https://github.com/nostr-protocol/nips/issues/107)"
   ]
  },
  {
   "cell_type": "code",
   "execution_count": null,
   "metadata": {},
   "outputs": [],
   "source": [
    "#| export\n",
    "\n",
    "from nostrfastr.client import Client\n",
    "import time"
   ]
  },
  {
   "attachments": {},
   "cell_type": "markdown",
   "metadata": {},
   "source": [
    "First let's make a helper function that will send the message"
   ]
  },
  {
   "cell_type": "code",
   "execution_count": null,
   "metadata": {},
   "outputs": [],
   "source": [
    "#| export\n",
    "\n",
    "def send_nostr_message(notifyr_client: Client, message: str) -> None:\n",
    "    \"\"\"a simple function that takes a client and a message and\n",
    "    sends the message to the client pubkey from the client pubkey\n",
    " \n",
    "    Parameters\n",
    "    ----------\n",
    "    notifyr_client : Client\n",
    "       A client class that will send an encrypted message for us\n",
    "    message : str\n",
    "       A message that will be encrypted and sent\n",
    "    \"\"\"\n",
    "    with notifyr_client:\n",
    "        recipient_pubkey_hex = notifyr_client.public_key.hex()\n",
    "        event = notifyr_client.event_encrypted_message(recipient_hex=recipient_pubkey_hex,\n",
    "                                                       message=message)\n",
    "        notifyr_client.publish_event(event)\n",
    "    pass\n"
   ]
  },
  {
   "attachments": {},
   "cell_type": "markdown",
   "metadata": {},
   "source": [
    "Next we are going to make helper functions to get and set credentials from `keyring`"
   ]
  },
  {
   "cell_type": "code",
   "execution_count": null,
   "metadata": {},
   "outputs": [],
   "source": [
    "#| export\n",
    "\n",
    "import keyring\n",
    "from nostrfastr.nostr import PrivateKey, PublicKey"
   ]
  },
  {
   "cell_type": "code",
   "execution_count": null,
   "metadata": {},
   "outputs": [
    {
     "data": {
      "text/markdown": [
       "---\n",
       "\n",
       "### set_password\n",
       "\n",
       ">      set_password (service_name:str, username:str, password:str)\n",
       "\n",
       "Set password for the user in the specified service."
      ],
      "text/plain": [
       "---\n",
       "\n",
       "### set_password\n",
       "\n",
       ">      set_password (service_name:str, username:str, password:str)\n",
       "\n",
       "Set password for the user in the specified service."
      ]
     },
     "execution_count": null,
     "metadata": {},
     "output_type": "execute_result"
    }
   ],
   "source": [
    "show_doc(keyring.set_password)"
   ]
  },
  {
   "cell_type": "code",
   "execution_count": null,
   "metadata": {},
   "outputs": [],
   "source": [
    "#| export\n",
    "\n",
    "def set_private_key(notifyr_privkey_hex: str) -> None:\n",
    "   \"\"\"Set the private key in the computer keyring\n",
    "\n",
    "   Parameters\n",
    "   ----------\n",
    "   notifyr_privkey_hex : str\n",
    "       nostr hex private key\n",
    "   \"\"\"\n",
    "   return keyring.set_password(service_name='nostr',\n",
    "                               username='notifyr',\n",
    "                               password=notifyr_privkey_hex)\n",
    "\n",
    "def get_private_key() -> str:\n",
    "    \"\"\"get the nostr hex private key from the computer key ring\n",
    "\n",
    "    Returns\n",
    "    -------\n",
    "    str\n",
    "        nostr hex private key\n",
    "    \"\"\"\n",
    "    return keyring.get_password(service_name='nostr',\n",
    "                                username='notifyr')\n",
    "\n",
    "def delete_private_key() -> None:\n",
    "    \"\"\"delete the nostr hex private key from the computer key ring.\n",
    "    This is not used in the decorator function, but may be used\n",
    "    if need for testing\n",
    "    \"\"\"\n",
    "    return keyring.delete_password(service_name='nostr',\n",
    "                                   username='notifyr')\n"
   ]
  },
  {
   "attachments": {},
   "cell_type": "markdown",
   "metadata": {},
   "source": [
    "Let's test setting and restoring the private key"
   ]
  },
  {
   "cell_type": "code",
   "execution_count": null,
   "metadata": {},
   "outputs": [],
   "source": [
    "#| hide\n",
    "current_machine_privkey = get_private_key()"
   ]
  },
  {
   "cell_type": "code",
   "execution_count": null,
   "metadata": {},
   "outputs": [],
   "source": [
    "delete_private_key()\n",
    "assert get_private_key() is None\n",
    "priv_key_hex = PrivateKey().hex()\n",
    "set_private_key(notifyr_privkey_hex = priv_key_hex)\n",
    "assert get_private_key() == priv_key_hex"
   ]
  },
  {
   "cell_type": "code",
   "execution_count": null,
   "metadata": {},
   "outputs": [],
   "source": [
    "#| hide\n",
    "if current_machine_privkey is not None:\n",
    "    set_private_key(notifyr_privkey_hex=current_machine_privkey)"
   ]
  },
  {
   "attachments": {},
   "cell_type": "markdown",
   "metadata": {},
   "source": [
    "Finally we write the decorator function complete with\n",
    " - nostr client handling\n",
    " - start message, success message, error message handling\n",
    " - and setting the private key to the decorator function for easy user access"
   ]
  },
  {
   "cell_type": "code",
   "execution_count": null,
   "metadata": {},
   "outputs": [],
   "source": [
    "#| export\n",
    "\n",
    "def notifyr(func):\n",
    "   \"\"\"A decorator that will set a nostr private key to `func.notifyr_privkey_hex\n",
    "   and use that key to send an encrypted message to it's own public key on the start\n",
    "   and termination of the decorated function. The output will send whether the function\n",
    "   runs completely or ends in an error with an informative message.\n",
    "\n",
    "   Parameters\n",
    "   ----------\n",
    "   func : function\n",
    "       the function to be decorated\n",
    "\n",
    "   Returns\n",
    "   -------\n",
    "   function\n",
    "       the decorated function\n",
    "\n",
    "   Raises\n",
    "   ------\n",
    "   e\n",
    "       if the function fails, else returns the function result\n",
    "   \"\"\"\n",
    "\n",
    "   notifyr_privkey_hex = get_private_key()\n",
    "   if notifyr_privkey_hex is None:\n",
    "      notifyr_privkey_hex = PrivateKey.hex()\n",
    "   set_private_key(notifyr_privkey_hex)\n",
    "   assert get_private_key() == notifyr_privkey_hex\n",
    "\n",
    "   def loud_process(*args,**kwargs):\n",
    "      notifyr_privkey_hex = get_private_key()\n",
    "      notifyr_client = Client(private_key_hex=notifyr_privkey_hex,\n",
    "                              relay_urls=['wss://relay.damus.io',\n",
    "                                          'wss://brb.io'])\n",
    "      notifyr_pubkey_hex = notifyr_client.public_key.hex()\n",
    "      function_name = func.__name__\n",
    "      message = 'process started!'\n",
    "      send_nostr_message(notifyr_client=notifyr_client,\n",
    "                         message=message)\n",
    "      try:\n",
    "         result = func(*args,**kwargs)\n",
    "         message = f'**process**: {function_name}\\n' \\\n",
    "                   f'**finished** with result of type:\\n\\t{type(result)}'\n",
    "      except Exception as e:\n",
    "         result = e\n",
    "         message = f'**process name**: {function_name}\\n' \\\n",
    "                   f'**failed** with error:\\n\\t{type(e).__name__}: {e}'\n",
    "      send_nostr_message(notifyr_client=notifyr_client,\n",
    "                         message=message)\n",
    "      if issubclass(type(result), Exception):\n",
    "         raise result\n",
    "      else:\n",
    "         return result\n",
    "   loud_process.notifyr_private_key = notifyr_privkey_hex\n",
    "   return loud_process"
   ]
  },
  {
   "attachments": {},
   "cell_type": "markdown",
   "metadata": {},
   "source": [
    "Now we can decorate a couple functions!"
   ]
  },
  {
   "cell_type": "code",
   "execution_count": null,
   "metadata": {},
   "outputs": [],
   "source": [
    "@notifyr\n",
    "def raise_error():\n",
    "    raise Exception('Oh no! Process failed!')\n",
    "\n",
    "@notifyr\n",
    "def success():\n",
    "    return True"
   ]
  },
  {
   "attachments": {},
   "cell_type": "markdown",
   "metadata": {},
   "source": [
    "And test a successful function"
   ]
  },
  {
   "cell_type": "code",
   "execution_count": null,
   "metadata": {},
   "outputs": [
    {
     "name": "stdout",
     "output_type": "stream",
     "text": [
      "logged in as public key\n",
      "\tbech32: npub1l9vydnkzgfpcfrtklw30kj0alhcyd3svgayrx26wa8n4tmr0zavq88gayp\n",
      "\thex: f95846cec24243848d76fba2fb49fdfdf046c60c4748332b4ee9e755ec6f1758\n"
     ]
    },
    {
     "name": "stderr",
     "output_type": "stream",
     "text": [
      "/Users/ryanarmstrong/python/nostrfastr/nostrfastr/client.py:482: UserWarning: the current implementation of messages should be used with caution\n",
      "                    see https://github.com/nostr-protocol/nips/issues/107\n",
      "  warnings.warn('''the current implementation of messages should be used with caution\n"
     ]
    },
    {
     "data": {
      "text/plain": [
       "True"
      ]
     },
     "execution_count": null,
     "metadata": {},
     "output_type": "execute_result"
    }
   ],
   "source": [
    "success()"
   ]
  },
  {
   "attachments": {},
   "cell_type": "markdown",
   "metadata": {},
   "source": [
    "And test a failing function"
   ]
  },
  {
   "cell_type": "code",
   "execution_count": null,
   "metadata": {},
   "outputs": [],
   "source": [
    "from fastcore.test import test_fail"
   ]
  },
  {
   "cell_type": "code",
   "execution_count": null,
   "metadata": {},
   "outputs": [
    {
     "name": "stdout",
     "output_type": "stream",
     "text": [
      "logged in as public key\n",
      "\tbech32: npub1l9vydnkzgfpcfrtklw30kj0alhcyd3svgayrx26wa8n4tmr0zavq88gayp\n",
      "\thex: f95846cec24243848d76fba2fb49fdfdf046c60c4748332b4ee9e755ec6f1758\n"
     ]
    },
    {
     "name": "stderr",
     "output_type": "stream",
     "text": [
      "/Users/ryanarmstrong/python/nostrfastr/nostrfastr/nostr.py:164: UserWarning: wss://brb.io is not connected... removing relay.\n",
      "  warnings.warn(\n",
      "/Users/ryanarmstrong/python/nostrfastr/nostrfastr/client.py:482: UserWarning: the current implementation of messages should be used with caution\n",
      "                    see https://github.com/nostr-protocol/nips/issues/107\n",
      "  warnings.warn('''the current implementation of messages should be used with caution\n"
     ]
    }
   ],
   "source": [
    "test_fail(raise_error)"
   ]
  },
  {
   "attachments": {},
   "cell_type": "markdown",
   "metadata": {},
   "source": [
    "Remember we can retrieve the private key to log into our messages from the keychain or from `success.notifyr_privkey_hex` or `raise_error.notifyr_privkey_hex`.\n",
    "\n",
    "In this case you will either have to trust me that it works... or verify for yourself!"
   ]
  },
  {
   "cell_type": "code",
   "execution_count": null,
   "metadata": {},
   "outputs": [],
   "source": [
    "#| hide\n",
    "import nbdev; nbdev.nbdev_export()"
   ]
  }
 ],
 "metadata": {
  "kernelspec": {
   "display_name": "rebroadcastr-nbdev",
   "language": "python",
   "name": "python3"
  }
 },
 "nbformat": 4,
 "nbformat_minor": 2
}
